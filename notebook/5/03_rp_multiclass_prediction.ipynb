{
 "cells": [
  {
   "cell_type": "markdown",
   "id": "8ba1e0d7",
   "metadata": {},
   "source": [
    "# Multi-Class Prediction of Cirrhosis Outcomes"
   ]
  },
  {
   "cell_type": "markdown",
   "id": "9339b9d4-5570-41ad-bb8c-10880fd98b31",
   "metadata": {},
   "source": [
    "https://www.kaggle.com/competitions/playground-series-s3e26/data?select=train.csv"
   ]
  },
  {
   "cell_type": "markdown",
   "id": "ce96817c",
   "metadata": {},
   "source": [
    "## 0 - IMPORTS AND FUNCTIONS"
   ]
  },
  {
   "cell_type": "code",
   "execution_count": null,
   "id": "c39cfa9f",
   "metadata": {
    "ExecuteTime": {
     "end_time": "2023-12-05T22:16:35.659362Z",
     "start_time": "2023-12-05T22:16:28.135892Z"
    }
   },
   "outputs": [],
   "source": [
    "# Data Analysis and Data Manipulation Libraries\n",
    "import pandas                  as pd\n",
    "import numpy                   as np\n",
    "import seaborn                 as sns\n",
    "import scikitplot              as skplt\n",
    "import matplotlib.pyplot       as plt\n",
    "import plotly.express          as px\n",
    "import inflection\n",
    "from ydata_profiling           import ProfileReport \n",
    "\n",
    "# Machine Learning Models\n",
    "import optuna\n",
    "from sklearn                   import ensemble        as en\n",
    "from sklearn.linear_model      import LogisticRegression\n",
    "from catboost                  import CatBoostClassifier\n",
    "from sklearn.neighbors         import KNeighborsClassifier\n",
    "import lightgbm                as lgbm\n",
    "\n",
    "from sklearn                   import model_selection as ms\n",
    "from sklearn                   import preprocessing   as pp\n",
    "from sklearn.model_selection   import  KFold, StratifiedKFold\n",
    "\n",
    "# Metrics and Performance\n",
    "from sklearn import metrics as mt\n",
    "\n",
    "# Data Transformer\n",
    "#from feature_engine.encoding       import CountFrequencyEncoder\n",
    "\n",
    "# Dysplay\n",
    "%matplotlib inline\n",
    "from IPython.core.display    import HTML\n",
    "from IPython.display         import Image\n",
    "\n",
    "import warnings\n",
    "warnings.filterwarnings( 'ignore' )"
   ]
  },
  {
   "cell_type": "markdown",
   "id": "43cdef58",
   "metadata": {},
   "source": [
    "### 0.1 - HELPER FUNCTIONS"
   ]
  },
  {
   "cell_type": "code",
   "execution_count": null,
   "id": "81f4d632",
   "metadata": {
    "ExecuteTime": {
     "end_time": "2023-12-05T22:16:35.667985Z",
     "start_time": "2023-12-05T22:16:35.662206Z"
    }
   },
   "outputs": [],
   "source": [
    "le = pp.LabelEncoder()\n",
    "ss = pp.StandardScaler()\n",
    "rr = pp.RobustScaler()"
   ]
  },
  {
   "cell_type": "code",
   "execution_count": null,
   "id": "6ab556ae",
   "metadata": {
    "ExecuteTime": {
     "end_time": "2023-12-05T22:16:42.356501Z",
     "start_time": "2023-12-05T22:16:42.334612Z"
    }
   },
   "outputs": [],
   "source": [
    "def data_trans(df_trans):\n",
    "    # CATEGORICAL VARIABLES\n",
    "    df_trans['drug']         = le.fit_transform( df_trans[['drug']].values )\n",
    "    df_trans['sex']          = le.fit_transform( df_trans[['sex']].values )\n",
    "    df_trans['ascites']      = le.fit_transform( df_trans[['ascites']].values )\n",
    "    df_trans['hepatomegaly'] = le.fit_transform( df_trans[['hepatomegaly']].values )\n",
    "    df_trans['spiders']      = le.fit_transform( df_trans[['spiders']].values )\n",
    "    df_trans['edema']        = le.fit_transform( df_trans[['edema']].values )\n",
    "    \n",
    "    # NUMERICAL VARIABLES\n",
    "    # STANDARD SCALER\n",
    "\n",
    "    #df_trans['n_days']    = ss.fit_transform( df_trans[['n_days']].values )\n",
    "    #df_trans['age']       = ss.fit_transform( df_trans[['age']].values )\n",
    "    #df_trans['albumin']   = ss.fit_transform( df_trans[['albumin']].values )\n",
    "    #df_trans['platelets'] = ss.fit_transform( df_trans[['platelets']].values )\n",
    "\n",
    "    # ROBUST SCALER\n",
    "    \n",
    "    #df_trans['bilirubin']     = rr.fit_transform( df_trans[['bilirubin']].values )\n",
    "    #df_trans['cholesterol']   = rr.fit_transform( df_trans[['cholesterol']].values )\n",
    "    #df_trans['copper']        = rr.fit_transform( df_trans[['copper']].values )\n",
    "    #df_trans['sgot']          = rr.fit_transform( df_trans[['sgot']].values )\n",
    "    #df_trans['tryglicerides'] = rr.fit_transform( df_trans[['tryglicerides']].values )\n",
    "    #df_trans['platelets']     = rr.fit_transform( df_trans[['platelets']].values )\n",
    "    #df_trans['prothrombin']   = rr.fit_transform( df_trans[['prothrombin']].values )\n",
    "    \n",
    "    #df_trans = df_trans[['bilirubin','n_days','copper', 'hepatomegaly','prothrombin']]\n",
    "    \n",
    "    return(df_trans)\n",
    "\n",
    "def jupyter_settings():\n",
    "    %matplotlib inline\n",
    "    \n",
    "    plt.style.use( 'bmh' )\n",
    "    plt.rcParams['figure.figsize'] = [18, 9]\n",
    "    plt.rcParams['font.size'] = 24\n",
    "    \n",
    "    display( HTML( '<style>.container { width:100% !important; }</style>') )\n",
    "    pd.options.display.max_columns = None\n",
    "    pd.options.display.max_rows = None\n",
    "    pd.set_option( 'display.expand_frame_repr', False )\n",
    "   \n",
    "    sns.set()\n",
    "jupyter_settings()"
   ]
  },
  {
   "cell_type": "code",
   "execution_count": null,
   "id": "4d2ca530",
   "metadata": {
    "ExecuteTime": {
     "end_time": "2023-12-05T22:16:46.399758Z",
     "start_time": "2023-12-05T22:16:46.392844Z"
    }
   },
   "outputs": [],
   "source": [
    "pd.set_option('display.float_format', lambda x: '%.6f' %x)"
   ]
  },
  {
   "cell_type": "markdown",
   "id": "82380eb7",
   "metadata": {
    "cell_style": "split"
   },
   "source": [
    "## 1 - DATAS"
   ]
  },
  {
   "cell_type": "code",
   "execution_count": null,
   "id": "c520d31c",
   "metadata": {
    "ExecuteTime": {
     "end_time": "2023-12-05T22:16:47.123103Z",
     "start_time": "2023-12-05T22:16:47.080620Z"
    }
   },
   "outputs": [],
   "source": [
    "# Train Datas - Windows\n",
    "df_raw = pd.read_csv('../data/train.csv')"
   ]
  },
  {
   "cell_type": "code",
   "execution_count": null,
   "id": "34df0288",
   "metadata": {
    "ExecuteTime": {
     "end_time": "2023-12-05T22:16:47.358012Z",
     "start_time": "2023-12-05T22:16:47.348916Z"
    }
   },
   "outputs": [],
   "source": [
    "## Renomeando as colunas, removendo letras maiusculas e substituindo espacos por _\n",
    "cols_old = ['id', 'N_Days', 'Drug', 'Age', 'Sex', 'Ascites', 'Hepatomegaly','Spiders', 'Edema', 'Bilirubin', 'Cholesterol', 'Albumin', 'Copper',\n",
    "            'Alk_Phos', 'SGOT', 'Tryglicerides', 'Platelets', 'Prothrombin','Stage', 'Status']\n",
    "\n",
    "snakecase = lambda x: inflection.underscore(x.replace(' ', '_'))\n",
    "cols_new = list( map( snakecase, cols_old ) )\n",
    "\n",
    "df_raw.columns = cols_new"
   ]
  },
  {
   "cell_type": "markdown",
   "id": "ca98eb9e",
   "metadata": {
    "jp-MarkdownHeadingCollapsed": true
   },
   "source": [
    "### 1.1 - DATASET SPLIT"
   ]
  },
  {
   "cell_type": "code",
   "execution_count": null,
   "id": "a77d765c",
   "metadata": {
    "ExecuteTime": {
     "end_time": "2023-12-05T22:16:48.430516Z",
     "start_time": "2023-12-05T22:16:48.405271Z"
    }
   },
   "outputs": [],
   "source": [
    "# Split dataset into train, test and validation datasets\n",
    "X = df_raw.drop( ['status'], axis=1 )\n",
    "y = df_raw['status'].copy()\n",
    "x_train, x_valid, y_train, y_valid = ms.train_test_split( X, y, test_size=0.20, random_state=42 )\n",
    "x_train, x_test, y_train, y_test   = ms.train_test_split( x_train, y_train, test_size=0.25, shuffle=True, random_state=42 )\n",
    "\n",
    "print(f\" x_train: {x_train.shape}/n y_train: {y_train.shape}/n x_valid: {x_valid.shape}/n y_valid: {y_valid.shape}/n x_test: {x_test.shape}/n y_test: {y_test.shape}/n\")"
   ]
  },
  {
   "cell_type": "code",
   "execution_count": null,
   "id": "5610b4c5",
   "metadata": {
    "ExecuteTime": {
     "end_time": "2023-12-05T21:48:35.209528Z",
     "start_time": "2023-12-05T21:48:35.192065Z"
    }
   },
   "outputs": [],
   "source": [
    "# Split dataset into train and validation datasets\n",
    "X = df_raw.drop( ['status'], axis=1 )\n",
    "y = df_raw['status'].copy()\n",
    "x_train, x_valid, y_train, y_valid = ms.train_test_split( X, y, test_size=0.20, random_state=42 )\n",
    "\n",
    "print(f\"x_train: {x_train.shape}/n y_train: {y_train.shape}/n x_valid: {x_valid.shape}/n y_valid: {y_valid.shape}/n\")"
   ]
  },
  {
   "cell_type": "markdown",
   "id": "c71cfb62",
   "metadata": {
    "heading_collapsed": true,
    "tags": []
   },
   "source": [
    "### 1.2 - DATA DESCRIPTION"
   ]
  },
  {
   "cell_type": "code",
   "execution_count": null,
   "id": "0b7c999f",
   "metadata": {
    "ExecuteTime": {
     "end_time": "2023-12-05T22:16:53.535100Z",
     "start_time": "2023-12-05T22:16:53.528256Z"
    },
    "hidden": true
   },
   "outputs": [],
   "source": [
    "df1 = df_raw.copy()"
   ]
  },
  {
   "cell_type": "code",
   "execution_count": null,
   "id": "9c2425e1",
   "metadata": {
    "ExecuteTime": {
     "end_time": "2023-12-05T22:16:54.176582Z",
     "start_time": "2023-12-05T22:16:54.170119Z"
    },
    "hidden": true
   },
   "outputs": [],
   "source": [
    "#prof = ProfileReport(df1)\n",
    "#rof.to_file(output_file='data_descriptive.html')"
   ]
  },
  {
   "cell_type": "code",
   "execution_count": null,
   "id": "5bc2588d",
   "metadata": {
    "ExecuteTime": {
     "end_time": "2023-12-05T22:16:54.878516Z",
     "start_time": "2023-12-05T22:16:54.871566Z"
    },
    "hidden": true
   },
   "outputs": [],
   "source": [
    "# Data Dimensions\n",
    "print( 'Number of Rows: {}'.format( df1.shape[0] ) )\n",
    "print( 'Number of Cols: {}'.format( df1.shape[1] ) )"
   ]
  },
  {
   "cell_type": "code",
   "execution_count": null,
   "id": "829c7ef3",
   "metadata": {
    "ExecuteTime": {
     "end_time": "2023-12-05T22:16:55.232470Z",
     "start_time": "2023-12-05T22:16:55.218813Z"
    },
    "hidden": true
   },
   "outputs": [],
   "source": [
    "# Data Types\n",
    "df1.dtypes"
   ]
  },
  {
   "cell_type": "code",
   "execution_count": null,
   "id": "b4281e02",
   "metadata": {
    "ExecuteTime": {
     "end_time": "2023-12-05T22:16:55.538896Z",
     "start_time": "2023-12-05T22:16:55.513685Z"
    },
    "hidden": true
   },
   "outputs": [],
   "source": [
    "# Check NAN Values\n",
    "df1.isna().sum()"
   ]
  },
  {
   "cell_type": "markdown",
   "id": "26fa0687",
   "metadata": {
    "heading_collapsed": true,
    "tags": []
   },
   "source": [
    "### 1.3 - DATA DESCRIPTIVE"
   ]
  },
  {
   "cell_type": "code",
   "execution_count": null,
   "id": "4079e9d8",
   "metadata": {
    "ExecuteTime": {
     "end_time": "2023-12-05T21:24:42.935189Z",
     "start_time": "2023-12-05T21:24:42.907137Z"
    },
    "hidden": true
   },
   "outputs": [],
   "source": [
    "df1.info()"
   ]
  },
  {
   "cell_type": "code",
   "execution_count": null,
   "id": "13c5519b",
   "metadata": {
    "ExecuteTime": {
     "end_time": "2023-12-05T21:24:43.292971Z",
     "start_time": "2023-12-05T21:24:43.227486Z"
    },
    "hidden": true
   },
   "outputs": [],
   "source": [
    "df1.describe().T"
   ]
  },
  {
   "cell_type": "code",
   "execution_count": null,
   "id": "d95336af",
   "metadata": {
    "ExecuteTime": {
     "end_time": "2023-12-05T22:10:24.033436Z",
     "start_time": "2023-12-05T22:10:24.027213Z"
    },
    "hidden": true
   },
   "outputs": [],
   "source": [
    "# Select columns where the content is different 0 or 1.\n",
    "# numerical features\n",
    "num_attributes = df1.select_dtypes(include=['int64', 'float64'])\n",
    "\n",
    "# categorical features\n",
    "cat_attributes = df1.select_dtypes(exclude=['int64', 'float64'])"
   ]
  },
  {
   "cell_type": "code",
   "execution_count": null,
   "id": "378e2b7a",
   "metadata": {
    "ExecuteTime": {
     "end_time": "2023-12-05T21:24:51.288966Z",
     "start_time": "2023-12-05T21:24:44.660846Z"
    },
    "hidden": true
   },
   "outputs": [],
   "source": [
    "num_attributes.hist(bins=25);\n",
    "plt.tight_layout()"
   ]
  },
  {
   "cell_type": "code",
   "execution_count": null,
   "id": "5d236678",
   "metadata": {
    "ExecuteTime": {
     "end_time": "2023-12-05T21:24:51.410059Z",
     "start_time": "2023-12-05T21:24:51.292978Z"
    },
    "hidden": true
   },
   "outputs": [],
   "source": [
    "# Central Tendency - mean, median\n",
    "ct1 = pd.DataFrame( num_attributes.apply( np.mean ) ).T\n",
    "ct2 = pd.DataFrame( num_attributes.apply( np.median ) ).T\n",
    "\n",
    "# Dispersion - std, min, max, range, skew, kurtosis\n",
    "d1 = pd.DataFrame( num_attributes.apply( np.std ) ).T\n",
    "d2 = pd.DataFrame( num_attributes.apply( min ) ).T\n",
    "d3 = pd.DataFrame( num_attributes.apply( max ) ).T\n",
    "d4 = pd.DataFrame( num_attributes.apply( lambda x: x.max() - x.min() ) ).T\n",
    "d5 = pd.DataFrame( num_attributes.apply( lambda x: x.skew() ) ).T\n",
    "d6 = pd.DataFrame( num_attributes.apply( lambda x: x.kurtosis() ) ).T\n",
    "\n",
    "# Concatenar\n",
    "m = pd.concat( [ d2, d3, d4, ct1, ct2, d1, d5, d6 ] ).T.reset_index()\n",
    "m.columns = ['attributes', 'min', 'max', 'range', 'mean', 'median', 'std', 'skew', 'kurtosis']\n",
    "m"
   ]
  },
  {
   "cell_type": "markdown",
   "id": "8a2a7dd3",
   "metadata": {
    "heading_collapsed": true,
    "tags": []
   },
   "source": [
    "# 2 - FEATURE ENGINEERING"
   ]
  },
  {
   "cell_type": "code",
   "execution_count": null,
   "id": "4c5331f0-6083-4825-add1-88ef624c60a7",
   "metadata": {
    "ExecuteTime": {
     "end_time": "2023-12-05T21:24:51.416723Z",
     "start_time": "2023-12-05T21:24:51.412605Z"
    },
    "hidden": true
   },
   "outputs": [],
   "source": [
    "df2 = df1.copy()"
   ]
  },
  {
   "cell_type": "markdown",
   "id": "05338a2e",
   "metadata": {
    "heading_collapsed": true,
    "tags": []
   },
   "source": [
    "# 3 - DATA FILTERING"
   ]
  },
  {
   "cell_type": "code",
   "execution_count": null,
   "id": "26c2e485",
   "metadata": {
    "ExecuteTime": {
     "end_time": "2023-12-05T21:24:54.046592Z",
     "start_time": "2023-12-05T21:24:54.037553Z"
    },
    "hidden": true
   },
   "outputs": [],
   "source": [
    "df3 = df2.copy()"
   ]
  },
  {
   "cell_type": "markdown",
   "id": "2a69264e",
   "metadata": {
    "heading_collapsed": true,
    "tags": []
   },
   "source": [
    "# 4 - EXPLORATORY DATA ANALYSIS (EDA)"
   ]
  },
  {
   "cell_type": "code",
   "execution_count": null,
   "id": "289d64ea",
   "metadata": {
    "ExecuteTime": {
     "end_time": "2023-12-05T21:24:56.547013Z",
     "start_time": "2023-12-05T21:24:56.541321Z"
    },
    "hidden": true
   },
   "outputs": [],
   "source": [
    "df4 = df3.copy()"
   ]
  },
  {
   "cell_type": "markdown",
   "id": "1056e2c3",
   "metadata": {
    "heading_collapsed": true,
    "hidden": true,
    "jp-MarkdownHeadingCollapsed": true
   },
   "source": [
    "### 4.1 - UNIVARIATE ANALYSIS"
   ]
  },
  {
   "cell_type": "code",
   "execution_count": null,
   "id": "bce1001a",
   "metadata": {
    "ExecuteTime": {
     "end_time": "2023-12-05T20:53:27.715950Z",
     "start_time": "2023-12-05T20:53:27.694679Z"
    },
    "hidden": true
   },
   "outputs": [],
   "source": [
    "# DRUG\n",
    "aux = df1[['id','drug','status']].groupby(['status','drug'] ).count().reset_index()\n",
    "aux"
   ]
  },
  {
   "cell_type": "code",
   "execution_count": null,
   "id": "dc12478e",
   "metadata": {
    "ExecuteTime": {
     "end_time": "2023-12-05T20:53:59.526817Z",
     "start_time": "2023-12-05T20:53:59.506409Z"
    },
    "hidden": true
   },
   "outputs": [],
   "source": [
    "# SEX\n",
    "aux_one = df1[['id','sex','status']].groupby(['status','sex'] ).count().reset_index()\n",
    "aux_one"
   ]
  },
  {
   "cell_type": "code",
   "execution_count": null,
   "id": "816b0ea4",
   "metadata": {
    "ExecuteTime": {
     "end_time": "2023-12-05T20:56:42.929839Z",
     "start_time": "2023-12-05T20:56:42.912544Z"
    },
    "hidden": true
   },
   "outputs": [],
   "source": [
    "# ASCITES\n",
    "aux_two = df1[['id','ascites','status']].groupby(['status','ascites'] ).count().reset_index()\n",
    "aux_two"
   ]
  },
  {
   "cell_type": "code",
   "execution_count": null,
   "id": "6ff2f187",
   "metadata": {
    "ExecuteTime": {
     "end_time": "2023-12-05T20:56:45.600139Z",
     "start_time": "2023-12-05T20:56:45.578435Z"
    },
    "hidden": true
   },
   "outputs": [],
   "source": [
    "# HEPATOMEGALY\n",
    "aux_three = df1[['id','hepatomegaly','status']].groupby(['status','hepatomegaly'] ).count().reset_index()\n",
    "aux_three"
   ]
  },
  {
   "cell_type": "code",
   "execution_count": null,
   "id": "b303115e",
   "metadata": {
    "ExecuteTime": {
     "end_time": "2023-12-05T20:56:47.400479Z",
     "start_time": "2023-12-05T20:56:47.382443Z"
    },
    "hidden": true
   },
   "outputs": [],
   "source": [
    "# SPIDERS\n",
    "aux_four = df1[['id','spiders','status']].groupby(['status','spiders'] ).count().reset_index()\n",
    "aux_four"
   ]
  },
  {
   "cell_type": "code",
   "execution_count": null,
   "id": "0511b023",
   "metadata": {
    "ExecuteTime": {
     "end_time": "2023-12-05T20:56:49.505292Z",
     "start_time": "2023-12-05T20:56:49.483645Z"
    },
    "hidden": true
   },
   "outputs": [],
   "source": [
    "# EDEMA\n",
    "aux_five = df1[['id','edema','status']].groupby(['status','edema'] ).count().reset_index()\n",
    "aux_five"
   ]
  },
  {
   "cell_type": "markdown",
   "id": "35dd946a",
   "metadata": {
    "heading_collapsed": true,
    "hidden": true,
    "jp-MarkdownHeadingCollapsed": true
   },
   "source": [
    "### 4.2 - BIVARIATE ANALYSIS"
   ]
  },
  {
   "cell_type": "code",
   "execution_count": null,
   "id": "c3a3ca58",
   "metadata": {
    "ExecuteTime": {
     "end_time": "2023-09-18T21:42:02.339335Z",
     "start_time": "2023-09-18T21:42:02.206282Z"
    },
    "hidden": true
   },
   "outputs": [],
   "source": [
    "#1.The interest on purchase the vehicle insurance is greater for customers that damaged their vehicle before and doesn't have insurance. (FALSE)\n",
    "d1 = df4[( df4['previously_insured'] == 0) & (df4['vehicle_damage'] == 1)]\n",
    "\n",
    "ax1 = d1[['response','id']].groupby('response').count().reset_index()\n",
    "ax1['percentage'] = round(ax1['id'] / d1['id'].count()*100)\n",
    "ax1['response'] = ax1['response'].apply(lambda x: 'No' if (x == 0) else 'Yes')\n",
    "\n",
    "# Bar chart\n",
    "fig1 = px.bar(ax1, x='response', \n",
    "              y='percentage', \n",
    "              color='response', \n",
    "              text='percentage', \n",
    "              width=1500,\n",
    "              height=650,\n",
    "              color_discrete_sequence=px.colors.qualitative.Pastel2)\n",
    "fig1.update_traces(texttemplate='%{text:.2s}', \n",
    "                   textposition='outside')\n",
    "fig1.update_layout(title_text=\"Hypothesis 1: Purchase Interest vs Vehicle Damage.\", \n",
    "                   title_x=0.25,\n",
    "                   font=dict(size=20))\n",
    "fig1.show()"
   ]
  },
  {
   "cell_type": "markdown",
   "id": "9ba291bb",
   "metadata": {
    "hidden": true
   },
   "source": [
    "Hiphotesys is false once 75% of customers doesn't show interest in buying the vehicle insurance. "
   ]
  },
  {
   "cell_type": "code",
   "execution_count": null,
   "id": "c3ba18b9",
   "metadata": {
    "ExecuteTime": {
     "end_time": "2023-09-18T21:43:38.099738Z",
     "start_time": "2023-09-18T21:43:37.917449Z"
    },
    "hidden": true
   },
   "outputs": [],
   "source": [
    "# 2. The interest on purchase the vehicle insurance is greater for woman than men. (FALSE)\n",
    "ax2 = pd.crosstab(df4['gender'], df4['response'])\n",
    "ax2['percentage'] = round(ax2[1]/(ax2[0]+ax2[1])*100)\n",
    "\n",
    "# Creating new dataframe for a bar chart\n",
    "aux2 = [['Female', 10],['Male',14]]\n",
    "aux2_df = pd.DataFrame(aux2, columns=['gender','percentage'])\n",
    "\n",
    "# Bar chart\n",
    "fig = px.bar(aux2_df, \n",
    "             x='gender', \n",
    "             y='percentage', \n",
    "             color='gender', \n",
    "             text='percentage',\n",
    "             width=1500,\n",
    "             height=650, \n",
    "             color_discrete_sequence=px.colors.qualitative.Pastel2)\n",
    "fig.update_traces(texttemplate='%{text:.2s}', \n",
    "                  textposition='outside')\n",
    "fig.update_layout(title_text=\"Hypothesis 2: Purchase Interest vs Gender.\", \n",
    "                   title_x=0.25,\n",
    "                   font=dict(size=20))\n",
    "fig.show()\n"
   ]
  },
  {
   "cell_type": "markdown",
   "id": "63466f6e",
   "metadata": {
    "ExecuteTime": {
     "end_time": "2023-02-06T11:48:00.108723Z",
     "start_time": "2023-02-06T11:48:00.090301Z"
    },
    "hidden": true
   },
   "source": [
    "Hiphotesys is false once 14% of the men show interest in buying the vehicle insurance against 10% of women. "
   ]
  },
  {
   "cell_type": "markdown",
   "id": "b1b928bb",
   "metadata": {
    "hidden": true
   },
   "source": [
    "Hiphotesys is false, according the analysis, the period that the customers are with the company doesn't affect the interest in buying vehicle insurance. "
   ]
  },
  {
   "cell_type": "code",
   "execution_count": null,
   "id": "efb96e3e",
   "metadata": {
    "ExecuteTime": {
     "end_time": "2023-09-18T21:43:51.126662Z",
     "start_time": "2023-09-18T21:43:50.956176Z"
    },
    "hidden": true
   },
   "outputs": [],
   "source": [
    "# 3. The interest on purchase the vehicle insurance is greater for customers that spend less than 30k for annual premium.\n",
    "aux5 = df4[df4['annual_premium'] > 30000][['id','response']]\n",
    "aux6 = df4[df4['annual_premium'] <= 30000][['id','response']]\n",
    "\n",
    "# Percentage of interested customers that spend more than 30k in annual premium\n",
    "aux16 = aux5[['response','id']].groupby('response').count().reset_index()\n",
    "aux16['percentage'] = round( aux16['id'] / aux5.shape[0] * 100 )\n",
    "\n",
    "# Percentage of interested customers that spend less than 30k in annual premium\n",
    "aux17 = aux6[['response','id']].groupby('response').count().reset_index()\n",
    "aux17['percentage'] = round( aux17['id'] / aux6.shape[0] * 100 )\n",
    "\n",
    "# Creating new dataframe for a bar chart\n",
    "ax4 = [['30k or more in annual premium', 13],['30k or less in annual premium', 11]]\n",
    "ax4_df = pd.DataFrame(ax4, columns=['annual_premium','percentage'])\n",
    "\n",
    "# Bar chart\n",
    "fig = px.bar(ax4_df,\n",
    "             x='annual_premium',\n",
    "             y='percentage', \n",
    "             color='annual_premium', \n",
    "             text='percentage', \n",
    "             width=1500, \n",
    "             height=650, \n",
    "             color_discrete_sequence=px.colors.qualitative.Pastel2)\n",
    "fig.update_traces(texttemplate='%{text:.2s}',\n",
    "                  textposition='outside')\n",
    "fig.update_layout(title_text=\"Hypothesis 3: Purchase Interest vs Annual Premium\",\n",
    "                  title_x=0.17,\n",
    "                  font=dict(size=20))\n",
    "fig.show()"
   ]
  },
  {
   "cell_type": "markdown",
   "id": "10b6b208",
   "metadata": {
    "hidden": true
   },
   "source": [
    "False, customers that spend more than 30k yearly show greter interest on purchase vehicle insurance."
   ]
  },
  {
   "cell_type": "code",
   "execution_count": null,
   "id": "ea3171df",
   "metadata": {
    "ExecuteTime": {
     "end_time": "2023-09-18T21:44:48.409970Z",
     "start_time": "2023-09-18T21:44:48.248845Z"
    },
    "hidden": true
   },
   "outputs": [],
   "source": [
    "# 4. The interest on purchase the vehicle insurance is greater for customers that have driver license.\n",
    "aux9 = pd.crosstab(df4['driving_license'], df4['response'])\n",
    "aux9['percentage'] = round(aux9[1]/(aux9[0]+aux9[1])*100)\n",
    "\n",
    "# Creating new dataframe for a bar chart\n",
    "ax9 = [['No', 5 ],['Yes', 12]]\n",
    "ax9_df = pd.DataFrame(ax9, columns=['driving_license','percentage'])\n",
    "\n",
    "# Bar chart\n",
    "fig = px.bar(ax9_df, \n",
    "             x='driving_license', \n",
    "             y='percentage', \n",
    "             color='driving_license', \n",
    "             text='percentage', \n",
    "             width=1500,\n",
    "             height=650, \n",
    "             color_discrete_sequence=px.colors.qualitative.Pastel2 )\n",
    "fig.update_traces(texttemplate='%{text:.2s}', \n",
    "                  textposition='outside')\n",
    "fig.update_layout(title_text=\"Hypothesis 4: Purchase Interest vs Driving License.\", \n",
    "                  title_x=0.25,\n",
    "                  font=dict(size=20))\n",
    "fig.show()"
   ]
  },
  {
   "cell_type": "code",
   "execution_count": null,
   "id": "3a73549c",
   "metadata": {
    "ExecuteTime": {
     "end_time": "2023-09-18T21:45:43.336429Z",
     "start_time": "2023-09-18T21:45:43.159942Z"
    },
    "hidden": true
   },
   "outputs": [],
   "source": [
    "# 5. The interest on purchase the vehicle insurance is greater for customers that have new cars.\n",
    "aux10 = pd.crosstab(df4['vehicle_age'], df4['response'])\n",
    "aux10['percentage'] = round(aux10[1]/(aux10[0]+aux10[1])*100)\n",
    "\n",
    "# Creating new dataframe for a bar chart\n",
    "ax10 = [['New', 4 ],['Used', 17],['Old', 29]]\n",
    "ax10_df = pd.DataFrame(ax10, columns=['vehicle_age','percentage'])\n",
    "\n",
    "# Bar chart\n",
    "fig = px.bar(ax10_df, \n",
    "             x='vehicle_age', \n",
    "             y='percentage', \n",
    "             color='vehicle_age', \n",
    "             text='percentage',\n",
    "             width=1500,\n",
    "             height=650,\n",
    "             color_discrete_sequence=px.colors.qualitative.Pastel2)\n",
    "fig.update_traces(texttemplate='%{text:.2s}', \n",
    "                  textposition='outside')\n",
    "fig.update_layout(title_text=\"Hypothesis 5: Purchase Interest vs Vehicle Age.\", \n",
    "                   title_x=0.25,\n",
    "                   font=dict(size=20))\n",
    "fig.show()"
   ]
  },
  {
   "cell_type": "code",
   "execution_count": null,
   "id": "36101afa",
   "metadata": {
    "ExecuteTime": {
     "end_time": "2023-09-18T21:47:03.124508Z",
     "start_time": "2023-09-18T21:47:02.970842Z"
    },
    "hidden": true
   },
   "outputs": [],
   "source": [
    "# 6. The interest on purchase the vehicle insurance is greater for customers that have new cars and have damaged their vehicles.\n",
    "aux11 = df4[(df4['vehicle_damage'] == 1 )]\n",
    "aux12 = pd.crosstab(aux11['vehicle_age'], aux11['response'])\n",
    "aux12['percentage'] = round(aux12[1]/(aux12[0]+aux12[1])*100)\n",
    "\n",
    "# Creating new dataframe for a bar chart\n",
    "ax11 = [['New', 14 ],['Used', 27],['Old', 29]]\n",
    "ax11_df = pd.DataFrame(ax11, columns=['vehicle_age','percentage'])\n",
    "\n",
    "# Bar chart\n",
    "fig = px.bar(ax11_df, \n",
    "             x='vehicle_age', \n",
    "             y='percentage', \n",
    "             color='vehicle_age', \n",
    "             text='percentage',\n",
    "             width=1500,\n",
    "             height=650, \n",
    "             color_discrete_sequence=px.colors.qualitative.Pastel2)\n",
    "fig.update_traces(texttemplate='%{text:.2s}', \n",
    "                  textposition='outside')\n",
    "fig.update_layout(title_text=\"Hypothesis 6: Purchase Interest vs New (damaged) cars.\", \n",
    "                   title_x=0.25,\n",
    "                   font=dict(size=20))\n",
    "fig.show()"
   ]
  },
  {
   "cell_type": "code",
   "execution_count": null,
   "id": "ab602a47",
   "metadata": {
    "ExecuteTime": {
     "end_time": "2023-09-18T21:48:09.017084Z",
     "start_time": "2023-09-18T21:48:08.819176Z"
    },
    "hidden": true
   },
   "outputs": [],
   "source": [
    "# 7. The interest on purchase the vehicle insurance is lower for customers that are already insured.\n",
    "aux15 = pd.crosstab(df4['previously_insured'], df4['response'])\n",
    "aux15['percentage'] = round(aux15[1]/(aux15[0]+aux15[1])*100)\n",
    "aux15\n",
    "\n",
    "# Creating new dataframe for a bar chart\n",
    "ax14 = [['No', 23 ],['Yes', 0]] \n",
    "ax14_df = pd.DataFrame(ax14, columns=['previously_insured','percentage'])\n",
    "\n",
    "# Bar chart\n",
    "fig = px.bar(ax14_df, \n",
    "             x='previously_insured', \n",
    "             y='percentage', \n",
    "             color='previously_insured', \n",
    "             text='percentage',\n",
    "             width = 1500,\n",
    "             height=650, \n",
    "             color_discrete_sequence=px.colors.qualitative.Pastel2)\n",
    "fig.update_traces(texttemplate='%{text:.2s}', \n",
    "                  textposition='outside')\n",
    "fig.update_layout(title_text=\"Hypothesis 7: Purchase Interest vs Previusly Insured.\", \n",
    "                   title_x=0.25,\n",
    "                   font=dict(size=20))\n",
    "fig.show()\n"
   ]
  },
  {
   "cell_type": "markdown",
   "id": "04d10796",
   "metadata": {
    "hidden": true
   },
   "source": [
    "**Hypothesis Validation**\n",
    "\n",
    "1. The interest on purchase the vehicle insurance is greater for customers that damaged their vehicle before and doesn't have insurance.\n",
    "    **False, of the customers that damaged their car and doesn't have insurance, only 25% show interest in acquire vehicle insurance.**\n",
    "\n",
    "2. The interest on purchase the vehicle insurance is greater for woman than men.\n",
    "    **False, only 10% of women show interest in acquire vehicle insurance, whereas 13% of the men show interest on acquire vehicle insurance.**\n",
    "\n",
    "3. The interest on purchase vehicle insurance is greater for vintage customers ( 7 months or more ).\n",
    "    **False, the period that customers are on the company doensn't show influency on interest in buying vehicle insurance.**\n",
    "\n",
    "4. The interest on purchase the vehicle insurance is greater for young customers.(Between 18 and 30 years old.)\n",
    "    **False, customers that spend more than 30k yearly show greter interest on purchase vehicle insurance.**\n",
    "\n",
    "5. The interest on purchase the vehicle insurance is greater for young customers.(Between 18 and 30 years old.)\n",
    "    **False, adults and elderlies show greater interest on buying vehicle insurance.**\n",
    "\n",
    "6. The interest on purchase the vehicle insurance is greater for customers that have driver license.\n",
    "    **True, arround 12% of customers that hold a driving license show interest in buying the vehicle insurance.**\n",
    "\n",
    "7. The interest on purchase the vehicle insurance is greater for customers that have new cars.\n",
    "    **False, the interest is greater for customers that own an old car.**\n",
    "\n",
    "8. The interest on purchase the vehicle insurance is greater for customers that have new cars and have damaged their vehicles.\n",
    "    **False, of the customers who damaged their car, the ones that own a old car show greater interest in buying the vehicle insurance (29%), followed by customers that own used cars (27%).**\n",
    "\n",
    "9. The interest on purchase the vehicle insurance is greater for elderly women.\n",
    "    **False, adult women show greater interest in buying the vehicle insurance.**\n",
    "\n",
    "10. The interest on purchase the vehicle insurance is lower for customers that are already insured.\n",
    "    **True, less than 1% of customers already insured show interest on purchase the vehicle insurance.**\n"
   ]
  },
  {
   "cell_type": "markdown",
   "id": "90475f72",
   "metadata": {
    "heading_collapsed": true,
    "hidden": true,
    "jp-MarkdownHeadingCollapsed": true
   },
   "source": [
    "### 4.3 - MULTIVARIATE ANALYSIS"
   ]
  },
  {
   "cell_type": "code",
   "execution_count": null,
   "id": "59da86da",
   "metadata": {
    "ExecuteTime": {
     "end_time": "2023-12-05T21:01:09.419498Z",
     "start_time": "2023-12-05T21:01:07.471464Z"
    },
    "hidden": true
   },
   "outputs": [],
   "source": [
    "correlation = df4.corr().round(2)\n",
    "plt.figure(figsize = (14,7))\n",
    "sns.heatmap(correlation, annot = True)"
   ]
  },
  {
   "cell_type": "markdown",
   "id": "550169f4",
   "metadata": {},
   "source": [
    "# 5 - DATA PREPARATION"
   ]
  },
  {
   "cell_type": "markdown",
   "id": "c0464ff6",
   "metadata": {},
   "source": [
    "n_days - standard_scaler\n",
    "age    - parece que esta em dias, posso transformar em anos, standard_scaler\n",
    "bilirubin - tem outliers, que parecem parte do processo. Aplicar robust_scaller ou filtrar valore e usar apenas menores que 10.\n",
    "cholesterol - tem outliers, que parecem parte do processo. Aplicar robust_scaller\n",
    "albumin - standard_scaler\n",
    "copper - Aplicar robust_scaller\n",
    "alk_phos - Aplicar robust_scaller\n",
    "sgot - Aplicar robust_scaller\n",
    "tryglicerides - Aplicar robust_scaller\n",
    "platelets - standard_scaler\n",
    "prothrombin - Aplicar robust_scaller"
   ]
  },
  {
   "cell_type": "code",
   "execution_count": null,
   "id": "ee414537-ff95-4cc6-8b22-d3f6296ecb01",
   "metadata": {
    "ExecuteTime": {
     "end_time": "2023-12-05T21:25:04.439871Z",
     "start_time": "2023-12-05T21:25:04.433293Z"
    }
   },
   "outputs": [],
   "source": [
    "df5 = df4.copy()"
   ]
  },
  {
   "cell_type": "code",
   "execution_count": null,
   "id": "e6b3636d",
   "metadata": {
    "ExecuteTime": {
     "end_time": "2023-12-05T21:25:32.657237Z",
     "start_time": "2023-12-05T21:25:32.621557Z"
    }
   },
   "outputs": [],
   "source": [
    "# ENCODER\n",
    "le = pp.LabelEncoder()\n",
    "\n",
    "df5['drug'] = le.fit_transform( df5[['drug']].values )\n",
    "df5['sex'] = le.fit_transform( df5[['sex']].values )\n",
    "df5['ascites'] = le.fit_transform( df5[['ascites']].values )\n",
    "df5['hepatomegaly'] = le.fit_transform( df5[['hepatomegaly']].values )\n",
    "df5['spiders'] = le.fit_transform( df5[['spiders']].values )\n",
    "df5['edema'] = le.fit_transform( df5[['edema']].values )"
   ]
  },
  {
   "cell_type": "code",
   "execution_count": null,
   "id": "313217ce",
   "metadata": {
    "ExecuteTime": {
     "end_time": "2023-12-05T21:25:11.933731Z",
     "start_time": "2023-12-05T21:25:11.933731Z"
    }
   },
   "outputs": [],
   "source": [
    "# STANDARD SCALER\n",
    "ss = pp.StandardScaler()\n",
    "\n",
    "df5['n_days'] = ss.fit_transform( df5[['n_days']].values )\n",
    "df5['age']    = ss.fit_transform( df5[['age']].values )\n",
    "df5['albumin'] = ss.fit_transform( df5[['albumin']].values )\n",
    "df5['platelets'] = ss.fit_transform( df5[['platelets']].values )\n",
    "\n",
    "\n",
    "# ROBUST SCALER\n",
    "rr = pp.RobustScaler()\n",
    "df5['bilirubin'] = rr.fit_transform( df5[['bilirubin']].values )\n",
    "df5['cholesterol'] = rr.fit_transform( df5[['cholesterol']].values )\n",
    "df5['copper'] = rr.fit_transform( df5[['copper']].values )\n",
    "df5['sgot'] = rr.fit_transform( df5[['sgot']].values )\n",
    "df5['tryglicerides'] = rr.fit_transform( df5[['tryglicerides']].values )\n",
    "df5['platelets'] = rr.fit_transform( df5[['platelets']].values )\n",
    "df5['prothrombin'] = rr.fit_transform( df5[['prothrombin']].values )"
   ]
  },
  {
   "cell_type": "code",
   "execution_count": null,
   "id": "188ae3d3",
   "metadata": {
    "ExecuteTime": {
     "end_time": "2023-12-05T22:17:04.199921Z",
     "start_time": "2023-12-05T22:17:04.142577Z"
    }
   },
   "outputs": [],
   "source": [
    "x_training   = data_trans(x_train)\n",
    "x_validation = data_trans(x_valid)\n",
    "x_testing    = data_trans(x_test)"
   ]
  },
  {
   "cell_type": "markdown",
   "id": "d4b3e2ea-e83b-4f8f-9ac9-c52ec8112282",
   "metadata": {
    "heading_collapsed": true
   },
   "source": [
    "# 6 - FEATURE SELECTION"
   ]
  },
  {
   "cell_type": "code",
   "execution_count": null,
   "id": "6de0d556-ba11-4965-8546-330f70589c6d",
   "metadata": {
    "ExecuteTime": {
     "end_time": "2023-12-05T21:48:58.147512Z",
     "start_time": "2023-12-05T21:48:58.142005Z"
    },
    "hidden": true
   },
   "outputs": [],
   "source": [
    "df6 = x_train.copy()"
   ]
  },
  {
   "cell_type": "code",
   "execution_count": null,
   "id": "3fb83e68",
   "metadata": {
    "ExecuteTime": {
     "end_time": "2023-12-05T21:49:07.394859Z",
     "start_time": "2023-12-05T21:49:05.479201Z"
    },
    "hidden": true
   },
   "outputs": [],
   "source": [
    "# model definition\n",
    "forest = en.ExtraTreesClassifier( n_estimators=500, random_state=0, n_jobs=-1 )\n",
    "\n",
    "# data preparation\n",
    "df6_n = df6\n",
    "y_train_n  = y_train.values\n",
    "forest.fit( df6_n, y_train_n )"
   ]
  },
  {
   "cell_type": "code",
   "execution_count": null,
   "id": "691dd3c9",
   "metadata": {
    "ExecuteTime": {
     "end_time": "2023-12-05T21:49:46.592243Z",
     "start_time": "2023-12-05T21:49:45.286184Z"
    },
    "hidden": true
   },
   "outputs": [],
   "source": [
    "importances = forest.feature_importances_\n",
    "std = np.std([tree.feature_importances_ for tree in forest.estimators_], axis=0 )\n",
    "indices = np.argsort(importances)[::-1]\n",
    "\n",
    "# Print the feature ranking \n",
    "print(\"Feature ranking:\")\n",
    "df = pd.DataFrame()\n",
    "for i,j in zip( df6_n, forest.feature_importances_ ):\n",
    "    aux = pd.DataFrame( {'feature': i, 'importance': j}, index=[0] )\n",
    "    df = pd.concat( [df,aux], axis = 0 )\n",
    "    \n",
    "print( df.sort_values( 'importance', ascending=False ) )\n",
    "\n",
    "# Plot the impurity-based feature importances of the forest\n",
    "plt.figure()\n",
    "plt.title(\"Feature importances\")\n",
    "plt.bar(range(df6_n.shape[1]), importances[indices], color=\"r\", yerr=std[indices], align=\"center\")\n",
    "plt.xticks(range(df6_n.shape[1]), indices)\n",
    "plt.xlim([-1, df6_n.shape[1]])\n",
    "plt.show()"
   ]
  },
  {
   "cell_type": "markdown",
   "id": "2399cf16-3a82-4a76-8101-3e1523e1efbb",
   "metadata": {},
   "source": [
    "# 7 - MACHINE LEARNING MODELS"
   ]
  },
  {
   "cell_type": "markdown",
   "id": "bbbc5db0",
   "metadata": {},
   "source": [
    "## 7.1 - Logistic Regression"
   ]
  },
  {
   "cell_type": "code",
   "execution_count": null,
   "id": "a31912ca",
   "metadata": {
    "ExecuteTime": {
     "end_time": "2023-12-05T22:17:22.490579Z",
     "start_time": "2023-12-05T22:17:15.517213Z"
    }
   },
   "outputs": [],
   "source": [
    "# Model Definition\n",
    "clf_lr = LogisticRegression()\n",
    "\n",
    "# Model Training\n",
    "clf_lr.fit(x_training, y_train)\n",
    "\n",
    "# Model Prediction\n",
    "yhat_lr = clf_lr.predict_proba(x_validation)"
   ]
  },
  {
   "cell_type": "code",
   "execution_count": null,
   "id": "cf243b29-c868-44b6-aa6f-5816577e3d1f",
   "metadata": {
    "ExecuteTime": {
     "end_time": "2023-12-05T22:17:22.509943Z",
     "start_time": "2023-12-05T22:17:22.494299Z"
    }
   },
   "outputs": [],
   "source": [
    "# Evaluation\n",
    "lr_logloss = mt.log_loss(y_valid, yhat_lr )\n",
    "lr_logloss"
   ]
  },
  {
   "cell_type": "markdown",
   "id": "58268455",
   "metadata": {},
   "source": [
    "## 7.2 - LGBM"
   ]
  },
  {
   "cell_type": "code",
   "execution_count": null,
   "id": "1733eb2a",
   "metadata": {
    "ExecuteTime": {
     "end_time": "2023-12-05T22:22:56.540847Z",
     "start_time": "2023-12-05T22:22:54.625913Z"
    }
   },
   "outputs": [],
   "source": [
    "# Model Definition\n",
    "clf_lgbm = lgbm.LGBMClassifier()\n",
    "\n",
    "# Model Training\n",
    "clf_lgbm.fit(x_training, y_train)\n",
    "\n",
    "# Model Prediction\n",
    "yhat_lgbm = clf_lgbm.predict_proba(x_validation)"
   ]
  },
  {
   "cell_type": "code",
   "execution_count": null,
   "id": "33ff9be9-282f-4e9b-968f-af896be18a20",
   "metadata": {
    "ExecuteTime": {
     "end_time": "2023-12-05T22:22:56.557169Z",
     "start_time": "2023-12-05T22:22:56.543863Z"
    }
   },
   "outputs": [],
   "source": [
    "# Evaluation\n",
    "lgbm_logloss = mt.log_loss(y_valid, yhat_lgbm )\n",
    "lgbm_logloss"
   ]
  },
  {
   "cell_type": "markdown",
   "id": "3e4d0cc6",
   "metadata": {},
   "source": [
    "# 7.3 - CatBoost"
   ]
  },
  {
   "cell_type": "code",
   "execution_count": null,
   "id": "cee525b3",
   "metadata": {
    "ExecuteTime": {
     "end_time": "2023-12-05T22:31:51.577370Z",
     "start_time": "2023-12-05T22:31:51.546514Z"
    }
   },
   "outputs": [],
   "source": [
    "cb_train = data_trans(X)\n",
    "cby_train = y"
   ]
  },
  {
   "cell_type": "code",
   "execution_count": null,
   "id": "6e050323",
   "metadata": {},
   "outputs": [],
   "source": []
  },
  {
   "cell_type": "code",
   "execution_count": null,
   "id": "aa76249f",
   "metadata": {
    "ExecuteTime": {
     "end_time": "2023-12-05T22:32:13.619577Z",
     "start_time": "2023-12-05T22:32:03.632025Z"
    }
   },
   "outputs": [],
   "source": [
    "# Definition\n",
    "cb_model = CatBoostClassifier()\n",
    "\n",
    "# Model training\n",
    "cb_model.fit(cb_train, cby_train)\n",
    "\n",
    "# Model Prediction\n",
    "#yhat_cb = cb_model.predict_proba(x_validation)"
   ]
  },
  {
   "cell_type": "code",
   "execution_count": null,
   "id": "c40365b1",
   "metadata": {
    "ExecuteTime": {
     "end_time": "2023-12-05T22:18:00.605787Z",
     "start_time": "2023-12-05T22:18:00.592843Z"
    }
   },
   "outputs": [],
   "source": [
    "# Evaluation\n",
    "cb_logloss = mt.log_loss(y_valid, yhat_cb)\n",
    "cb_logloss"
   ]
  },
  {
   "cell_type": "markdown",
   "id": "a742dc95",
   "metadata": {
    "jp-MarkdownHeadingCollapsed": true,
    "tags": []
   },
   "source": [
    "## 9 - HYPERPARAMETER FINE TUNING"
   ]
  },
  {
   "cell_type": "markdown",
   "id": "716cfaef",
   "metadata": {},
   "source": [
    "# 10 - SUBMISSIONS"
   ]
  },
  {
   "cell_type": "code",
   "execution_count": null,
   "id": "0cc8ef2d",
   "metadata": {
    "ExecuteTime": {
     "end_time": "2023-12-05T22:32:18.623168Z",
     "start_time": "2023-12-05T22:32:18.560910Z"
    }
   },
   "outputs": [],
   "source": [
    "df_test = pd.read_csv('../data/test.csv')"
   ]
  },
  {
   "cell_type": "code",
   "execution_count": null,
   "id": "928ea9df",
   "metadata": {
    "ExecuteTime": {
     "end_time": "2023-12-05T22:32:19.229475Z",
     "start_time": "2023-12-05T22:32:19.222639Z"
    }
   },
   "outputs": [],
   "source": [
    "## Renomeando as colunas, removendo letras maiusculas e substituindo espacos por _\n",
    "cols_old = ['id', 'N_Days', 'Drug', 'Age', 'Sex', 'Ascites', 'Hepatomegaly', 'Spiders', 'Edema', 'Bilirubin', 'Cholesterol', 'Albumin', 'Copper', 'Alk_Phos', 'SGOT', 'Tryglicerides',\\\n",
    "            'Platelets', 'Prothrombin', 'Stage']\n",
    "\n",
    "snakecase = lambda x: inflection.underscore(x.replace(' ', '_'))\n",
    "cols_new = list( map( snakecase, cols_old ) )\n",
    "\n",
    "df_test.columns = cols_new"
   ]
  },
  {
   "cell_type": "code",
   "execution_count": null,
   "id": "bd765cd4",
   "metadata": {
    "ExecuteTime": {
     "end_time": "2023-12-05T22:32:20.320355Z",
     "start_time": "2023-12-05T22:32:20.294137Z"
    }
   },
   "outputs": [],
   "source": [
    "df_pred = data_trans(df_test)"
   ]
  },
  {
   "cell_type": "code",
   "execution_count": null,
   "id": "acc92b52",
   "metadata": {
    "ExecuteTime": {
     "end_time": "2023-12-05T22:32:23.975320Z",
     "start_time": "2023-12-05T22:32:23.953291Z"
    }
   },
   "outputs": [],
   "source": [
    "# Model Prediction\n",
    "yhat_submission = cb_model.predict_proba(df_pred)"
   ]
  },
  {
   "cell_type": "code",
   "execution_count": null,
   "id": "d58a6ba1",
   "metadata": {
    "ExecuteTime": {
     "end_time": "2023-12-05T22:32:40.832526Z",
     "start_time": "2023-12-05T22:32:40.822855Z"
    }
   },
   "outputs": [],
   "source": [
    "sub_mission = df_test.copy()\n",
    "sub_mission['Status_C'] = yhat_submission[:, 0]\n",
    "sub_mission['Status_CL'] = yhat_submission[:, 1]\n",
    "sub_mission['Status_D'] = yhat_submission[:, 2]"
   ]
  },
  {
   "cell_type": "code",
   "execution_count": null,
   "id": "ce008fc6",
   "metadata": {
    "ExecuteTime": {
     "end_time": "2023-12-05T22:32:43.493567Z",
     "start_time": "2023-12-05T22:32:43.485744Z"
    }
   },
   "outputs": [],
   "source": [
    "submission = sub_mission[['id','Status_C','Status_CL','Status_D']]"
   ]
  },
  {
   "cell_type": "code",
   "execution_count": null,
   "id": "4504c016",
   "metadata": {
    "ExecuteTime": {
     "end_time": "2023-12-05T22:32:55.504097Z",
     "start_time": "2023-12-05T22:32:55.449195Z"
    }
   },
   "outputs": [],
   "source": [
    "submission.to_csv(\"submission_three.csv\", index=None, sep=',')"
   ]
  }
 ],
 "metadata": {
  "hide_input": false,
  "kernelspec": {
   "display_name": "Python 3 (ipykernel)",
   "language": "python",
   "name": "python3"
  },
  "language_info": {
   "codemirror_mode": {
    "name": "ipython",
    "version": 3
   },
   "file_extension": ".py",
   "mimetype": "text/x-python",
   "name": "python",
   "nbconvert_exporter": "python",
   "pygments_lexer": "ipython3",
   "version": "3.11.5"
  }
 },
 "nbformat": 4,
 "nbformat_minor": 5
}
