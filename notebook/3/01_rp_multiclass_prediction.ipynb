{
 "cells": [
  {
   "cell_type": "markdown",
   "id": "8ba1e0d7",
   "metadata": {},
   "source": [
    "# Multi-Class Prediction of Cirrhosis Outcomes"
   ]
  },
  {
   "cell_type": "markdown",
   "id": "9339b9d4-5570-41ad-bb8c-10880fd98b31",
   "metadata": {},
   "source": [
    "https://www.kaggle.com/competitions/playground-series-s3e26/data?select=train.csv"
   ]
  },
  {
   "cell_type": "markdown",
   "id": "ce96817c",
   "metadata": {},
   "source": [
    "## 0 - IMPORTS AND FUNCTIONS"
   ]
  },
  {
   "cell_type": "code",
   "execution_count": 1,
   "id": "c39cfa9f",
   "metadata": {
    "ExecuteTime": {
     "end_time": "2023-12-05T22:16:35.659362Z",
     "start_time": "2023-12-05T22:16:28.135892Z"
    }
   },
   "outputs": [
    {
     "name": "stderr",
     "output_type": "stream",
     "text": [
      "C:\\Users\\perot\\anaconda3\\envs\\multiclass_prediction\\Lib\\site-packages\\tqdm\\auto.py:22: TqdmWarning: IProgress not found. Please update jupyter and ipywidgets. See https://ipywidgets.readthedocs.io/en/stable/user_install.html\n",
      "  from .autonotebook import tqdm as notebook_tqdm\n"
     ]
    }
   ],
   "source": [
    "# Data Analysis and Data Manipulation Libraries\n",
    "import pandas                  as pd\n",
    "import numpy                   as np\n",
    "import seaborn                 as sns\n",
    "import scikitplot              as skplt\n",
    "import matplotlib.pyplot       as plt\n",
    "import plotly.express          as px\n",
    "import inflection\n",
    "from ydata_profiling           import ProfileReport \n",
    "\n",
    "# Machine Learning Models\n",
    "import optuna\n",
    "from sklearn                   import ensemble        as en\n",
    "from sklearn.linear_model      import LogisticRegression\n",
    "from catboost                  import CatBoostClassifier\n",
    "from sklearn.neighbors         import KNeighborsClassifier\n",
    "import lightgbm                as lgbm\n",
    "\n",
    "from sklearn                   import model_selection as ms\n",
    "from sklearn                   import preprocessing   as pp\n",
    "from sklearn.model_selection   import  KFold, StratifiedKFold\n",
    "\n",
    "# Metrics and Performance\n",
    "from sklearn import metrics as mt\n",
    "\n",
    "# Data Transformer\n",
    "#from feature_engine.encoding       import CountFrequencyEncoder\n",
    "\n",
    "# Dysplay\n",
    "%matplotlib inline\n",
    "from IPython.core.display    import HTML\n",
    "from IPython.display         import Image\n",
    "\n",
    "import warnings\n",
    "warnings.filterwarnings( 'ignore' )"
   ]
  },
  {
   "cell_type": "markdown",
   "id": "43cdef58",
   "metadata": {},
   "source": [
    "### 0.1 - HELPER FUNCTIONS"
   ]
  },
  {
   "cell_type": "code",
   "execution_count": 2,
   "id": "81f4d632",
   "metadata": {
    "ExecuteTime": {
     "end_time": "2023-12-05T22:16:35.667985Z",
     "start_time": "2023-12-05T22:16:35.662206Z"
    }
   },
   "outputs": [],
   "source": [
    "le = pp.LabelEncoder()\n",
    "ss = pp.StandardScaler()\n",
    "rr = pp.RobustScaler()"
   ]
  },
  {
   "cell_type": "code",
   "execution_count": 3,
   "id": "6ab556ae",
   "metadata": {
    "ExecuteTime": {
     "end_time": "2023-12-05T22:16:42.356501Z",
     "start_time": "2023-12-05T22:16:42.334612Z"
    }
   },
   "outputs": [
    {
     "data": {
      "text/html": [
       "<style>.container { width:100% !important; }</style>"
      ],
      "text/plain": [
       "<IPython.core.display.HTML object>"
      ]
     },
     "metadata": {},
     "output_type": "display_data"
    }
   ],
   "source": [
    "def data_trans(df_trans):\n",
    "    # CATEGORICAL VARIABLES\n",
    "    df_trans['drug']         = le.fit_transform( df_trans[['drug']].values )\n",
    "    df_trans['sex']          = le.fit_transform( df_trans[['sex']].values )\n",
    "    df_trans['ascites']      = le.fit_transform( df_trans[['ascites']].values )\n",
    "    df_trans['hepatomegaly'] = le.fit_transform( df_trans[['hepatomegaly']].values )\n",
    "    df_trans['spiders']      = le.fit_transform( df_trans[['spiders']].values )\n",
    "    df_trans['edema']        = le.fit_transform( df_trans[['edema']].values )\n",
    "    \n",
    "    # NUMERICAL VARIABLES\n",
    "    # STANDARD SCALER\n",
    "\n",
    "    #df_trans['n_days']    = ss.fit_transform( df_trans[['n_days']].values )\n",
    "    #df_trans['age']       = ss.fit_transform( df_trans[['age']].values )\n",
    "    #df_trans['albumin']   = ss.fit_transform( df_trans[['albumin']].values )\n",
    "    #df_trans['platelets'] = ss.fit_transform( df_trans[['platelets']].values )\n",
    "\n",
    "    # ROBUST SCALER\n",
    "    \n",
    "    #df_trans['bilirubin']     = rr.fit_transform( df_trans[['bilirubin']].values )\n",
    "    #df_trans['cholesterol']   = rr.fit_transform( df_trans[['cholesterol']].values )\n",
    "    #df_trans['copper']        = rr.fit_transform( df_trans[['copper']].values )\n",
    "    #df_trans['sgot']          = rr.fit_transform( df_trans[['sgot']].values )\n",
    "    #df_trans['tryglicerides'] = rr.fit_transform( df_trans[['tryglicerides']].values )\n",
    "    #df_trans['platelets']     = rr.fit_transform( df_trans[['platelets']].values )\n",
    "    #df_trans['prothrombin']   = rr.fit_transform( df_trans[['prothrombin']].values )\n",
    "    \n",
    "    #df_trans = df_trans[['bilirubin','n_days','copper', 'hepatomegaly','prothrombin']]\n",
    "    \n",
    "    return(df_trans)\n",
    "\n",
    "def jupyter_settings():\n",
    "    %matplotlib inline\n",
    "    \n",
    "    plt.style.use( 'bmh' )\n",
    "    plt.rcParams['figure.figsize'] = [18, 9]\n",
    "    plt.rcParams['font.size'] = 24\n",
    "    \n",
    "    display( HTML( '<style>.container { width:100% !important; }</style>') )\n",
    "    pd.options.display.max_columns = None\n",
    "    pd.options.display.max_rows = None\n",
    "    pd.set_option( 'display.expand_frame_repr', False )\n",
    "   \n",
    "    sns.set()\n",
    "jupyter_settings()"
   ]
  },
  {
   "cell_type": "code",
   "execution_count": 4,
   "id": "4d2ca530",
   "metadata": {
    "ExecuteTime": {
     "end_time": "2023-12-05T22:16:46.399758Z",
     "start_time": "2023-12-05T22:16:46.392844Z"
    }
   },
   "outputs": [],
   "source": [
    "pd.set_option('display.float_format', lambda x: '%.6f' %x)"
   ]
  },
  {
   "cell_type": "markdown",
   "id": "82380eb7",
   "metadata": {
    "cell_style": "split"
   },
   "source": [
    "## 1 - DATAS"
   ]
  },
  {
   "cell_type": "code",
   "execution_count": 5,
   "id": "c520d31c",
   "metadata": {
    "ExecuteTime": {
     "end_time": "2023-12-05T22:16:47.123103Z",
     "start_time": "2023-12-05T22:16:47.080620Z"
    }
   },
   "outputs": [],
   "source": [
    "# Train Datas - Windows\n",
    "df_raw = pd.read_csv('../data/train.csv')"
   ]
  },
  {
   "cell_type": "code",
   "execution_count": 6,
   "id": "34df0288",
   "metadata": {
    "ExecuteTime": {
     "end_time": "2023-12-05T22:16:47.358012Z",
     "start_time": "2023-12-05T22:16:47.348916Z"
    }
   },
   "outputs": [],
   "source": [
    "## Renomeando as colunas, removendo letras maiusculas e substituindo espacos por _\n",
    "cols_old = ['id', 'N_Days', 'Drug', 'Age', 'Sex', 'Ascites', 'Hepatomegaly','Spiders', 'Edema', 'Bilirubin', 'Cholesterol', 'Albumin', 'Copper',\n",
    "            'Alk_Phos', 'SGOT', 'Tryglicerides', 'Platelets', 'Prothrombin','Stage', 'Status']\n",
    "\n",
    "snakecase = lambda x: inflection.underscore(x.replace(' ', '_'))\n",
    "cols_new = list( map( snakecase, cols_old ) )\n",
    "\n",
    "df_raw.columns = cols_new"
   ]
  },
  {
   "cell_type": "markdown",
   "id": "ca98eb9e",
   "metadata": {
    "jp-MarkdownHeadingCollapsed": true
   },
   "source": [
    "### 1.1 - DATASET SPLIT"
   ]
  },
  {
   "cell_type": "code",
   "execution_count": 7,
   "id": "a77d765c",
   "metadata": {
    "ExecuteTime": {
     "end_time": "2023-12-05T22:16:48.430516Z",
     "start_time": "2023-12-05T22:16:48.405271Z"
    }
   },
   "outputs": [
    {
     "name": "stdout",
     "output_type": "stream",
     "text": [
      " x_train: (4743, 19)/n y_train: (4743,)/n x_valid: (1581, 19)/n y_valid: (1581,)/n x_test: (1581, 19)/n y_test: (1581,)/n\n"
     ]
    }
   ],
   "source": [
    "# Split dataset into train, test and validation datasets\n",
    "X = df_raw.drop( ['status'], axis=1 )\n",
    "y = df_raw['status'].copy()\n",
    "x_train, x_valid, y_train, y_valid = ms.train_test_split( X, y, test_size=0.20, random_state=42 )\n",
    "x_train, x_test, y_train, y_test   = ms.train_test_split( x_train, y_train, test_size=0.25, shuffle=True, random_state=42 )\n",
    "\n",
    "print(f\" x_train: {x_train.shape}/n y_train: {y_train.shape}/n x_valid: {x_valid.shape}/n y_valid: {y_valid.shape}/n x_test: {x_test.shape}/n y_test: {y_test.shape}/n\")"
   ]
  },
  {
   "cell_type": "code",
   "execution_count": null,
   "id": "5610b4c5",
   "metadata": {
    "ExecuteTime": {
     "end_time": "2023-12-05T21:48:35.209528Z",
     "start_time": "2023-12-05T21:48:35.192065Z"
    }
   },
   "outputs": [],
   "source": [
    "# Split dataset into train and validation datasets\n",
    "X = df_raw.drop( ['status'], axis=1 )\n",
    "y = df_raw['status'].copy()\n",
    "x_train, x_valid, y_train, y_valid = ms.train_test_split( X, y, test_size=0.20, random_state=42 )\n",
    "\n",
    "print(f\"x_train: {x_train.shape}/n y_train: {y_train.shape}/n x_valid: {x_valid.shape}/n y_valid: {y_valid.shape}/n\")"
   ]
  },
  {
   "cell_type": "markdown",
   "id": "c71cfb62",
   "metadata": {
    "heading_collapsed": true,
    "tags": []
   },
   "source": [
    "### 1.2 - DATA DESCRIPTION"
   ]
  },
  {
   "cell_type": "code",
   "execution_count": 8,
   "id": "0b7c999f",
   "metadata": {
    "ExecuteTime": {
     "end_time": "2023-12-05T22:16:53.535100Z",
     "start_time": "2023-12-05T22:16:53.528256Z"
    },
    "hidden": true
   },
   "outputs": [],
   "source": [
    "df1 = df_raw.copy()"
   ]
  },
  {
   "cell_type": "code",
   "execution_count": 9,
   "id": "9c2425e1",
   "metadata": {
    "ExecuteTime": {
     "end_time": "2023-12-05T22:16:54.176582Z",
     "start_time": "2023-12-05T22:16:54.170119Z"
    },
    "hidden": true
   },
   "outputs": [],
   "source": [
    "#prof = ProfileReport(df1)\n",
    "#rof.to_file(output_file='data_descriptive.html')"
   ]
  },
  {
   "cell_type": "code",
   "execution_count": 10,
   "id": "5bc2588d",
   "metadata": {
    "ExecuteTime": {
     "end_time": "2023-12-05T22:16:54.878516Z",
     "start_time": "2023-12-05T22:16:54.871566Z"
    },
    "hidden": true
   },
   "outputs": [
    {
     "name": "stdout",
     "output_type": "stream",
     "text": [
      "Number of Rows: 7905\n",
      "Number of Cols: 20\n"
     ]
    }
   ],
   "source": [
    "# Data Dimensions\n",
    "print( 'Number of Rows: {}'.format( df1.shape[0] ) )\n",
    "print( 'Number of Cols: {}'.format( df1.shape[1] ) )"
   ]
  },
  {
   "cell_type": "code",
   "execution_count": 11,
   "id": "829c7ef3",
   "metadata": {
    "ExecuteTime": {
     "end_time": "2023-12-05T22:16:55.232470Z",
     "start_time": "2023-12-05T22:16:55.218813Z"
    },
    "hidden": true
   },
   "outputs": [
    {
     "data": {
      "text/plain": [
       "id                 int64\n",
       "n_days             int64\n",
       "drug              object\n",
       "age                int64\n",
       "sex               object\n",
       "ascites           object\n",
       "hepatomegaly      object\n",
       "spiders           object\n",
       "edema             object\n",
       "bilirubin        float64\n",
       "cholesterol      float64\n",
       "albumin          float64\n",
       "copper           float64\n",
       "alk_phos         float64\n",
       "sgot             float64\n",
       "tryglicerides    float64\n",
       "platelets        float64\n",
       "prothrombin      float64\n",
       "stage            float64\n",
       "status            object\n",
       "dtype: object"
      ]
     },
     "execution_count": 11,
     "metadata": {},
     "output_type": "execute_result"
    }
   ],
   "source": [
    "# Data Types\n",
    "df1.dtypes"
   ]
  },
  {
   "cell_type": "code",
   "execution_count": 12,
   "id": "b4281e02",
   "metadata": {
    "ExecuteTime": {
     "end_time": "2023-12-05T22:16:55.538896Z",
     "start_time": "2023-12-05T22:16:55.513685Z"
    },
    "hidden": true
   },
   "outputs": [
    {
     "data": {
      "text/plain": [
       "id               0\n",
       "n_days           0\n",
       "drug             0\n",
       "age              0\n",
       "sex              0\n",
       "ascites          0\n",
       "hepatomegaly     0\n",
       "spiders          0\n",
       "edema            0\n",
       "bilirubin        0\n",
       "cholesterol      0\n",
       "albumin          0\n",
       "copper           0\n",
       "alk_phos         0\n",
       "sgot             0\n",
       "tryglicerides    0\n",
       "platelets        0\n",
       "prothrombin      0\n",
       "stage            0\n",
       "status           0\n",
       "dtype: int64"
      ]
     },
     "execution_count": 12,
     "metadata": {},
     "output_type": "execute_result"
    }
   ],
   "source": [
    "# Check NAN Values\n",
    "df1.isna().sum()"
   ]
  },
  {
   "cell_type": "markdown",
   "id": "26fa0687",
   "metadata": {
    "heading_collapsed": true,
    "tags": []
   },
   "source": [
    "### 1.3 - DATA DESCRIPTIVE"
   ]
  },
  {
   "cell_type": "code",
   "execution_count": null,
   "id": "4079e9d8",
   "metadata": {
    "ExecuteTime": {
     "end_time": "2023-12-05T21:24:42.935189Z",
     "start_time": "2023-12-05T21:24:42.907137Z"
    },
    "hidden": true
   },
   "outputs": [],
   "source": [
    "df1.info()"
   ]
  },
  {
   "cell_type": "code",
   "execution_count": null,
   "id": "13c5519b",
   "metadata": {
    "ExecuteTime": {
     "end_time": "2023-12-05T21:24:43.292971Z",
     "start_time": "2023-12-05T21:24:43.227486Z"
    },
    "hidden": true
   },
   "outputs": [],
   "source": [
    "df1.describe().T"
   ]
  },
  {
   "cell_type": "code",
   "execution_count": null,
   "id": "d95336af",
   "metadata": {
    "ExecuteTime": {
     "end_time": "2023-12-05T22:10:24.033436Z",
     "start_time": "2023-12-05T22:10:24.027213Z"
    },
    "hidden": true
   },
   "outputs": [],
   "source": [
    "# Select columns where the content is different 0 or 1.\n",
    "# numerical features\n",
    "num_attributes = df1.select_dtypes(include=['int64', 'float64'])\n",
    "\n",
    "# categorical features\n",
    "cat_attributes = df1.select_dtypes(exclude=['int64', 'float64'])"
   ]
  },
  {
   "cell_type": "code",
   "execution_count": null,
   "id": "378e2b7a",
   "metadata": {
    "ExecuteTime": {
     "end_time": "2023-12-05T21:24:51.288966Z",
     "start_time": "2023-12-05T21:24:44.660846Z"
    },
    "hidden": true
   },
   "outputs": [],
   "source": [
    "num_attributes.hist(bins=25);\n",
    "plt.tight_layout()"
   ]
  },
  {
   "cell_type": "code",
   "execution_count": null,
   "id": "5d236678",
   "metadata": {
    "ExecuteTime": {
     "end_time": "2023-12-05T21:24:51.410059Z",
     "start_time": "2023-12-05T21:24:51.292978Z"
    },
    "hidden": true
   },
   "outputs": [],
   "source": [
    "# Central Tendency - mean, median\n",
    "ct1 = pd.DataFrame( num_attributes.apply( np.mean ) ).T\n",
    "ct2 = pd.DataFrame( num_attributes.apply( np.median ) ).T\n",
    "\n",
    "# Dispersion - std, min, max, range, skew, kurtosis\n",
    "d1 = pd.DataFrame( num_attributes.apply( np.std ) ).T\n",
    "d2 = pd.DataFrame( num_attributes.apply( min ) ).T\n",
    "d3 = pd.DataFrame( num_attributes.apply( max ) ).T\n",
    "d4 = pd.DataFrame( num_attributes.apply( lambda x: x.max() - x.min() ) ).T\n",
    "d5 = pd.DataFrame( num_attributes.apply( lambda x: x.skew() ) ).T\n",
    "d6 = pd.DataFrame( num_attributes.apply( lambda x: x.kurtosis() ) ).T\n",
    "\n",
    "# Concatenar\n",
    "m = pd.concat( [ d2, d3, d4, ct1, ct2, d1, d5, d6 ] ).T.reset_index()\n",
    "m.columns = ['attributes', 'min', 'max', 'range', 'mean', 'median', 'std', 'skew', 'kurtosis']\n",
    "m"
   ]
  },
  {
   "cell_type": "markdown",
   "id": "8a2a7dd3",
   "metadata": {
    "heading_collapsed": true,
    "tags": []
   },
   "source": [
    "# 2 - FEATURE ENGINEERING"
   ]
  },
  {
   "cell_type": "code",
   "execution_count": null,
   "id": "4c5331f0-6083-4825-add1-88ef624c60a7",
   "metadata": {
    "ExecuteTime": {
     "end_time": "2023-12-05T21:24:51.416723Z",
     "start_time": "2023-12-05T21:24:51.412605Z"
    },
    "hidden": true
   },
   "outputs": [],
   "source": [
    "df2 = df1.copy()"
   ]
  },
  {
   "cell_type": "markdown",
   "id": "05338a2e",
   "metadata": {
    "heading_collapsed": true,
    "tags": []
   },
   "source": [
    "# 3 - DATA FILTERING"
   ]
  },
  {
   "cell_type": "code",
   "execution_count": null,
   "id": "26c2e485",
   "metadata": {
    "ExecuteTime": {
     "end_time": "2023-12-05T21:24:54.046592Z",
     "start_time": "2023-12-05T21:24:54.037553Z"
    },
    "hidden": true
   },
   "outputs": [],
   "source": [
    "df3 = df2.copy()"
   ]
  },
  {
   "cell_type": "markdown",
   "id": "2a69264e",
   "metadata": {
    "heading_collapsed": true,
    "tags": []
   },
   "source": [
    "# 4 - EXPLORATORY DATA ANALYSIS (EDA)"
   ]
  },
  {
   "cell_type": "code",
   "execution_count": null,
   "id": "289d64ea",
   "metadata": {
    "ExecuteTime": {
     "end_time": "2023-12-05T21:24:56.547013Z",
     "start_time": "2023-12-05T21:24:56.541321Z"
    },
    "hidden": true
   },
   "outputs": [],
   "source": [
    "df4 = df3.copy()"
   ]
  },
  {
   "cell_type": "markdown",
   "id": "1056e2c3",
   "metadata": {
    "heading_collapsed": true,
    "hidden": true,
    "jp-MarkdownHeadingCollapsed": true
   },
   "source": [
    "### 4.1 - UNIVARIATE ANALYSIS"
   ]
  },
  {
   "cell_type": "code",
   "execution_count": null,
   "id": "bce1001a",
   "metadata": {
    "ExecuteTime": {
     "end_time": "2023-12-05T20:53:27.715950Z",
     "start_time": "2023-12-05T20:53:27.694679Z"
    },
    "hidden": true
   },
   "outputs": [],
   "source": [
    "# DRUG\n",
    "aux = df1[['id','drug','status']].groupby(['status','drug'] ).count().reset_index()\n",
    "aux"
   ]
  },
  {
   "cell_type": "code",
   "execution_count": null,
   "id": "dc12478e",
   "metadata": {
    "ExecuteTime": {
     "end_time": "2023-12-05T20:53:59.526817Z",
     "start_time": "2023-12-05T20:53:59.506409Z"
    },
    "hidden": true
   },
   "outputs": [],
   "source": [
    "# SEX\n",
    "aux_one = df1[['id','sex','status']].groupby(['status','sex'] ).count().reset_index()\n",
    "aux_one"
   ]
  },
  {
   "cell_type": "code",
   "execution_count": null,
   "id": "816b0ea4",
   "metadata": {
    "ExecuteTime": {
     "end_time": "2023-12-05T20:56:42.929839Z",
     "start_time": "2023-12-05T20:56:42.912544Z"
    },
    "hidden": true
   },
   "outputs": [],
   "source": [
    "# ASCITES\n",
    "aux_two = df1[['id','ascites','status']].groupby(['status','ascites'] ).count().reset_index()\n",
    "aux_two"
   ]
  },
  {
   "cell_type": "code",
   "execution_count": null,
   "id": "6ff2f187",
   "metadata": {
    "ExecuteTime": {
     "end_time": "2023-12-05T20:56:45.600139Z",
     "start_time": "2023-12-05T20:56:45.578435Z"
    },
    "hidden": true
   },
   "outputs": [],
   "source": [
    "# HEPATOMEGALY\n",
    "aux_three = df1[['id','hepatomegaly','status']].groupby(['status','hepatomegaly'] ).count().reset_index()\n",
    "aux_three"
   ]
  },
  {
   "cell_type": "code",
   "execution_count": null,
   "id": "b303115e",
   "metadata": {
    "ExecuteTime": {
     "end_time": "2023-12-05T20:56:47.400479Z",
     "start_time": "2023-12-05T20:56:47.382443Z"
    },
    "hidden": true
   },
   "outputs": [],
   "source": [
    "# SPIDERS\n",
    "aux_four = df1[['id','spiders','status']].groupby(['status','spiders'] ).count().reset_index()\n",
    "aux_four"
   ]
  },
  {
   "cell_type": "code",
   "execution_count": null,
   "id": "0511b023",
   "metadata": {
    "ExecuteTime": {
     "end_time": "2023-12-05T20:56:49.505292Z",
     "start_time": "2023-12-05T20:56:49.483645Z"
    },
    "hidden": true
   },
   "outputs": [],
   "source": [
    "# EDEMA\n",
    "aux_five = df1[['id','edema','status']].groupby(['status','edema'] ).count().reset_index()\n",
    "aux_five"
   ]
  },
  {
   "cell_type": "markdown",
   "id": "35dd946a",
   "metadata": {
    "heading_collapsed": true,
    "hidden": true,
    "jp-MarkdownHeadingCollapsed": true
   },
   "source": [
    "### 4.2 - BIVARIATE ANALYSIS"
   ]
  },
  {
   "cell_type": "code",
   "execution_count": null,
   "id": "c3a3ca58",
   "metadata": {
    "ExecuteTime": {
     "end_time": "2023-09-18T21:42:02.339335Z",
     "start_time": "2023-09-18T21:42:02.206282Z"
    },
    "hidden": true
   },
   "outputs": [],
   "source": [
    "#1.The interest on purchase the vehicle insurance is greater for customers that damaged their vehicle before and doesn't have insurance. (FALSE)\n",
    "d1 = df4[( df4['previously_insured'] == 0) & (df4['vehicle_damage'] == 1)]\n",
    "\n",
    "ax1 = d1[['response','id']].groupby('response').count().reset_index()\n",
    "ax1['percentage'] = round(ax1['id'] / d1['id'].count()*100)\n",
    "ax1['response'] = ax1['response'].apply(lambda x: 'No' if (x == 0) else 'Yes')\n",
    "\n",
    "# Bar chart\n",
    "fig1 = px.bar(ax1, x='response', \n",
    "              y='percentage', \n",
    "              color='response', \n",
    "              text='percentage', \n",
    "              width=1500,\n",
    "              height=650,\n",
    "              color_discrete_sequence=px.colors.qualitative.Pastel2)\n",
    "fig1.update_traces(texttemplate='%{text:.2s}', \n",
    "                   textposition='outside')\n",
    "fig1.update_layout(title_text=\"Hypothesis 1: Purchase Interest vs Vehicle Damage.\", \n",
    "                   title_x=0.25,\n",
    "                   font=dict(size=20))\n",
    "fig1.show()"
   ]
  },
  {
   "cell_type": "markdown",
   "id": "9ba291bb",
   "metadata": {
    "hidden": true
   },
   "source": [
    "Hiphotesys is false once 75% of customers doesn't show interest in buying the vehicle insurance. "
   ]
  },
  {
   "cell_type": "code",
   "execution_count": null,
   "id": "c3ba18b9",
   "metadata": {
    "ExecuteTime": {
     "end_time": "2023-09-18T21:43:38.099738Z",
     "start_time": "2023-09-18T21:43:37.917449Z"
    },
    "hidden": true
   },
   "outputs": [],
   "source": [
    "# 2. The interest on purchase the vehicle insurance is greater for woman than men. (FALSE)\n",
    "ax2 = pd.crosstab(df4['gender'], df4['response'])\n",
    "ax2['percentage'] = round(ax2[1]/(ax2[0]+ax2[1])*100)\n",
    "\n",
    "# Creating new dataframe for a bar chart\n",
    "aux2 = [['Female', 10],['Male',14]]\n",
    "aux2_df = pd.DataFrame(aux2, columns=['gender','percentage'])\n",
    "\n",
    "# Bar chart\n",
    "fig = px.bar(aux2_df, \n",
    "             x='gender', \n",
    "             y='percentage', \n",
    "             color='gender', \n",
    "             text='percentage',\n",
    "             width=1500,\n",
    "             height=650, \n",
    "             color_discrete_sequence=px.colors.qualitative.Pastel2)\n",
    "fig.update_traces(texttemplate='%{text:.2s}', \n",
    "                  textposition='outside')\n",
    "fig.update_layout(title_text=\"Hypothesis 2: Purchase Interest vs Gender.\", \n",
    "                   title_x=0.25,\n",
    "                   font=dict(size=20))\n",
    "fig.show()\n"
   ]
  },
  {
   "cell_type": "markdown",
   "id": "63466f6e",
   "metadata": {
    "ExecuteTime": {
     "end_time": "2023-02-06T11:48:00.108723Z",
     "start_time": "2023-02-06T11:48:00.090301Z"
    },
    "hidden": true
   },
   "source": [
    "Hiphotesys is false once 14% of the men show interest in buying the vehicle insurance against 10% of women. "
   ]
  },
  {
   "cell_type": "markdown",
   "id": "b1b928bb",
   "metadata": {
    "hidden": true
   },
   "source": [
    "Hiphotesys is false, according the analysis, the period that the customers are with the company doesn't affect the interest in buying vehicle insurance. "
   ]
  },
  {
   "cell_type": "code",
   "execution_count": null,
   "id": "efb96e3e",
   "metadata": {
    "ExecuteTime": {
     "end_time": "2023-09-18T21:43:51.126662Z",
     "start_time": "2023-09-18T21:43:50.956176Z"
    },
    "hidden": true
   },
   "outputs": [],
   "source": [
    "# 3. The interest on purchase the vehicle insurance is greater for customers that spend less than 30k for annual premium.\n",
    "aux5 = df4[df4['annual_premium'] > 30000][['id','response']]\n",
    "aux6 = df4[df4['annual_premium'] <= 30000][['id','response']]\n",
    "\n",
    "# Percentage of interested customers that spend more than 30k in annual premium\n",
    "aux16 = aux5[['response','id']].groupby('response').count().reset_index()\n",
    "aux16['percentage'] = round( aux16['id'] / aux5.shape[0] * 100 )\n",
    "\n",
    "# Percentage of interested customers that spend less than 30k in annual premium\n",
    "aux17 = aux6[['response','id']].groupby('response').count().reset_index()\n",
    "aux17['percentage'] = round( aux17['id'] / aux6.shape[0] * 100 )\n",
    "\n",
    "# Creating new dataframe for a bar chart\n",
    "ax4 = [['30k or more in annual premium', 13],['30k or less in annual premium', 11]]\n",
    "ax4_df = pd.DataFrame(ax4, columns=['annual_premium','percentage'])\n",
    "\n",
    "# Bar chart\n",
    "fig = px.bar(ax4_df,\n",
    "             x='annual_premium',\n",
    "             y='percentage', \n",
    "             color='annual_premium', \n",
    "             text='percentage', \n",
    "             width=1500, \n",
    "             height=650, \n",
    "             color_discrete_sequence=px.colors.qualitative.Pastel2)\n",
    "fig.update_traces(texttemplate='%{text:.2s}',\n",
    "                  textposition='outside')\n",
    "fig.update_layout(title_text=\"Hypothesis 3: Purchase Interest vs Annual Premium\",\n",
    "                  title_x=0.17,\n",
    "                  font=dict(size=20))\n",
    "fig.show()"
   ]
  },
  {
   "cell_type": "markdown",
   "id": "10b6b208",
   "metadata": {
    "hidden": true
   },
   "source": [
    "False, customers that spend more than 30k yearly show greter interest on purchase vehicle insurance."
   ]
  },
  {
   "cell_type": "code",
   "execution_count": null,
   "id": "ea3171df",
   "metadata": {
    "ExecuteTime": {
     "end_time": "2023-09-18T21:44:48.409970Z",
     "start_time": "2023-09-18T21:44:48.248845Z"
    },
    "hidden": true
   },
   "outputs": [],
   "source": [
    "# 4. The interest on purchase the vehicle insurance is greater for customers that have driver license.\n",
    "aux9 = pd.crosstab(df4['driving_license'], df4['response'])\n",
    "aux9['percentage'] = round(aux9[1]/(aux9[0]+aux9[1])*100)\n",
    "\n",
    "# Creating new dataframe for a bar chart\n",
    "ax9 = [['No', 5 ],['Yes', 12]]\n",
    "ax9_df = pd.DataFrame(ax9, columns=['driving_license','percentage'])\n",
    "\n",
    "# Bar chart\n",
    "fig = px.bar(ax9_df, \n",
    "             x='driving_license', \n",
    "             y='percentage', \n",
    "             color='driving_license', \n",
    "             text='percentage', \n",
    "             width=1500,\n",
    "             height=650, \n",
    "             color_discrete_sequence=px.colors.qualitative.Pastel2 )\n",
    "fig.update_traces(texttemplate='%{text:.2s}', \n",
    "                  textposition='outside')\n",
    "fig.update_layout(title_text=\"Hypothesis 4: Purchase Interest vs Driving License.\", \n",
    "                  title_x=0.25,\n",
    "                  font=dict(size=20))\n",
    "fig.show()"
   ]
  },
  {
   "cell_type": "code",
   "execution_count": null,
   "id": "3a73549c",
   "metadata": {
    "ExecuteTime": {
     "end_time": "2023-09-18T21:45:43.336429Z",
     "start_time": "2023-09-18T21:45:43.159942Z"
    },
    "hidden": true
   },
   "outputs": [],
   "source": [
    "# 5. The interest on purchase the vehicle insurance is greater for customers that have new cars.\n",
    "aux10 = pd.crosstab(df4['vehicle_age'], df4['response'])\n",
    "aux10['percentage'] = round(aux10[1]/(aux10[0]+aux10[1])*100)\n",
    "\n",
    "# Creating new dataframe for a bar chart\n",
    "ax10 = [['New', 4 ],['Used', 17],['Old', 29]]\n",
    "ax10_df = pd.DataFrame(ax10, columns=['vehicle_age','percentage'])\n",
    "\n",
    "# Bar chart\n",
    "fig = px.bar(ax10_df, \n",
    "             x='vehicle_age', \n",
    "             y='percentage', \n",
    "             color='vehicle_age', \n",
    "             text='percentage',\n",
    "             width=1500,\n",
    "             height=650,\n",
    "             color_discrete_sequence=px.colors.qualitative.Pastel2)\n",
    "fig.update_traces(texttemplate='%{text:.2s}', \n",
    "                  textposition='outside')\n",
    "fig.update_layout(title_text=\"Hypothesis 5: Purchase Interest vs Vehicle Age.\", \n",
    "                   title_x=0.25,\n",
    "                   font=dict(size=20))\n",
    "fig.show()"
   ]
  },
  {
   "cell_type": "code",
   "execution_count": null,
   "id": "36101afa",
   "metadata": {
    "ExecuteTime": {
     "end_time": "2023-09-18T21:47:03.124508Z",
     "start_time": "2023-09-18T21:47:02.970842Z"
    },
    "hidden": true
   },
   "outputs": [],
   "source": [
    "# 6. The interest on purchase the vehicle insurance is greater for customers that have new cars and have damaged their vehicles.\n",
    "aux11 = df4[(df4['vehicle_damage'] == 1 )]\n",
    "aux12 = pd.crosstab(aux11['vehicle_age'], aux11['response'])\n",
    "aux12['percentage'] = round(aux12[1]/(aux12[0]+aux12[1])*100)\n",
    "\n",
    "# Creating new dataframe for a bar chart\n",
    "ax11 = [['New', 14 ],['Used', 27],['Old', 29]]\n",
    "ax11_df = pd.DataFrame(ax11, columns=['vehicle_age','percentage'])\n",
    "\n",
    "# Bar chart\n",
    "fig = px.bar(ax11_df, \n",
    "             x='vehicle_age', \n",
    "             y='percentage', \n",
    "             color='vehicle_age', \n",
    "             text='percentage',\n",
    "             width=1500,\n",
    "             height=650, \n",
    "             color_discrete_sequence=px.colors.qualitative.Pastel2)\n",
    "fig.update_traces(texttemplate='%{text:.2s}', \n",
    "                  textposition='outside')\n",
    "fig.update_layout(title_text=\"Hypothesis 6: Purchase Interest vs New (damaged) cars.\", \n",
    "                   title_x=0.25,\n",
    "                   font=dict(size=20))\n",
    "fig.show()"
   ]
  },
  {
   "cell_type": "code",
   "execution_count": null,
   "id": "ab602a47",
   "metadata": {
    "ExecuteTime": {
     "end_time": "2023-09-18T21:48:09.017084Z",
     "start_time": "2023-09-18T21:48:08.819176Z"
    },
    "hidden": true
   },
   "outputs": [],
   "source": [
    "# 7. The interest on purchase the vehicle insurance is lower for customers that are already insured.\n",
    "aux15 = pd.crosstab(df4['previously_insured'], df4['response'])\n",
    "aux15['percentage'] = round(aux15[1]/(aux15[0]+aux15[1])*100)\n",
    "aux15\n",
    "\n",
    "# Creating new dataframe for a bar chart\n",
    "ax14 = [['No', 23 ],['Yes', 0]] \n",
    "ax14_df = pd.DataFrame(ax14, columns=['previously_insured','percentage'])\n",
    "\n",
    "# Bar chart\n",
    "fig = px.bar(ax14_df, \n",
    "             x='previously_insured', \n",
    "             y='percentage', \n",
    "             color='previously_insured', \n",
    "             text='percentage',\n",
    "             width = 1500,\n",
    "             height=650, \n",
    "             color_discrete_sequence=px.colors.qualitative.Pastel2)\n",
    "fig.update_traces(texttemplate='%{text:.2s}', \n",
    "                  textposition='outside')\n",
    "fig.update_layout(title_text=\"Hypothesis 7: Purchase Interest vs Previusly Insured.\", \n",
    "                   title_x=0.25,\n",
    "                   font=dict(size=20))\n",
    "fig.show()\n"
   ]
  },
  {
   "cell_type": "markdown",
   "id": "04d10796",
   "metadata": {
    "hidden": true
   },
   "source": [
    "**Hypothesis Validation**\n",
    "\n",
    "1. The interest on purchase the vehicle insurance is greater for customers that damaged their vehicle before and doesn't have insurance.\n",
    "    **False, of the customers that damaged their car and doesn't have insurance, only 25% show interest in acquire vehicle insurance.**\n",
    "\n",
    "2. The interest on purchase the vehicle insurance is greater for woman than men.\n",
    "    **False, only 10% of women show interest in acquire vehicle insurance, whereas 13% of the men show interest on acquire vehicle insurance.**\n",
    "\n",
    "3. The interest on purchase vehicle insurance is greater for vintage customers ( 7 months or more ).\n",
    "    **False, the period that customers are on the company doensn't show influency on interest in buying vehicle insurance.**\n",
    "\n",
    "4. The interest on purchase the vehicle insurance is greater for young customers.(Between 18 and 30 years old.)\n",
    "    **False, customers that spend more than 30k yearly show greter interest on purchase vehicle insurance.**\n",
    "\n",
    "5. The interest on purchase the vehicle insurance is greater for young customers.(Between 18 and 30 years old.)\n",
    "    **False, adults and elderlies show greater interest on buying vehicle insurance.**\n",
    "\n",
    "6. The interest on purchase the vehicle insurance is greater for customers that have driver license.\n",
    "    **True, arround 12% of customers that hold a driving license show interest in buying the vehicle insurance.**\n",
    "\n",
    "7. The interest on purchase the vehicle insurance is greater for customers that have new cars.\n",
    "    **False, the interest is greater for customers that own an old car.**\n",
    "\n",
    "8. The interest on purchase the vehicle insurance is greater for customers that have new cars and have damaged their vehicles.\n",
    "    **False, of the customers who damaged their car, the ones that own a old car show greater interest in buying the vehicle insurance (29%), followed by customers that own used cars (27%).**\n",
    "\n",
    "9. The interest on purchase the vehicle insurance is greater for elderly women.\n",
    "    **False, adult women show greater interest in buying the vehicle insurance.**\n",
    "\n",
    "10. The interest on purchase the vehicle insurance is lower for customers that are already insured.\n",
    "    **True, less than 1% of customers already insured show interest on purchase the vehicle insurance.**\n"
   ]
  },
  {
   "cell_type": "markdown",
   "id": "90475f72",
   "metadata": {
    "heading_collapsed": true,
    "hidden": true,
    "jp-MarkdownHeadingCollapsed": true
   },
   "source": [
    "### 4.3 - MULTIVARIATE ANALYSIS"
   ]
  },
  {
   "cell_type": "code",
   "execution_count": null,
   "id": "59da86da",
   "metadata": {
    "ExecuteTime": {
     "end_time": "2023-12-05T21:01:09.419498Z",
     "start_time": "2023-12-05T21:01:07.471464Z"
    },
    "hidden": true
   },
   "outputs": [],
   "source": [
    "correlation = df4.corr().round(2)\n",
    "plt.figure(figsize = (14,7))\n",
    "sns.heatmap(correlation, annot = True)"
   ]
  },
  {
   "cell_type": "markdown",
   "id": "550169f4",
   "metadata": {},
   "source": [
    "# 5 - DATA PREPARATION"
   ]
  },
  {
   "cell_type": "markdown",
   "id": "c0464ff6",
   "metadata": {},
   "source": [
    "n_days - standard_scaler\n",
    "age    - parece que esta em dias, posso transformar em anos, standard_scaler\n",
    "bilirubin - tem outliers, que parecem parte do processo. Aplicar robust_scaller ou filtrar valore e usar apenas menores que 10.\n",
    "cholesterol - tem outliers, que parecem parte do processo. Aplicar robust_scaller\n",
    "albumin - standard_scaler\n",
    "copper - Aplicar robust_scaller\n",
    "alk_phos - Aplicar robust_scaller\n",
    "sgot - Aplicar robust_scaller\n",
    "tryglicerides - Aplicar robust_scaller\n",
    "platelets - standard_scaler\n",
    "prothrombin - Aplicar robust_scaller"
   ]
  },
  {
   "cell_type": "code",
   "execution_count": null,
   "id": "ee414537-ff95-4cc6-8b22-d3f6296ecb01",
   "metadata": {
    "ExecuteTime": {
     "end_time": "2023-12-05T21:25:04.439871Z",
     "start_time": "2023-12-05T21:25:04.433293Z"
    }
   },
   "outputs": [],
   "source": [
    "df5 = df4.copy()"
   ]
  },
  {
   "cell_type": "code",
   "execution_count": null,
   "id": "e6b3636d",
   "metadata": {
    "ExecuteTime": {
     "end_time": "2023-12-05T21:25:32.657237Z",
     "start_time": "2023-12-05T21:25:32.621557Z"
    }
   },
   "outputs": [],
   "source": [
    "# ENCODER\n",
    "le = pp.LabelEncoder()\n",
    "\n",
    "df5['drug'] = le.fit_transform( df5[['drug']].values )\n",
    "df5['sex'] = le.fit_transform( df5[['sex']].values )\n",
    "df5['ascites'] = le.fit_transform( df5[['ascites']].values )\n",
    "df5['hepatomegaly'] = le.fit_transform( df5[['hepatomegaly']].values )\n",
    "df5['spiders'] = le.fit_transform( df5[['spiders']].values )\n",
    "df5['edema'] = le.fit_transform( df5[['edema']].values )"
   ]
  },
  {
   "cell_type": "code",
   "execution_count": null,
   "id": "313217ce",
   "metadata": {
    "ExecuteTime": {
     "end_time": "2023-12-05T21:25:11.933731Z",
     "start_time": "2023-12-05T21:25:11.933731Z"
    }
   },
   "outputs": [],
   "source": [
    "# STANDARD SCALER\n",
    "ss = pp.StandardScaler()\n",
    "\n",
    "df5['n_days'] = ss.fit_transform( df5[['n_days']].values )\n",
    "df5['age']    = ss.fit_transform( df5[['age']].values )\n",
    "df5['albumin'] = ss.fit_transform( df5[['albumin']].values )\n",
    "df5['platelets'] = ss.fit_transform( df5[['platelets']].values )\n",
    "\n",
    "\n",
    "# ROBUST SCALER\n",
    "rr = pp.RobustScaler()\n",
    "df5['bilirubin'] = rr.fit_transform( df5[['bilirubin']].values )\n",
    "df5['cholesterol'] = rr.fit_transform( df5[['cholesterol']].values )\n",
    "df5['copper'] = rr.fit_transform( df5[['copper']].values )\n",
    "df5['sgot'] = rr.fit_transform( df5[['sgot']].values )\n",
    "df5['tryglicerides'] = rr.fit_transform( df5[['tryglicerides']].values )\n",
    "df5['platelets'] = rr.fit_transform( df5[['platelets']].values )\n",
    "df5['prothrombin'] = rr.fit_transform( df5[['prothrombin']].values )"
   ]
  },
  {
   "cell_type": "code",
   "execution_count": 13,
   "id": "188ae3d3",
   "metadata": {
    "ExecuteTime": {
     "end_time": "2023-12-05T22:17:04.199921Z",
     "start_time": "2023-12-05T22:17:04.142577Z"
    }
   },
   "outputs": [],
   "source": [
    "x_training   = data_trans(x_train)\n",
    "x_validation = data_trans(x_valid)\n",
    "x_testing    = data_trans(x_test)"
   ]
  },
  {
   "cell_type": "markdown",
   "id": "d4b3e2ea-e83b-4f8f-9ac9-c52ec8112282",
   "metadata": {
    "heading_collapsed": true
   },
   "source": [
    "# 6 - FEATURE SELECTION"
   ]
  },
  {
   "cell_type": "code",
   "execution_count": null,
   "id": "6de0d556-ba11-4965-8546-330f70589c6d",
   "metadata": {
    "ExecuteTime": {
     "end_time": "2023-12-05T21:48:58.147512Z",
     "start_time": "2023-12-05T21:48:58.142005Z"
    },
    "hidden": true
   },
   "outputs": [],
   "source": [
    "df6 = x_train.copy()"
   ]
  },
  {
   "cell_type": "code",
   "execution_count": null,
   "id": "3fb83e68",
   "metadata": {
    "ExecuteTime": {
     "end_time": "2023-12-05T21:49:07.394859Z",
     "start_time": "2023-12-05T21:49:05.479201Z"
    },
    "hidden": true
   },
   "outputs": [],
   "source": [
    "# model definition\n",
    "forest = en.ExtraTreesClassifier( n_estimators=500, random_state=0, n_jobs=-1 )\n",
    "\n",
    "# data preparation\n",
    "df6_n = df6\n",
    "y_train_n  = y_train.values\n",
    "forest.fit( df6_n, y_train_n )"
   ]
  },
  {
   "cell_type": "code",
   "execution_count": null,
   "id": "691dd3c9",
   "metadata": {
    "ExecuteTime": {
     "end_time": "2023-12-05T21:49:46.592243Z",
     "start_time": "2023-12-05T21:49:45.286184Z"
    },
    "hidden": true
   },
   "outputs": [],
   "source": [
    "importances = forest.feature_importances_\n",
    "std = np.std([tree.feature_importances_ for tree in forest.estimators_], axis=0 )\n",
    "indices = np.argsort(importances)[::-1]\n",
    "\n",
    "# Print the feature ranking \n",
    "print(\"Feature ranking:\")\n",
    "df = pd.DataFrame()\n",
    "for i,j in zip( df6_n, forest.feature_importances_ ):\n",
    "    aux = pd.DataFrame( {'feature': i, 'importance': j}, index=[0] )\n",
    "    df = pd.concat( [df,aux], axis = 0 )\n",
    "    \n",
    "print( df.sort_values( 'importance', ascending=False ) )\n",
    "\n",
    "# Plot the impurity-based feature importances of the forest\n",
    "plt.figure()\n",
    "plt.title(\"Feature importances\")\n",
    "plt.bar(range(df6_n.shape[1]), importances[indices], color=\"r\", yerr=std[indices], align=\"center\")\n",
    "plt.xticks(range(df6_n.shape[1]), indices)\n",
    "plt.xlim([-1, df6_n.shape[1]])\n",
    "plt.show()"
   ]
  },
  {
   "cell_type": "markdown",
   "id": "2399cf16-3a82-4a76-8101-3e1523e1efbb",
   "metadata": {},
   "source": [
    "# 7 - MACHINE LEARNING MODELS"
   ]
  },
  {
   "cell_type": "markdown",
   "id": "bbbc5db0",
   "metadata": {},
   "source": [
    "## 7.1 - Logistic Regression"
   ]
  },
  {
   "cell_type": "code",
   "execution_count": 14,
   "id": "a31912ca",
   "metadata": {
    "ExecuteTime": {
     "end_time": "2023-12-05T22:17:22.490579Z",
     "start_time": "2023-12-05T22:17:15.517213Z"
    }
   },
   "outputs": [],
   "source": [
    "# Model Definition\n",
    "clf_lr = LogisticRegression()\n",
    "\n",
    "# Model Training\n",
    "clf_lr.fit(x_training, y_train)\n",
    "\n",
    "# Model Prediction\n",
    "yhat_lr = clf_lr.predict_proba(x_validation)"
   ]
  },
  {
   "cell_type": "code",
   "execution_count": 15,
   "id": "cf243b29-c868-44b6-aa6f-5816577e3d1f",
   "metadata": {
    "ExecuteTime": {
     "end_time": "2023-12-05T22:17:22.509943Z",
     "start_time": "2023-12-05T22:17:22.494299Z"
    }
   },
   "outputs": [
    {
     "data": {
      "text/plain": [
       "0.6445539313614146"
      ]
     },
     "execution_count": 15,
     "metadata": {},
     "output_type": "execute_result"
    }
   ],
   "source": [
    "# Evaluation\n",
    "lr_logloss = mt.log_loss(y_valid, yhat_lr )\n",
    "lr_logloss"
   ]
  },
  {
   "cell_type": "markdown",
   "id": "58268455",
   "metadata": {},
   "source": [
    "## 7.2 - LGBM"
   ]
  },
  {
   "cell_type": "code",
   "execution_count": 31,
   "id": "1733eb2a",
   "metadata": {
    "ExecuteTime": {
     "end_time": "2023-12-05T22:22:56.540847Z",
     "start_time": "2023-12-05T22:22:54.625913Z"
    }
   },
   "outputs": [
    {
     "name": "stdout",
     "output_type": "stream",
     "text": [
      "[LightGBM] [Info] Auto-choosing col-wise multi-threading, the overhead of testing was 0.001172 seconds.\n",
      "You can set `force_col_wise=true` to remove the overhead.\n",
      "[LightGBM] [Info] Total Bins 2157\n",
      "[LightGBM] [Info] Number of data points in the train set: 4743, number of used features: 19\n",
      "[LightGBM] [Info] Start training from score -0.451744\n",
      "[LightGBM] [Info] Start training from score -3.352437\n",
      "[LightGBM] [Info] Start training from score -1.113267\n"
     ]
    }
   ],
   "source": [
    "# Model Definition\n",
    "clf_lgbm = lgbm.LGBMClassifier()\n",
    "\n",
    "# Model Training\n",
    "clf_lgbm.fit(x_training, y_train)\n",
    "\n",
    "# Model Prediction\n",
    "yhat_lgbm = clf_lgbm.predict_proba(x_validation)"
   ]
  },
  {
   "cell_type": "code",
   "execution_count": 32,
   "id": "33ff9be9-282f-4e9b-968f-af896be18a20",
   "metadata": {
    "ExecuteTime": {
     "end_time": "2023-12-05T22:22:56.557169Z",
     "start_time": "2023-12-05T22:22:56.543863Z"
    }
   },
   "outputs": [
    {
     "data": {
      "text/plain": [
       "0.4825904318802329"
      ]
     },
     "execution_count": 32,
     "metadata": {},
     "output_type": "execute_result"
    }
   ],
   "source": [
    "# Evaluation\n",
    "lgbm_logloss = mt.log_loss(y_valid, yhat_lgbm )\n",
    "lgbm_logloss"
   ]
  },
  {
   "cell_type": "markdown",
   "id": "3e4d0cc6",
   "metadata": {},
   "source": [
    "# 7.3 - CatBoost"
   ]
  },
  {
   "cell_type": "code",
   "execution_count": 40,
   "id": "cee525b3",
   "metadata": {
    "ExecuteTime": {
     "end_time": "2023-12-05T22:31:51.577370Z",
     "start_time": "2023-12-05T22:31:51.546514Z"
    }
   },
   "outputs": [],
   "source": [
    "cb_train = data_trans(X)\n",
    "cby_train = y"
   ]
  },
  {
   "cell_type": "code",
   "execution_count": null,
   "id": "6e050323",
   "metadata": {},
   "outputs": [],
   "source": []
  },
  {
   "cell_type": "code",
   "execution_count": 41,
   "id": "aa76249f",
   "metadata": {
    "ExecuteTime": {
     "end_time": "2023-12-05T22:32:13.619577Z",
     "start_time": "2023-12-05T22:32:03.632025Z"
    }
   },
   "outputs": [
    {
     "name": "stdout",
     "output_type": "stream",
     "text": [
      "Learning rate set to 0.087926\n",
      "0:\tlearn: 1.0094352\ttotal: 18.2ms\tremaining: 18.1s\n",
      "1:\tlearn: 0.9368265\ttotal: 37.9ms\tremaining: 18.9s\n",
      "2:\tlearn: 0.8790452\ttotal: 54.4ms\tremaining: 18.1s\n",
      "3:\tlearn: 0.8296673\ttotal: 64.9ms\tremaining: 16.2s\n",
      "4:\tlearn: 0.7870421\ttotal: 76.1ms\tremaining: 15.1s\n",
      "5:\tlearn: 0.7517556\ttotal: 88.8ms\tremaining: 14.7s\n",
      "6:\tlearn: 0.7209905\ttotal: 99.4ms\tremaining: 14.1s\n",
      "7:\tlearn: 0.6938450\ttotal: 111ms\tremaining: 13.7s\n",
      "8:\tlearn: 0.6698595\ttotal: 121ms\tremaining: 13.3s\n",
      "9:\tlearn: 0.6493445\ttotal: 130ms\tremaining: 12.9s\n",
      "10:\tlearn: 0.6312896\ttotal: 140ms\tremaining: 12.6s\n",
      "11:\tlearn: 0.6153405\ttotal: 149ms\tremaining: 12.3s\n",
      "12:\tlearn: 0.6004008\ttotal: 159ms\tremaining: 12.1s\n",
      "13:\tlearn: 0.5877668\ttotal: 170ms\tremaining: 12s\n",
      "14:\tlearn: 0.5763207\ttotal: 180ms\tremaining: 11.8s\n",
      "15:\tlearn: 0.5655510\ttotal: 190ms\tremaining: 11.7s\n",
      "16:\tlearn: 0.5564930\ttotal: 201ms\tremaining: 11.6s\n",
      "17:\tlearn: 0.5478166\ttotal: 212ms\tremaining: 11.6s\n",
      "18:\tlearn: 0.5407116\ttotal: 222ms\tremaining: 11.4s\n",
      "19:\tlearn: 0.5337888\ttotal: 230ms\tremaining: 11.3s\n",
      "20:\tlearn: 0.5267241\ttotal: 239ms\tremaining: 11.2s\n",
      "21:\tlearn: 0.5208906\ttotal: 249ms\tremaining: 11.1s\n",
      "22:\tlearn: 0.5154357\ttotal: 259ms\tremaining: 11s\n",
      "23:\tlearn: 0.5111368\ttotal: 269ms\tremaining: 10.9s\n",
      "24:\tlearn: 0.5064670\ttotal: 278ms\tremaining: 10.8s\n",
      "25:\tlearn: 0.5026008\ttotal: 287ms\tremaining: 10.8s\n",
      "26:\tlearn: 0.4982947\ttotal: 297ms\tremaining: 10.7s\n",
      "27:\tlearn: 0.4946409\ttotal: 306ms\tremaining: 10.6s\n",
      "28:\tlearn: 0.4915029\ttotal: 315ms\tremaining: 10.6s\n",
      "29:\tlearn: 0.4880269\ttotal: 324ms\tremaining: 10.5s\n",
      "30:\tlearn: 0.4853411\ttotal: 335ms\tremaining: 10.5s\n",
      "31:\tlearn: 0.4827271\ttotal: 346ms\tremaining: 10.5s\n",
      "32:\tlearn: 0.4797013\ttotal: 356ms\tremaining: 10.4s\n",
      "33:\tlearn: 0.4775801\ttotal: 366ms\tremaining: 10.4s\n",
      "34:\tlearn: 0.4753945\ttotal: 376ms\tremaining: 10.4s\n",
      "35:\tlearn: 0.4733636\ttotal: 386ms\tremaining: 10.3s\n",
      "36:\tlearn: 0.4718801\ttotal: 396ms\tremaining: 10.3s\n",
      "37:\tlearn: 0.4699514\ttotal: 404ms\tremaining: 10.2s\n",
      "38:\tlearn: 0.4679433\ttotal: 413ms\tremaining: 10.2s\n",
      "39:\tlearn: 0.4661505\ttotal: 422ms\tremaining: 10.1s\n",
      "40:\tlearn: 0.4643513\ttotal: 431ms\tremaining: 10.1s\n",
      "41:\tlearn: 0.4631042\ttotal: 440ms\tremaining: 10s\n",
      "42:\tlearn: 0.4615356\ttotal: 448ms\tremaining: 9.97s\n",
      "43:\tlearn: 0.4600550\ttotal: 456ms\tremaining: 9.91s\n",
      "44:\tlearn: 0.4589271\ttotal: 465ms\tremaining: 9.86s\n",
      "45:\tlearn: 0.4575682\ttotal: 473ms\tremaining: 9.81s\n",
      "46:\tlearn: 0.4565489\ttotal: 481ms\tremaining: 9.76s\n",
      "47:\tlearn: 0.4553077\ttotal: 492ms\tremaining: 9.75s\n",
      "48:\tlearn: 0.4541823\ttotal: 504ms\tremaining: 9.78s\n",
      "49:\tlearn: 0.4529123\ttotal: 516ms\tremaining: 9.8s\n",
      "50:\tlearn: 0.4518976\ttotal: 525ms\tremaining: 9.77s\n",
      "51:\tlearn: 0.4507463\ttotal: 536ms\tremaining: 9.77s\n",
      "52:\tlearn: 0.4489498\ttotal: 547ms\tremaining: 9.77s\n",
      "53:\tlearn: 0.4480472\ttotal: 557ms\tremaining: 9.75s\n",
      "54:\tlearn: 0.4466250\ttotal: 567ms\tremaining: 9.74s\n",
      "55:\tlearn: 0.4458832\ttotal: 577ms\tremaining: 9.72s\n",
      "56:\tlearn: 0.4449768\ttotal: 585ms\tremaining: 9.69s\n",
      "57:\tlearn: 0.4442247\ttotal: 595ms\tremaining: 9.66s\n",
      "58:\tlearn: 0.4433486\ttotal: 603ms\tremaining: 9.62s\n",
      "59:\tlearn: 0.4418186\ttotal: 614ms\tremaining: 9.62s\n",
      "60:\tlearn: 0.4412514\ttotal: 626ms\tremaining: 9.63s\n",
      "61:\tlearn: 0.4405140\ttotal: 635ms\tremaining: 9.6s\n",
      "62:\tlearn: 0.4397939\ttotal: 643ms\tremaining: 9.57s\n",
      "63:\tlearn: 0.4388877\ttotal: 652ms\tremaining: 9.54s\n",
      "64:\tlearn: 0.4380998\ttotal: 661ms\tremaining: 9.5s\n",
      "65:\tlearn: 0.4371513\ttotal: 669ms\tremaining: 9.46s\n",
      "66:\tlearn: 0.4365299\ttotal: 677ms\tremaining: 9.43s\n",
      "67:\tlearn: 0.4357709\ttotal: 686ms\tremaining: 9.4s\n",
      "68:\tlearn: 0.4347383\ttotal: 695ms\tremaining: 9.37s\n",
      "69:\tlearn: 0.4340722\ttotal: 703ms\tremaining: 9.35s\n",
      "70:\tlearn: 0.4335005\ttotal: 711ms\tremaining: 9.31s\n",
      "71:\tlearn: 0.4329174\ttotal: 720ms\tremaining: 9.28s\n",
      "72:\tlearn: 0.4319571\ttotal: 731ms\tremaining: 9.28s\n",
      "73:\tlearn: 0.4313829\ttotal: 741ms\tremaining: 9.27s\n",
      "74:\tlearn: 0.4305015\ttotal: 753ms\tremaining: 9.29s\n",
      "75:\tlearn: 0.4296911\ttotal: 764ms\tremaining: 9.29s\n",
      "76:\tlearn: 0.4290726\ttotal: 776ms\tremaining: 9.3s\n",
      "77:\tlearn: 0.4282332\ttotal: 787ms\tremaining: 9.3s\n",
      "78:\tlearn: 0.4269370\ttotal: 797ms\tremaining: 9.29s\n",
      "79:\tlearn: 0.4261474\ttotal: 808ms\tremaining: 9.29s\n",
      "80:\tlearn: 0.4254510\ttotal: 817ms\tremaining: 9.26s\n",
      "81:\tlearn: 0.4248301\ttotal: 827ms\tremaining: 9.26s\n",
      "82:\tlearn: 0.4239244\ttotal: 838ms\tremaining: 9.25s\n",
      "83:\tlearn: 0.4234704\ttotal: 846ms\tremaining: 9.22s\n",
      "84:\tlearn: 0.4227796\ttotal: 855ms\tremaining: 9.21s\n",
      "85:\tlearn: 0.4223275\ttotal: 864ms\tremaining: 9.18s\n",
      "86:\tlearn: 0.4215216\ttotal: 872ms\tremaining: 9.15s\n",
      "87:\tlearn: 0.4209832\ttotal: 881ms\tremaining: 9.13s\n",
      "88:\tlearn: 0.4203282\ttotal: 890ms\tremaining: 9.11s\n",
      "89:\tlearn: 0.4194208\ttotal: 899ms\tremaining: 9.09s\n",
      "90:\tlearn: 0.4186739\ttotal: 906ms\tremaining: 9.05s\n",
      "91:\tlearn: 0.4175586\ttotal: 916ms\tremaining: 9.04s\n",
      "92:\tlearn: 0.4169115\ttotal: 925ms\tremaining: 9.02s\n",
      "93:\tlearn: 0.4161933\ttotal: 934ms\tremaining: 9s\n",
      "94:\tlearn: 0.4157745\ttotal: 942ms\tremaining: 8.97s\n",
      "95:\tlearn: 0.4152446\ttotal: 952ms\tremaining: 8.96s\n",
      "96:\tlearn: 0.4143240\ttotal: 962ms\tremaining: 8.96s\n",
      "97:\tlearn: 0.4134745\ttotal: 974ms\tremaining: 8.96s\n",
      "98:\tlearn: 0.4129458\ttotal: 986ms\tremaining: 8.97s\n",
      "99:\tlearn: 0.4125708\ttotal: 995ms\tremaining: 8.95s\n",
      "100:\tlearn: 0.4117760\ttotal: 1.01s\tremaining: 8.96s\n",
      "101:\tlearn: 0.4112668\ttotal: 1.01s\tremaining: 8.94s\n",
      "102:\tlearn: 0.4109217\ttotal: 1.03s\tremaining: 8.94s\n",
      "103:\tlearn: 0.4103556\ttotal: 1.04s\tremaining: 8.94s\n",
      "104:\tlearn: 0.4097990\ttotal: 1.05s\tremaining: 8.92s\n",
      "105:\tlearn: 0.4092664\ttotal: 1.05s\tremaining: 8.89s\n",
      "106:\tlearn: 0.4086891\ttotal: 1.06s\tremaining: 8.86s\n",
      "107:\tlearn: 0.4080079\ttotal: 1.07s\tremaining: 8.82s\n",
      "108:\tlearn: 0.4076368\ttotal: 1.08s\tremaining: 8.8s\n",
      "109:\tlearn: 0.4066926\ttotal: 1.08s\tremaining: 8.78s\n",
      "110:\tlearn: 0.4059552\ttotal: 1.09s\tremaining: 8.76s\n",
      "111:\tlearn: 0.4055773\ttotal: 1.1s\tremaining: 8.74s\n",
      "112:\tlearn: 0.4049424\ttotal: 1.11s\tremaining: 8.72s\n",
      "113:\tlearn: 0.4045270\ttotal: 1.12s\tremaining: 8.7s\n",
      "114:\tlearn: 0.4039520\ttotal: 1.13s\tremaining: 8.69s\n",
      "115:\tlearn: 0.4035601\ttotal: 1.14s\tremaining: 8.67s\n",
      "116:\tlearn: 0.4030893\ttotal: 1.15s\tremaining: 8.66s\n",
      "117:\tlearn: 0.4020264\ttotal: 1.16s\tremaining: 8.63s\n",
      "118:\tlearn: 0.4016728\ttotal: 1.16s\tremaining: 8.61s\n",
      "119:\tlearn: 0.4010975\ttotal: 1.17s\tremaining: 8.58s\n",
      "120:\tlearn: 0.4007572\ttotal: 1.18s\tremaining: 8.56s\n",
      "121:\tlearn: 0.4003050\ttotal: 1.19s\tremaining: 8.53s\n",
      "122:\tlearn: 0.3998517\ttotal: 1.19s\tremaining: 8.51s\n",
      "123:\tlearn: 0.3995372\ttotal: 1.2s\tremaining: 8.49s\n",
      "124:\tlearn: 0.3988621\ttotal: 1.21s\tremaining: 8.47s\n",
      "125:\tlearn: 0.3982313\ttotal: 1.22s\tremaining: 8.45s\n",
      "126:\tlearn: 0.3977147\ttotal: 1.23s\tremaining: 8.43s\n",
      "127:\tlearn: 0.3971855\ttotal: 1.23s\tremaining: 8.4s\n",
      "128:\tlearn: 0.3967860\ttotal: 1.24s\tremaining: 8.38s\n",
      "129:\tlearn: 0.3962333\ttotal: 1.25s\tremaining: 8.36s\n",
      "130:\tlearn: 0.3957575\ttotal: 1.26s\tremaining: 8.35s\n",
      "131:\tlearn: 0.3954583\ttotal: 1.27s\tremaining: 8.33s\n",
      "132:\tlearn: 0.3950048\ttotal: 1.27s\tremaining: 8.31s\n",
      "133:\tlearn: 0.3941219\ttotal: 1.28s\tremaining: 8.3s\n",
      "134:\tlearn: 0.3938227\ttotal: 1.29s\tremaining: 8.3s\n",
      "135:\tlearn: 0.3933866\ttotal: 1.3s\tremaining: 8.29s\n",
      "136:\tlearn: 0.3926132\ttotal: 1.31s\tremaining: 8.28s\n",
      "137:\tlearn: 0.3920598\ttotal: 1.32s\tremaining: 8.26s\n",
      "138:\tlearn: 0.3914080\ttotal: 1.33s\tremaining: 8.24s\n",
      "139:\tlearn: 0.3909935\ttotal: 1.34s\tremaining: 8.25s\n",
      "140:\tlearn: 0.3905068\ttotal: 1.35s\tremaining: 8.26s\n",
      "141:\tlearn: 0.3902266\ttotal: 1.37s\tremaining: 8.27s\n",
      "142:\tlearn: 0.3897375\ttotal: 1.38s\tremaining: 8.26s\n",
      "143:\tlearn: 0.3890231\ttotal: 1.39s\tremaining: 8.25s\n",
      "144:\tlearn: 0.3885344\ttotal: 1.4s\tremaining: 8.23s\n",
      "145:\tlearn: 0.3877112\ttotal: 1.4s\tremaining: 8.21s\n",
      "146:\tlearn: 0.3873404\ttotal: 1.41s\tremaining: 8.19s\n",
      "147:\tlearn: 0.3868290\ttotal: 1.42s\tremaining: 8.18s\n",
      "148:\tlearn: 0.3860348\ttotal: 1.43s\tremaining: 8.16s\n",
      "149:\tlearn: 0.3857690\ttotal: 1.44s\tremaining: 8.14s\n",
      "150:\tlearn: 0.3849918\ttotal: 1.44s\tremaining: 8.12s\n",
      "151:\tlearn: 0.3844913\ttotal: 1.45s\tremaining: 8.11s\n",
      "152:\tlearn: 0.3839717\ttotal: 1.46s\tremaining: 8.1s\n",
      "153:\tlearn: 0.3834620\ttotal: 1.47s\tremaining: 8.09s\n",
      "154:\tlearn: 0.3829415\ttotal: 1.48s\tremaining: 8.07s\n",
      "155:\tlearn: 0.3825528\ttotal: 1.49s\tremaining: 8.07s\n",
      "156:\tlearn: 0.3821488\ttotal: 1.5s\tremaining: 8.06s\n",
      "157:\tlearn: 0.3814623\ttotal: 1.51s\tremaining: 8.05s\n",
      "158:\tlearn: 0.3809331\ttotal: 1.52s\tremaining: 8.05s\n",
      "159:\tlearn: 0.3803681\ttotal: 1.53s\tremaining: 8.06s\n",
      "160:\tlearn: 0.3799746\ttotal: 1.55s\tremaining: 8.07s\n",
      "161:\tlearn: 0.3795474\ttotal: 1.56s\tremaining: 8.07s\n",
      "162:\tlearn: 0.3789175\ttotal: 1.57s\tremaining: 8.06s\n",
      "163:\tlearn: 0.3785667\ttotal: 1.58s\tremaining: 8.04s\n",
      "164:\tlearn: 0.3781984\ttotal: 1.59s\tremaining: 8.03s\n",
      "165:\tlearn: 0.3777859\ttotal: 1.59s\tremaining: 8.01s\n",
      "166:\tlearn: 0.3772330\ttotal: 1.6s\tremaining: 8s\n",
      "167:\tlearn: 0.3767972\ttotal: 1.61s\tremaining: 7.98s\n",
      "168:\tlearn: 0.3763902\ttotal: 1.62s\tremaining: 7.97s\n",
      "169:\tlearn: 0.3759853\ttotal: 1.63s\tremaining: 7.96s\n",
      "170:\tlearn: 0.3755422\ttotal: 1.64s\tremaining: 7.95s\n"
     ]
    },
    {
     "name": "stdout",
     "output_type": "stream",
     "text": [
      "171:\tlearn: 0.3750142\ttotal: 1.65s\tremaining: 7.94s\n",
      "172:\tlearn: 0.3746218\ttotal: 1.66s\tremaining: 7.93s\n",
      "173:\tlearn: 0.3743024\ttotal: 1.67s\tremaining: 7.92s\n",
      "174:\tlearn: 0.3737941\ttotal: 1.68s\tremaining: 7.91s\n",
      "175:\tlearn: 0.3734048\ttotal: 1.69s\tremaining: 7.9s\n",
      "176:\tlearn: 0.3728838\ttotal: 1.7s\tremaining: 7.89s\n",
      "177:\tlearn: 0.3724980\ttotal: 1.7s\tremaining: 7.87s\n",
      "178:\tlearn: 0.3720065\ttotal: 1.71s\tremaining: 7.86s\n",
      "179:\tlearn: 0.3716497\ttotal: 1.72s\tremaining: 7.85s\n",
      "180:\tlearn: 0.3712097\ttotal: 1.73s\tremaining: 7.84s\n",
      "181:\tlearn: 0.3708980\ttotal: 1.74s\tremaining: 7.83s\n",
      "182:\tlearn: 0.3706074\ttotal: 1.75s\tremaining: 7.81s\n",
      "183:\tlearn: 0.3703026\ttotal: 1.76s\tremaining: 7.81s\n",
      "184:\tlearn: 0.3696536\ttotal: 1.77s\tremaining: 7.8s\n",
      "185:\tlearn: 0.3691733\ttotal: 1.78s\tremaining: 7.79s\n",
      "186:\tlearn: 0.3685912\ttotal: 1.79s\tremaining: 7.78s\n",
      "187:\tlearn: 0.3680533\ttotal: 1.81s\tremaining: 7.82s\n",
      "188:\tlearn: 0.3673129\ttotal: 1.82s\tremaining: 7.81s\n",
      "189:\tlearn: 0.3667196\ttotal: 1.83s\tremaining: 7.8s\n",
      "190:\tlearn: 0.3660580\ttotal: 1.84s\tremaining: 7.78s\n",
      "191:\tlearn: 0.3653638\ttotal: 1.85s\tremaining: 7.78s\n",
      "192:\tlearn: 0.3651164\ttotal: 1.86s\tremaining: 7.78s\n",
      "193:\tlearn: 0.3647108\ttotal: 1.87s\tremaining: 7.77s\n",
      "194:\tlearn: 0.3643546\ttotal: 1.88s\tremaining: 7.76s\n",
      "195:\tlearn: 0.3639633\ttotal: 1.89s\tremaining: 7.76s\n",
      "196:\tlearn: 0.3635243\ttotal: 1.9s\tremaining: 7.75s\n",
      "197:\tlearn: 0.3632857\ttotal: 1.91s\tremaining: 7.75s\n",
      "198:\tlearn: 0.3626659\ttotal: 1.92s\tremaining: 7.74s\n",
      "199:\tlearn: 0.3621352\ttotal: 1.93s\tremaining: 7.72s\n",
      "200:\tlearn: 0.3619190\ttotal: 1.94s\tremaining: 7.71s\n",
      "201:\tlearn: 0.3611290\ttotal: 1.95s\tremaining: 7.7s\n",
      "202:\tlearn: 0.3605743\ttotal: 1.96s\tremaining: 7.69s\n",
      "203:\tlearn: 0.3602059\ttotal: 1.97s\tremaining: 7.67s\n",
      "204:\tlearn: 0.3596556\ttotal: 1.98s\tremaining: 7.66s\n",
      "205:\tlearn: 0.3589966\ttotal: 1.98s\tremaining: 7.65s\n",
      "206:\tlearn: 0.3584248\ttotal: 2s\tremaining: 7.64s\n",
      "207:\tlearn: 0.3582154\ttotal: 2s\tremaining: 7.64s\n",
      "208:\tlearn: 0.3573874\ttotal: 2.02s\tremaining: 7.63s\n",
      "209:\tlearn: 0.3571624\ttotal: 2.02s\tremaining: 7.62s\n",
      "210:\tlearn: 0.3567160\ttotal: 2.03s\tremaining: 7.61s\n",
      "211:\tlearn: 0.3561911\ttotal: 2.04s\tremaining: 7.6s\n",
      "212:\tlearn: 0.3559410\ttotal: 2.05s\tremaining: 7.59s\n",
      "213:\tlearn: 0.3555561\ttotal: 2.07s\tremaining: 7.59s\n",
      "214:\tlearn: 0.3552092\ttotal: 2.08s\tremaining: 7.58s\n",
      "215:\tlearn: 0.3547740\ttotal: 2.09s\tremaining: 7.57s\n",
      "216:\tlearn: 0.3545150\ttotal: 2.09s\tremaining: 7.56s\n",
      "217:\tlearn: 0.3538550\ttotal: 2.1s\tremaining: 7.54s\n",
      "218:\tlearn: 0.3532556\ttotal: 2.11s\tremaining: 7.53s\n",
      "219:\tlearn: 0.3527390\ttotal: 2.12s\tremaining: 7.52s\n",
      "220:\tlearn: 0.3524503\ttotal: 2.13s\tremaining: 7.51s\n",
      "221:\tlearn: 0.3520917\ttotal: 2.14s\tremaining: 7.5s\n",
      "222:\tlearn: 0.3518192\ttotal: 2.15s\tremaining: 7.49s\n",
      "223:\tlearn: 0.3514227\ttotal: 2.16s\tremaining: 7.49s\n",
      "224:\tlearn: 0.3508355\ttotal: 2.17s\tremaining: 7.48s\n",
      "225:\tlearn: 0.3506401\ttotal: 2.18s\tremaining: 7.47s\n",
      "226:\tlearn: 0.3504190\ttotal: 2.19s\tremaining: 7.46s\n",
      "227:\tlearn: 0.3499614\ttotal: 2.2s\tremaining: 7.45s\n",
      "228:\tlearn: 0.3497008\ttotal: 2.21s\tremaining: 7.43s\n",
      "229:\tlearn: 0.3494081\ttotal: 2.22s\tremaining: 7.42s\n",
      "230:\tlearn: 0.3490545\ttotal: 2.23s\tremaining: 7.41s\n",
      "231:\tlearn: 0.3488556\ttotal: 2.23s\tremaining: 7.39s\n",
      "232:\tlearn: 0.3484002\ttotal: 2.24s\tremaining: 7.38s\n",
      "233:\tlearn: 0.3478932\ttotal: 2.25s\tremaining: 7.37s\n",
      "234:\tlearn: 0.3476534\ttotal: 2.26s\tremaining: 7.36s\n",
      "235:\tlearn: 0.3473358\ttotal: 2.27s\tremaining: 7.35s\n",
      "236:\tlearn: 0.3471300\ttotal: 2.28s\tremaining: 7.33s\n",
      "237:\tlearn: 0.3466740\ttotal: 2.29s\tremaining: 7.32s\n",
      "238:\tlearn: 0.3463441\ttotal: 2.31s\tremaining: 7.35s\n",
      "239:\tlearn: 0.3459930\ttotal: 2.33s\tremaining: 7.38s\n",
      "240:\tlearn: 0.3456398\ttotal: 2.35s\tremaining: 7.39s\n",
      "241:\tlearn: 0.3454004\ttotal: 2.36s\tremaining: 7.38s\n",
      "242:\tlearn: 0.3450080\ttotal: 2.37s\tremaining: 7.37s\n",
      "243:\tlearn: 0.3446783\ttotal: 2.37s\tremaining: 7.36s\n",
      "244:\tlearn: 0.3444178\ttotal: 2.38s\tremaining: 7.34s\n",
      "245:\tlearn: 0.3441662\ttotal: 2.39s\tremaining: 7.32s\n",
      "246:\tlearn: 0.3439697\ttotal: 2.4s\tremaining: 7.31s\n",
      "247:\tlearn: 0.3435124\ttotal: 2.41s\tremaining: 7.3s\n",
      "248:\tlearn: 0.3431453\ttotal: 2.42s\tremaining: 7.29s\n",
      "249:\tlearn: 0.3427718\ttotal: 2.42s\tremaining: 7.28s\n",
      "250:\tlearn: 0.3423062\ttotal: 2.43s\tremaining: 7.26s\n",
      "251:\tlearn: 0.3421484\ttotal: 2.44s\tremaining: 7.25s\n",
      "252:\tlearn: 0.3416203\ttotal: 2.45s\tremaining: 7.24s\n",
      "253:\tlearn: 0.3412514\ttotal: 2.46s\tremaining: 7.23s\n",
      "254:\tlearn: 0.3406767\ttotal: 2.47s\tremaining: 7.22s\n",
      "255:\tlearn: 0.3403703\ttotal: 2.48s\tremaining: 7.22s\n",
      "256:\tlearn: 0.3399866\ttotal: 2.49s\tremaining: 7.2s\n",
      "257:\tlearn: 0.3396477\ttotal: 2.5s\tremaining: 7.19s\n",
      "258:\tlearn: 0.3392018\ttotal: 2.51s\tremaining: 7.18s\n",
      "259:\tlearn: 0.3387602\ttotal: 2.52s\tremaining: 7.17s\n",
      "260:\tlearn: 0.3382851\ttotal: 2.53s\tremaining: 7.17s\n",
      "261:\tlearn: 0.3380723\ttotal: 2.54s\tremaining: 7.16s\n",
      "262:\tlearn: 0.3377643\ttotal: 2.55s\tremaining: 7.14s\n",
      "263:\tlearn: 0.3373630\ttotal: 2.56s\tremaining: 7.14s\n",
      "264:\tlearn: 0.3372500\ttotal: 2.57s\tremaining: 7.13s\n",
      "265:\tlearn: 0.3368769\ttotal: 2.58s\tremaining: 7.12s\n",
      "266:\tlearn: 0.3365776\ttotal: 2.59s\tremaining: 7.11s\n",
      "267:\tlearn: 0.3359589\ttotal: 2.6s\tremaining: 7.1s\n",
      "268:\tlearn: 0.3355616\ttotal: 2.61s\tremaining: 7.09s\n",
      "269:\tlearn: 0.3353062\ttotal: 2.62s\tremaining: 7.07s\n",
      "270:\tlearn: 0.3346464\ttotal: 2.62s\tremaining: 7.06s\n",
      "271:\tlearn: 0.3337272\ttotal: 2.63s\tremaining: 7.04s\n",
      "272:\tlearn: 0.3333532\ttotal: 2.64s\tremaining: 7.03s\n",
      "273:\tlearn: 0.3331122\ttotal: 2.65s\tremaining: 7.03s\n",
      "274:\tlearn: 0.3327183\ttotal: 2.66s\tremaining: 7.02s\n",
      "275:\tlearn: 0.3323997\ttotal: 2.67s\tremaining: 7.01s\n",
      "276:\tlearn: 0.3321247\ttotal: 2.68s\tremaining: 7s\n",
      "277:\tlearn: 0.3319447\ttotal: 2.69s\tremaining: 6.99s\n",
      "278:\tlearn: 0.3317899\ttotal: 2.7s\tremaining: 6.97s\n",
      "279:\tlearn: 0.3312343\ttotal: 2.71s\tremaining: 6.96s\n",
      "280:\tlearn: 0.3308910\ttotal: 2.71s\tremaining: 6.95s\n",
      "281:\tlearn: 0.3305988\ttotal: 2.72s\tremaining: 6.93s\n",
      "282:\tlearn: 0.3301236\ttotal: 2.73s\tremaining: 6.92s\n",
      "283:\tlearn: 0.3297476\ttotal: 2.74s\tremaining: 6.91s\n",
      "284:\tlearn: 0.3295236\ttotal: 2.75s\tremaining: 6.9s\n",
      "285:\tlearn: 0.3291561\ttotal: 2.76s\tremaining: 6.89s\n",
      "286:\tlearn: 0.3284367\ttotal: 2.77s\tremaining: 6.88s\n",
      "287:\tlearn: 0.3282587\ttotal: 2.78s\tremaining: 6.87s\n",
      "288:\tlearn: 0.3279645\ttotal: 2.79s\tremaining: 6.87s\n",
      "289:\tlearn: 0.3278171\ttotal: 2.8s\tremaining: 6.85s\n",
      "290:\tlearn: 0.3273894\ttotal: 2.81s\tremaining: 6.85s\n",
      "291:\tlearn: 0.3269845\ttotal: 2.82s\tremaining: 6.84s\n",
      "292:\tlearn: 0.3267172\ttotal: 2.84s\tremaining: 6.85s\n",
      "293:\tlearn: 0.3263096\ttotal: 2.85s\tremaining: 6.84s\n",
      "294:\tlearn: 0.3261344\ttotal: 2.86s\tremaining: 6.83s\n",
      "295:\tlearn: 0.3259165\ttotal: 2.87s\tremaining: 6.82s\n",
      "296:\tlearn: 0.3256048\ttotal: 2.87s\tremaining: 6.8s\n",
      "297:\tlearn: 0.3254061\ttotal: 2.88s\tremaining: 6.79s\n",
      "298:\tlearn: 0.3249320\ttotal: 2.89s\tremaining: 6.79s\n",
      "299:\tlearn: 0.3246923\ttotal: 2.91s\tremaining: 6.78s\n",
      "300:\tlearn: 0.3243879\ttotal: 2.92s\tremaining: 6.77s\n",
      "301:\tlearn: 0.3239158\ttotal: 2.92s\tremaining: 6.76s\n",
      "302:\tlearn: 0.3236870\ttotal: 2.93s\tremaining: 6.74s\n",
      "303:\tlearn: 0.3234402\ttotal: 2.94s\tremaining: 6.73s\n",
      "304:\tlearn: 0.3229758\ttotal: 2.95s\tremaining: 6.72s\n",
      "305:\tlearn: 0.3225952\ttotal: 2.96s\tremaining: 6.71s\n",
      "306:\tlearn: 0.3220914\ttotal: 2.97s\tremaining: 6.7s\n",
      "307:\tlearn: 0.3218982\ttotal: 2.98s\tremaining: 6.68s\n",
      "308:\tlearn: 0.3214623\ttotal: 2.98s\tremaining: 6.67s\n",
      "309:\tlearn: 0.3211334\ttotal: 2.99s\tremaining: 6.66s\n",
      "310:\tlearn: 0.3208726\ttotal: 3s\tremaining: 6.65s\n",
      "311:\tlearn: 0.3204187\ttotal: 3.01s\tremaining: 6.64s\n",
      "312:\tlearn: 0.3201968\ttotal: 3.02s\tremaining: 6.63s\n",
      "313:\tlearn: 0.3199317\ttotal: 3.03s\tremaining: 6.62s\n",
      "314:\tlearn: 0.3196676\ttotal: 3.04s\tremaining: 6.61s\n",
      "315:\tlearn: 0.3194175\ttotal: 3.05s\tremaining: 6.6s\n",
      "316:\tlearn: 0.3189486\ttotal: 3.06s\tremaining: 6.58s\n",
      "317:\tlearn: 0.3184440\ttotal: 3.07s\tremaining: 6.58s\n",
      "318:\tlearn: 0.3181456\ttotal: 3.08s\tremaining: 6.57s\n",
      "319:\tlearn: 0.3178050\ttotal: 3.09s\tremaining: 6.56s\n",
      "320:\tlearn: 0.3175820\ttotal: 3.1s\tremaining: 6.55s\n",
      "321:\tlearn: 0.3171554\ttotal: 3.1s\tremaining: 6.54s\n",
      "322:\tlearn: 0.3168625\ttotal: 3.11s\tremaining: 6.52s\n",
      "323:\tlearn: 0.3165380\ttotal: 3.12s\tremaining: 6.51s\n",
      "324:\tlearn: 0.3163612\ttotal: 3.13s\tremaining: 6.5s\n",
      "325:\tlearn: 0.3161564\ttotal: 3.13s\tremaining: 6.48s\n",
      "326:\tlearn: 0.3155746\ttotal: 3.14s\tremaining: 6.47s\n",
      "327:\tlearn: 0.3151776\ttotal: 3.15s\tremaining: 6.46s\n",
      "328:\tlearn: 0.3147258\ttotal: 3.16s\tremaining: 6.45s\n",
      "329:\tlearn: 0.3142557\ttotal: 3.17s\tremaining: 6.44s\n",
      "330:\tlearn: 0.3140695\ttotal: 3.18s\tremaining: 6.43s\n",
      "331:\tlearn: 0.3135480\ttotal: 3.19s\tremaining: 6.42s\n",
      "332:\tlearn: 0.3132710\ttotal: 3.2s\tremaining: 6.41s\n",
      "333:\tlearn: 0.3130940\ttotal: 3.21s\tremaining: 6.4s\n",
      "334:\tlearn: 0.3129253\ttotal: 3.22s\tremaining: 6.39s\n",
      "335:\tlearn: 0.3126981\ttotal: 3.23s\tremaining: 6.38s\n",
      "336:\tlearn: 0.3122284\ttotal: 3.23s\tremaining: 6.36s\n",
      "337:\tlearn: 0.3120050\ttotal: 3.24s\tremaining: 6.35s\n",
      "338:\tlearn: 0.3116546\ttotal: 3.26s\tremaining: 6.35s\n",
      "339:\tlearn: 0.3114862\ttotal: 3.27s\tremaining: 6.34s\n",
      "340:\tlearn: 0.3110904\ttotal: 3.28s\tremaining: 6.34s\n",
      "341:\tlearn: 0.3107394\ttotal: 3.29s\tremaining: 6.33s\n"
     ]
    },
    {
     "name": "stdout",
     "output_type": "stream",
     "text": [
      "342:\tlearn: 0.3103719\ttotal: 3.3s\tremaining: 6.32s\n",
      "343:\tlearn: 0.3100971\ttotal: 3.31s\tremaining: 6.31s\n",
      "344:\tlearn: 0.3098300\ttotal: 3.32s\tremaining: 6.31s\n",
      "345:\tlearn: 0.3095809\ttotal: 3.33s\tremaining: 6.3s\n",
      "346:\tlearn: 0.3094166\ttotal: 3.35s\tremaining: 6.29s\n",
      "347:\tlearn: 0.3091542\ttotal: 3.35s\tremaining: 6.29s\n",
      "348:\tlearn: 0.3087728\ttotal: 3.36s\tremaining: 6.27s\n",
      "349:\tlearn: 0.3084727\ttotal: 3.37s\tremaining: 6.26s\n",
      "350:\tlearn: 0.3081085\ttotal: 3.38s\tremaining: 6.25s\n",
      "351:\tlearn: 0.3078346\ttotal: 3.39s\tremaining: 6.24s\n",
      "352:\tlearn: 0.3074885\ttotal: 3.4s\tremaining: 6.23s\n",
      "353:\tlearn: 0.3071605\ttotal: 3.4s\tremaining: 6.21s\n",
      "354:\tlearn: 0.3068285\ttotal: 3.42s\tremaining: 6.21s\n",
      "355:\tlearn: 0.3064836\ttotal: 3.43s\tremaining: 6.2s\n",
      "356:\tlearn: 0.3062010\ttotal: 3.44s\tremaining: 6.19s\n",
      "357:\tlearn: 0.3059159\ttotal: 3.45s\tremaining: 6.18s\n",
      "358:\tlearn: 0.3056604\ttotal: 3.46s\tremaining: 6.18s\n",
      "359:\tlearn: 0.3053478\ttotal: 3.47s\tremaining: 6.17s\n",
      "360:\tlearn: 0.3052057\ttotal: 3.48s\tremaining: 6.16s\n",
      "361:\tlearn: 0.3047305\ttotal: 3.49s\tremaining: 6.15s\n",
      "362:\tlearn: 0.3044505\ttotal: 3.5s\tremaining: 6.13s\n",
      "363:\tlearn: 0.3041647\ttotal: 3.5s\tremaining: 6.12s\n",
      "364:\tlearn: 0.3040060\ttotal: 3.51s\tremaining: 6.11s\n",
      "365:\tlearn: 0.3036296\ttotal: 3.52s\tremaining: 6.1s\n",
      "366:\tlearn: 0.3034172\ttotal: 3.53s\tremaining: 6.09s\n",
      "367:\tlearn: 0.3030808\ttotal: 3.54s\tremaining: 6.08s\n",
      "368:\tlearn: 0.3029304\ttotal: 3.55s\tremaining: 6.07s\n",
      "369:\tlearn: 0.3027440\ttotal: 3.56s\tremaining: 6.05s\n",
      "370:\tlearn: 0.3025501\ttotal: 3.56s\tremaining: 6.04s\n",
      "371:\tlearn: 0.3024235\ttotal: 3.58s\tremaining: 6.04s\n",
      "372:\tlearn: 0.3021999\ttotal: 3.59s\tremaining: 6.03s\n",
      "373:\tlearn: 0.3019810\ttotal: 3.6s\tremaining: 6.02s\n",
      "374:\tlearn: 0.3017204\ttotal: 3.6s\tremaining: 6.01s\n",
      "375:\tlearn: 0.3013786\ttotal: 3.61s\tremaining: 6s\n",
      "376:\tlearn: 0.3009955\ttotal: 3.62s\tremaining: 5.99s\n",
      "377:\tlearn: 0.3006254\ttotal: 3.63s\tremaining: 5.97s\n",
      "378:\tlearn: 0.3004398\ttotal: 3.64s\tremaining: 5.96s\n",
      "379:\tlearn: 0.3001191\ttotal: 3.65s\tremaining: 5.95s\n",
      "380:\tlearn: 0.2998556\ttotal: 3.66s\tremaining: 5.95s\n",
      "381:\tlearn: 0.2995741\ttotal: 3.67s\tremaining: 5.94s\n",
      "382:\tlearn: 0.2993542\ttotal: 3.68s\tremaining: 5.93s\n",
      "383:\tlearn: 0.2990101\ttotal: 3.69s\tremaining: 5.92s\n",
      "384:\tlearn: 0.2985210\ttotal: 3.7s\tremaining: 5.91s\n",
      "385:\tlearn: 0.2980270\ttotal: 3.71s\tremaining: 5.89s\n",
      "386:\tlearn: 0.2977332\ttotal: 3.71s\tremaining: 5.88s\n",
      "387:\tlearn: 0.2974236\ttotal: 3.72s\tremaining: 5.87s\n",
      "388:\tlearn: 0.2969400\ttotal: 3.73s\tremaining: 5.86s\n",
      "389:\tlearn: 0.2967355\ttotal: 3.74s\tremaining: 5.85s\n",
      "390:\tlearn: 0.2963503\ttotal: 3.75s\tremaining: 5.83s\n",
      "391:\tlearn: 0.2961589\ttotal: 3.75s\tremaining: 5.82s\n",
      "392:\tlearn: 0.2958464\ttotal: 3.76s\tremaining: 5.81s\n",
      "393:\tlearn: 0.2956378\ttotal: 3.77s\tremaining: 5.8s\n",
      "394:\tlearn: 0.2954111\ttotal: 3.78s\tremaining: 5.79s\n",
      "395:\tlearn: 0.2952086\ttotal: 3.79s\tremaining: 5.78s\n",
      "396:\tlearn: 0.2949406\ttotal: 3.8s\tremaining: 5.77s\n",
      "397:\tlearn: 0.2948198\ttotal: 3.81s\tremaining: 5.76s\n",
      "398:\tlearn: 0.2945264\ttotal: 3.82s\tremaining: 5.75s\n",
      "399:\tlearn: 0.2941386\ttotal: 3.84s\tremaining: 5.76s\n",
      "400:\tlearn: 0.2939223\ttotal: 3.85s\tremaining: 5.75s\n",
      "401:\tlearn: 0.2937203\ttotal: 3.86s\tremaining: 5.74s\n",
      "402:\tlearn: 0.2934398\ttotal: 3.87s\tremaining: 5.73s\n",
      "403:\tlearn: 0.2932200\ttotal: 3.88s\tremaining: 5.72s\n",
      "404:\tlearn: 0.2929574\ttotal: 3.88s\tremaining: 5.71s\n",
      "405:\tlearn: 0.2927205\ttotal: 3.89s\tremaining: 5.7s\n",
      "406:\tlearn: 0.2924649\ttotal: 3.9s\tremaining: 5.68s\n",
      "407:\tlearn: 0.2920704\ttotal: 3.91s\tremaining: 5.67s\n",
      "408:\tlearn: 0.2918314\ttotal: 3.92s\tremaining: 5.67s\n",
      "409:\tlearn: 0.2914632\ttotal: 3.93s\tremaining: 5.66s\n",
      "410:\tlearn: 0.2913040\ttotal: 3.94s\tremaining: 5.65s\n",
      "411:\tlearn: 0.2910535\ttotal: 3.95s\tremaining: 5.64s\n",
      "412:\tlearn: 0.2908269\ttotal: 3.96s\tremaining: 5.63s\n",
      "413:\tlearn: 0.2904622\ttotal: 3.97s\tremaining: 5.62s\n",
      "414:\tlearn: 0.2900377\ttotal: 3.98s\tremaining: 5.61s\n",
      "415:\tlearn: 0.2898124\ttotal: 3.99s\tremaining: 5.6s\n",
      "416:\tlearn: 0.2896169\ttotal: 4s\tremaining: 5.59s\n",
      "417:\tlearn: 0.2893667\ttotal: 4.01s\tremaining: 5.58s\n",
      "418:\tlearn: 0.2890900\ttotal: 4.02s\tremaining: 5.58s\n",
      "419:\tlearn: 0.2889436\ttotal: 4.03s\tremaining: 5.57s\n",
      "420:\tlearn: 0.2886750\ttotal: 4.04s\tremaining: 5.56s\n",
      "421:\tlearn: 0.2883900\ttotal: 4.06s\tremaining: 5.56s\n",
      "422:\tlearn: 0.2881098\ttotal: 4.07s\tremaining: 5.55s\n",
      "423:\tlearn: 0.2878096\ttotal: 4.08s\tremaining: 5.54s\n",
      "424:\tlearn: 0.2876229\ttotal: 4.09s\tremaining: 5.54s\n",
      "425:\tlearn: 0.2875080\ttotal: 4.1s\tremaining: 5.52s\n",
      "426:\tlearn: 0.2872688\ttotal: 4.11s\tremaining: 5.51s\n",
      "427:\tlearn: 0.2867943\ttotal: 4.12s\tremaining: 5.5s\n",
      "428:\tlearn: 0.2866140\ttotal: 4.13s\tremaining: 5.49s\n",
      "429:\tlearn: 0.2864222\ttotal: 4.13s\tremaining: 5.48s\n",
      "430:\tlearn: 0.2862027\ttotal: 4.14s\tremaining: 5.47s\n",
      "431:\tlearn: 0.2859928\ttotal: 4.15s\tremaining: 5.46s\n",
      "432:\tlearn: 0.2857883\ttotal: 4.16s\tremaining: 5.45s\n",
      "433:\tlearn: 0.2855429\ttotal: 4.18s\tremaining: 5.45s\n",
      "434:\tlearn: 0.2851733\ttotal: 4.19s\tremaining: 5.44s\n",
      "435:\tlearn: 0.2845495\ttotal: 4.2s\tremaining: 5.43s\n",
      "436:\tlearn: 0.2843703\ttotal: 4.21s\tremaining: 5.42s\n",
      "437:\tlearn: 0.2840351\ttotal: 4.22s\tremaining: 5.41s\n",
      "438:\tlearn: 0.2834276\ttotal: 4.22s\tremaining: 5.4s\n",
      "439:\tlearn: 0.2832362\ttotal: 4.23s\tremaining: 5.39s\n",
      "440:\tlearn: 0.2831200\ttotal: 4.24s\tremaining: 5.38s\n",
      "441:\tlearn: 0.2828824\ttotal: 4.25s\tremaining: 5.37s\n",
      "442:\tlearn: 0.2827201\ttotal: 4.26s\tremaining: 5.36s\n",
      "443:\tlearn: 0.2825050\ttotal: 4.27s\tremaining: 5.35s\n",
      "444:\tlearn: 0.2823255\ttotal: 4.28s\tremaining: 5.34s\n",
      "445:\tlearn: 0.2820169\ttotal: 4.29s\tremaining: 5.33s\n",
      "446:\tlearn: 0.2817428\ttotal: 4.3s\tremaining: 5.32s\n",
      "447:\tlearn: 0.2814895\ttotal: 4.3s\tremaining: 5.3s\n",
      "448:\tlearn: 0.2813726\ttotal: 4.31s\tremaining: 5.29s\n",
      "449:\tlearn: 0.2810050\ttotal: 4.32s\tremaining: 5.28s\n",
      "450:\tlearn: 0.2807955\ttotal: 4.33s\tremaining: 5.27s\n",
      "451:\tlearn: 0.2805143\ttotal: 4.34s\tremaining: 5.26s\n",
      "452:\tlearn: 0.2802475\ttotal: 4.35s\tremaining: 5.25s\n",
      "453:\tlearn: 0.2799545\ttotal: 4.36s\tremaining: 5.24s\n",
      "454:\tlearn: 0.2797027\ttotal: 4.37s\tremaining: 5.23s\n",
      "455:\tlearn: 0.2795365\ttotal: 4.38s\tremaining: 5.22s\n",
      "456:\tlearn: 0.2792864\ttotal: 4.38s\tremaining: 5.21s\n",
      "457:\tlearn: 0.2788374\ttotal: 4.39s\tremaining: 5.2s\n",
      "458:\tlearn: 0.2783425\ttotal: 4.4s\tremaining: 5.19s\n",
      "459:\tlearn: 0.2780105\ttotal: 4.41s\tremaining: 5.18s\n",
      "460:\tlearn: 0.2775794\ttotal: 4.42s\tremaining: 5.17s\n",
      "461:\tlearn: 0.2773935\ttotal: 4.43s\tremaining: 5.16s\n",
      "462:\tlearn: 0.2771593\ttotal: 4.44s\tremaining: 5.15s\n",
      "463:\tlearn: 0.2765963\ttotal: 4.45s\tremaining: 5.14s\n",
      "464:\tlearn: 0.2763048\ttotal: 4.46s\tremaining: 5.13s\n",
      "465:\tlearn: 0.2759442\ttotal: 4.47s\tremaining: 5.12s\n",
      "466:\tlearn: 0.2756849\ttotal: 4.48s\tremaining: 5.11s\n",
      "467:\tlearn: 0.2755584\ttotal: 4.49s\tremaining: 5.1s\n",
      "468:\tlearn: 0.2753882\ttotal: 4.5s\tremaining: 5.09s\n",
      "469:\tlearn: 0.2752073\ttotal: 4.51s\tremaining: 5.08s\n",
      "470:\tlearn: 0.2746692\ttotal: 4.52s\tremaining: 5.07s\n",
      "471:\tlearn: 0.2741139\ttotal: 4.53s\tremaining: 5.06s\n",
      "472:\tlearn: 0.2739855\ttotal: 4.54s\tremaining: 5.05s\n",
      "473:\tlearn: 0.2735936\ttotal: 4.55s\tremaining: 5.04s\n",
      "474:\tlearn: 0.2733169\ttotal: 4.56s\tremaining: 5.04s\n",
      "475:\tlearn: 0.2731525\ttotal: 4.57s\tremaining: 5.03s\n",
      "476:\tlearn: 0.2730211\ttotal: 4.58s\tremaining: 5.02s\n",
      "477:\tlearn: 0.2727428\ttotal: 4.59s\tremaining: 5.01s\n",
      "478:\tlearn: 0.2725477\ttotal: 4.61s\tremaining: 5.01s\n",
      "479:\tlearn: 0.2722384\ttotal: 4.62s\tremaining: 5s\n",
      "480:\tlearn: 0.2720942\ttotal: 4.63s\tremaining: 4.99s\n",
      "481:\tlearn: 0.2719709\ttotal: 4.64s\tremaining: 4.98s\n",
      "482:\tlearn: 0.2716674\ttotal: 4.65s\tremaining: 4.97s\n",
      "483:\tlearn: 0.2713680\ttotal: 4.65s\tremaining: 4.96s\n",
      "484:\tlearn: 0.2709373\ttotal: 4.66s\tremaining: 4.95s\n",
      "485:\tlearn: 0.2706821\ttotal: 4.67s\tremaining: 4.94s\n",
      "486:\tlearn: 0.2703818\ttotal: 4.68s\tremaining: 4.93s\n",
      "487:\tlearn: 0.2700689\ttotal: 4.69s\tremaining: 4.92s\n",
      "488:\tlearn: 0.2696170\ttotal: 4.7s\tremaining: 4.91s\n",
      "489:\tlearn: 0.2694543\ttotal: 4.71s\tremaining: 4.9s\n",
      "490:\tlearn: 0.2693116\ttotal: 4.72s\tremaining: 4.89s\n",
      "491:\tlearn: 0.2688370\ttotal: 4.73s\tremaining: 4.88s\n",
      "492:\tlearn: 0.2685018\ttotal: 4.74s\tremaining: 4.87s\n",
      "493:\tlearn: 0.2681242\ttotal: 4.75s\tremaining: 4.86s\n",
      "494:\tlearn: 0.2679575\ttotal: 4.75s\tremaining: 4.85s\n",
      "495:\tlearn: 0.2676342\ttotal: 4.76s\tremaining: 4.84s\n",
      "496:\tlearn: 0.2674993\ttotal: 4.77s\tremaining: 4.83s\n",
      "497:\tlearn: 0.2672845\ttotal: 4.78s\tremaining: 4.82s\n",
      "498:\tlearn: 0.2670131\ttotal: 4.79s\tremaining: 4.81s\n",
      "499:\tlearn: 0.2667732\ttotal: 4.8s\tremaining: 4.8s\n",
      "500:\tlearn: 0.2666132\ttotal: 4.8s\tremaining: 4.79s\n",
      "501:\tlearn: 0.2664382\ttotal: 4.81s\tremaining: 4.77s\n",
      "502:\tlearn: 0.2661651\ttotal: 4.82s\tremaining: 4.76s\n",
      "503:\tlearn: 0.2659205\ttotal: 4.83s\tremaining: 4.75s\n",
      "504:\tlearn: 0.2656875\ttotal: 4.84s\tremaining: 4.74s\n",
      "505:\tlearn: 0.2655572\ttotal: 4.85s\tremaining: 4.73s\n",
      "506:\tlearn: 0.2654133\ttotal: 4.86s\tremaining: 4.72s\n",
      "507:\tlearn: 0.2653005\ttotal: 4.87s\tremaining: 4.71s\n",
      "508:\tlearn: 0.2651809\ttotal: 4.88s\tremaining: 4.7s\n",
      "509:\tlearn: 0.2649526\ttotal: 4.88s\tremaining: 4.69s\n",
      "510:\tlearn: 0.2647142\ttotal: 4.89s\tremaining: 4.68s\n",
      "511:\tlearn: 0.2644850\ttotal: 4.9s\tremaining: 4.67s\n",
      "512:\tlearn: 0.2642274\ttotal: 4.92s\tremaining: 4.67s\n",
      "513:\tlearn: 0.2638138\ttotal: 4.93s\tremaining: 4.66s\n",
      "514:\tlearn: 0.2636092\ttotal: 4.94s\tremaining: 4.65s\n"
     ]
    },
    {
     "name": "stdout",
     "output_type": "stream",
     "text": [
      "515:\tlearn: 0.2633413\ttotal: 4.96s\tremaining: 4.65s\n",
      "516:\tlearn: 0.2632045\ttotal: 4.97s\tremaining: 4.64s\n",
      "517:\tlearn: 0.2629411\ttotal: 4.98s\tremaining: 4.63s\n",
      "518:\tlearn: 0.2623995\ttotal: 4.99s\tremaining: 4.62s\n",
      "519:\tlearn: 0.2620826\ttotal: 5s\tremaining: 4.61s\n",
      "520:\tlearn: 0.2619970\ttotal: 5s\tremaining: 4.6s\n",
      "521:\tlearn: 0.2615669\ttotal: 5.01s\tremaining: 4.59s\n",
      "522:\tlearn: 0.2614121\ttotal: 5.02s\tremaining: 4.58s\n",
      "523:\tlearn: 0.2611272\ttotal: 5.03s\tremaining: 4.57s\n",
      "524:\tlearn: 0.2608853\ttotal: 5.04s\tremaining: 4.56s\n",
      "525:\tlearn: 0.2606347\ttotal: 5.05s\tremaining: 4.55s\n",
      "526:\tlearn: 0.2603918\ttotal: 5.06s\tremaining: 4.54s\n",
      "527:\tlearn: 0.2602335\ttotal: 5.07s\tremaining: 4.53s\n",
      "528:\tlearn: 0.2599401\ttotal: 5.08s\tremaining: 4.52s\n",
      "529:\tlearn: 0.2597540\ttotal: 5.08s\tremaining: 4.51s\n",
      "530:\tlearn: 0.2594445\ttotal: 5.09s\tremaining: 4.5s\n",
      "531:\tlearn: 0.2591875\ttotal: 5.11s\tremaining: 4.49s\n",
      "532:\tlearn: 0.2589541\ttotal: 5.12s\tremaining: 4.49s\n",
      "533:\tlearn: 0.2586366\ttotal: 5.13s\tremaining: 4.48s\n",
      "534:\tlearn: 0.2584379\ttotal: 5.14s\tremaining: 4.47s\n",
      "535:\tlearn: 0.2582239\ttotal: 5.15s\tremaining: 4.46s\n",
      "536:\tlearn: 0.2578172\ttotal: 5.16s\tremaining: 4.45s\n",
      "537:\tlearn: 0.2576580\ttotal: 5.17s\tremaining: 4.44s\n",
      "538:\tlearn: 0.2573756\ttotal: 5.18s\tremaining: 4.43s\n",
      "539:\tlearn: 0.2569913\ttotal: 5.19s\tremaining: 4.42s\n",
      "540:\tlearn: 0.2568167\ttotal: 5.2s\tremaining: 4.41s\n",
      "541:\tlearn: 0.2565556\ttotal: 5.21s\tremaining: 4.4s\n",
      "542:\tlearn: 0.2560925\ttotal: 5.22s\tremaining: 4.39s\n",
      "543:\tlearn: 0.2558886\ttotal: 5.23s\tremaining: 4.38s\n",
      "544:\tlearn: 0.2556294\ttotal: 5.24s\tremaining: 4.37s\n",
      "545:\tlearn: 0.2554682\ttotal: 5.24s\tremaining: 4.36s\n",
      "546:\tlearn: 0.2552344\ttotal: 5.25s\tremaining: 4.35s\n",
      "547:\tlearn: 0.2550824\ttotal: 5.26s\tremaining: 4.34s\n",
      "548:\tlearn: 0.2548333\ttotal: 5.27s\tremaining: 4.33s\n",
      "549:\tlearn: 0.2546466\ttotal: 5.28s\tremaining: 4.32s\n",
      "550:\tlearn: 0.2541970\ttotal: 5.29s\tremaining: 4.31s\n",
      "551:\tlearn: 0.2540321\ttotal: 5.3s\tremaining: 4.3s\n",
      "552:\tlearn: 0.2537759\ttotal: 5.3s\tremaining: 4.29s\n",
      "553:\tlearn: 0.2535056\ttotal: 5.32s\tremaining: 4.28s\n",
      "554:\tlearn: 0.2534147\ttotal: 5.33s\tremaining: 4.27s\n",
      "555:\tlearn: 0.2530957\ttotal: 5.33s\tremaining: 4.26s\n",
      "556:\tlearn: 0.2529338\ttotal: 5.34s\tremaining: 4.25s\n",
      "557:\tlearn: 0.2527418\ttotal: 5.35s\tremaining: 4.24s\n",
      "558:\tlearn: 0.2524013\ttotal: 5.36s\tremaining: 4.23s\n",
      "559:\tlearn: 0.2520909\ttotal: 5.37s\tremaining: 4.22s\n",
      "560:\tlearn: 0.2520075\ttotal: 5.38s\tremaining: 4.21s\n",
      "561:\tlearn: 0.2518437\ttotal: 5.39s\tremaining: 4.2s\n",
      "562:\tlearn: 0.2515785\ttotal: 5.4s\tremaining: 4.19s\n",
      "563:\tlearn: 0.2514224\ttotal: 5.41s\tremaining: 4.18s\n",
      "564:\tlearn: 0.2513046\ttotal: 5.42s\tremaining: 4.17s\n",
      "565:\tlearn: 0.2512098\ttotal: 5.43s\tremaining: 4.16s\n",
      "566:\tlearn: 0.2508593\ttotal: 5.44s\tremaining: 4.15s\n",
      "567:\tlearn: 0.2506612\ttotal: 5.45s\tremaining: 4.14s\n",
      "568:\tlearn: 0.2503663\ttotal: 5.46s\tremaining: 4.13s\n",
      "569:\tlearn: 0.2501842\ttotal: 5.47s\tremaining: 4.13s\n",
      "570:\tlearn: 0.2498981\ttotal: 5.48s\tremaining: 4.12s\n",
      "571:\tlearn: 0.2497526\ttotal: 5.49s\tremaining: 4.11s\n",
      "572:\tlearn: 0.2495908\ttotal: 5.5s\tremaining: 4.09s\n",
      "573:\tlearn: 0.2493512\ttotal: 5.5s\tremaining: 4.08s\n",
      "574:\tlearn: 0.2491216\ttotal: 5.51s\tremaining: 4.08s\n",
      "575:\tlearn: 0.2488989\ttotal: 5.52s\tremaining: 4.07s\n",
      "576:\tlearn: 0.2487795\ttotal: 5.53s\tremaining: 4.05s\n",
      "577:\tlearn: 0.2486357\ttotal: 5.54s\tremaining: 4.04s\n",
      "578:\tlearn: 0.2484818\ttotal: 5.55s\tremaining: 4.04s\n",
      "579:\tlearn: 0.2482264\ttotal: 5.56s\tremaining: 4.03s\n",
      "580:\tlearn: 0.2480026\ttotal: 5.57s\tremaining: 4.02s\n",
      "581:\tlearn: 0.2475484\ttotal: 5.58s\tremaining: 4.01s\n",
      "582:\tlearn: 0.2472215\ttotal: 5.59s\tremaining: 4s\n",
      "583:\tlearn: 0.2470761\ttotal: 5.6s\tremaining: 3.99s\n",
      "584:\tlearn: 0.2468567\ttotal: 5.61s\tremaining: 3.98s\n",
      "585:\tlearn: 0.2466464\ttotal: 5.63s\tremaining: 3.98s\n",
      "586:\tlearn: 0.2464732\ttotal: 5.64s\tremaining: 3.97s\n",
      "587:\tlearn: 0.2462356\ttotal: 5.65s\tremaining: 3.96s\n",
      "588:\tlearn: 0.2460356\ttotal: 5.66s\tremaining: 3.95s\n",
      "589:\tlearn: 0.2459275\ttotal: 5.67s\tremaining: 3.94s\n",
      "590:\tlearn: 0.2457256\ttotal: 5.67s\tremaining: 3.93s\n",
      "591:\tlearn: 0.2455365\ttotal: 5.68s\tremaining: 3.92s\n",
      "592:\tlearn: 0.2452773\ttotal: 5.69s\tremaining: 3.91s\n",
      "593:\tlearn: 0.2451178\ttotal: 5.7s\tremaining: 3.9s\n",
      "594:\tlearn: 0.2449646\ttotal: 5.72s\tremaining: 3.89s\n",
      "595:\tlearn: 0.2446936\ttotal: 5.74s\tremaining: 3.89s\n",
      "596:\tlearn: 0.2445652\ttotal: 5.75s\tremaining: 3.88s\n",
      "597:\tlearn: 0.2443710\ttotal: 5.75s\tremaining: 3.87s\n",
      "598:\tlearn: 0.2441607\ttotal: 5.76s\tremaining: 3.86s\n",
      "599:\tlearn: 0.2438955\ttotal: 5.77s\tremaining: 3.85s\n",
      "600:\tlearn: 0.2435434\ttotal: 5.78s\tremaining: 3.84s\n",
      "601:\tlearn: 0.2434003\ttotal: 5.79s\tremaining: 3.83s\n",
      "602:\tlearn: 0.2430622\ttotal: 5.8s\tremaining: 3.82s\n",
      "603:\tlearn: 0.2428734\ttotal: 5.82s\tremaining: 3.81s\n",
      "604:\tlearn: 0.2426282\ttotal: 5.83s\tremaining: 3.8s\n",
      "605:\tlearn: 0.2423293\ttotal: 5.84s\tremaining: 3.79s\n",
      "606:\tlearn: 0.2422453\ttotal: 5.85s\tremaining: 3.79s\n",
      "607:\tlearn: 0.2419967\ttotal: 5.86s\tremaining: 3.78s\n",
      "608:\tlearn: 0.2417393\ttotal: 5.87s\tremaining: 3.77s\n",
      "609:\tlearn: 0.2415235\ttotal: 5.89s\tremaining: 3.76s\n",
      "610:\tlearn: 0.2412343\ttotal: 5.9s\tremaining: 3.75s\n",
      "611:\tlearn: 0.2410198\ttotal: 5.91s\tremaining: 3.75s\n",
      "612:\tlearn: 0.2407960\ttotal: 5.92s\tremaining: 3.73s\n",
      "613:\tlearn: 0.2406510\ttotal: 5.92s\tremaining: 3.73s\n",
      "614:\tlearn: 0.2403962\ttotal: 5.93s\tremaining: 3.71s\n",
      "615:\tlearn: 0.2402625\ttotal: 5.94s\tremaining: 3.7s\n",
      "616:\tlearn: 0.2400357\ttotal: 5.95s\tremaining: 3.69s\n",
      "617:\tlearn: 0.2398359\ttotal: 5.96s\tremaining: 3.68s\n",
      "618:\tlearn: 0.2396287\ttotal: 5.97s\tremaining: 3.67s\n",
      "619:\tlearn: 0.2395283\ttotal: 5.98s\tremaining: 3.66s\n",
      "620:\tlearn: 0.2393639\ttotal: 5.99s\tremaining: 3.65s\n",
      "621:\tlearn: 0.2392822\ttotal: 6s\tremaining: 3.65s\n",
      "622:\tlearn: 0.2390128\ttotal: 6.01s\tremaining: 3.64s\n",
      "623:\tlearn: 0.2387989\ttotal: 6.02s\tremaining: 3.63s\n",
      "624:\tlearn: 0.2386176\ttotal: 6.03s\tremaining: 3.62s\n",
      "625:\tlearn: 0.2383819\ttotal: 6.03s\tremaining: 3.6s\n",
      "626:\tlearn: 0.2381688\ttotal: 6.04s\tremaining: 3.59s\n",
      "627:\tlearn: 0.2380466\ttotal: 6.05s\tremaining: 3.58s\n",
      "628:\tlearn: 0.2379119\ttotal: 6.06s\tremaining: 3.57s\n",
      "629:\tlearn: 0.2376242\ttotal: 6.07s\tremaining: 3.56s\n",
      "630:\tlearn: 0.2374264\ttotal: 6.08s\tremaining: 3.55s\n",
      "631:\tlearn: 0.2373151\ttotal: 6.09s\tremaining: 3.54s\n",
      "632:\tlearn: 0.2370659\ttotal: 6.1s\tremaining: 3.54s\n",
      "633:\tlearn: 0.2366345\ttotal: 6.11s\tremaining: 3.52s\n",
      "634:\tlearn: 0.2365042\ttotal: 6.11s\tremaining: 3.51s\n",
      "635:\tlearn: 0.2361616\ttotal: 6.12s\tremaining: 3.5s\n",
      "636:\tlearn: 0.2360083\ttotal: 6.13s\tremaining: 3.49s\n",
      "637:\tlearn: 0.2357306\ttotal: 6.14s\tremaining: 3.49s\n",
      "638:\tlearn: 0.2355185\ttotal: 6.16s\tremaining: 3.48s\n",
      "639:\tlearn: 0.2352677\ttotal: 6.17s\tremaining: 3.47s\n",
      "640:\tlearn: 0.2349196\ttotal: 6.17s\tremaining: 3.46s\n",
      "641:\tlearn: 0.2347107\ttotal: 6.18s\tremaining: 3.45s\n",
      "642:\tlearn: 0.2345213\ttotal: 6.19s\tremaining: 3.44s\n",
      "643:\tlearn: 0.2341927\ttotal: 6.2s\tremaining: 3.43s\n",
      "644:\tlearn: 0.2340301\ttotal: 6.21s\tremaining: 3.42s\n",
      "645:\tlearn: 0.2337133\ttotal: 6.22s\tremaining: 3.41s\n",
      "646:\tlearn: 0.2333031\ttotal: 6.23s\tremaining: 3.4s\n",
      "647:\tlearn: 0.2331886\ttotal: 6.25s\tremaining: 3.39s\n",
      "648:\tlearn: 0.2328265\ttotal: 6.25s\tremaining: 3.38s\n",
      "649:\tlearn: 0.2325108\ttotal: 6.26s\tremaining: 3.37s\n",
      "650:\tlearn: 0.2324244\ttotal: 6.27s\tremaining: 3.36s\n",
      "651:\tlearn: 0.2322170\ttotal: 6.28s\tremaining: 3.35s\n",
      "652:\tlearn: 0.2320382\ttotal: 6.29s\tremaining: 3.34s\n",
      "653:\tlearn: 0.2317515\ttotal: 6.29s\tremaining: 3.33s\n",
      "654:\tlearn: 0.2315824\ttotal: 6.3s\tremaining: 3.32s\n",
      "655:\tlearn: 0.2314860\ttotal: 6.31s\tremaining: 3.31s\n",
      "656:\tlearn: 0.2312812\ttotal: 6.32s\tremaining: 3.3s\n",
      "657:\tlearn: 0.2311692\ttotal: 6.33s\tremaining: 3.29s\n",
      "658:\tlearn: 0.2309521\ttotal: 6.34s\tremaining: 3.28s\n",
      "659:\tlearn: 0.2308053\ttotal: 6.35s\tremaining: 3.27s\n",
      "660:\tlearn: 0.2303934\ttotal: 6.36s\tremaining: 3.26s\n",
      "661:\tlearn: 0.2300614\ttotal: 6.37s\tremaining: 3.25s\n",
      "662:\tlearn: 0.2298709\ttotal: 6.38s\tremaining: 3.24s\n",
      "663:\tlearn: 0.2295571\ttotal: 6.39s\tremaining: 3.23s\n",
      "664:\tlearn: 0.2294669\ttotal: 6.4s\tremaining: 3.23s\n",
      "665:\tlearn: 0.2294058\ttotal: 6.42s\tremaining: 3.22s\n",
      "666:\tlearn: 0.2292392\ttotal: 6.43s\tremaining: 3.21s\n",
      "667:\tlearn: 0.2290791\ttotal: 6.43s\tremaining: 3.2s\n",
      "668:\tlearn: 0.2288807\ttotal: 6.44s\tremaining: 3.19s\n",
      "669:\tlearn: 0.2286051\ttotal: 6.45s\tremaining: 3.18s\n",
      "670:\tlearn: 0.2284653\ttotal: 6.46s\tremaining: 3.17s\n",
      "671:\tlearn: 0.2283705\ttotal: 6.47s\tremaining: 3.16s\n",
      "672:\tlearn: 0.2281864\ttotal: 6.48s\tremaining: 3.15s\n",
      "673:\tlearn: 0.2279795\ttotal: 6.49s\tremaining: 3.14s\n",
      "674:\tlearn: 0.2277843\ttotal: 6.5s\tremaining: 3.13s\n",
      "675:\tlearn: 0.2275949\ttotal: 6.51s\tremaining: 3.12s\n",
      "676:\tlearn: 0.2272832\ttotal: 6.52s\tremaining: 3.11s\n",
      "677:\tlearn: 0.2270206\ttotal: 6.53s\tremaining: 3.1s\n",
      "678:\tlearn: 0.2268904\ttotal: 6.54s\tremaining: 3.09s\n",
      "679:\tlearn: 0.2267076\ttotal: 6.55s\tremaining: 3.08s\n",
      "680:\tlearn: 0.2263690\ttotal: 6.55s\tremaining: 3.07s\n",
      "681:\tlearn: 0.2262069\ttotal: 6.56s\tremaining: 3.06s\n",
      "682:\tlearn: 0.2258492\ttotal: 6.57s\tremaining: 3.05s\n",
      "683:\tlearn: 0.2257157\ttotal: 6.58s\tremaining: 3.04s\n",
      "684:\tlearn: 0.2255546\ttotal: 6.59s\tremaining: 3.03s\n",
      "685:\tlearn: 0.2252401\ttotal: 6.61s\tremaining: 3.02s\n",
      "686:\tlearn: 0.2248456\ttotal: 6.62s\tremaining: 3.01s\n",
      "687:\tlearn: 0.2246403\ttotal: 6.63s\tremaining: 3s\n"
     ]
    },
    {
     "name": "stdout",
     "output_type": "stream",
     "text": [
      "688:\tlearn: 0.2244675\ttotal: 6.64s\tremaining: 3s\n",
      "689:\tlearn: 0.2242844\ttotal: 6.65s\tremaining: 2.99s\n",
      "690:\tlearn: 0.2240863\ttotal: 6.66s\tremaining: 2.98s\n",
      "691:\tlearn: 0.2238913\ttotal: 6.67s\tremaining: 2.97s\n",
      "692:\tlearn: 0.2237305\ttotal: 6.68s\tremaining: 2.96s\n",
      "693:\tlearn: 0.2236509\ttotal: 6.69s\tremaining: 2.95s\n",
      "694:\tlearn: 0.2235053\ttotal: 6.7s\tremaining: 2.94s\n",
      "695:\tlearn: 0.2233552\ttotal: 6.71s\tremaining: 2.93s\n",
      "696:\tlearn: 0.2231840\ttotal: 6.72s\tremaining: 2.92s\n",
      "697:\tlearn: 0.2229582\ttotal: 6.72s\tremaining: 2.91s\n",
      "698:\tlearn: 0.2228491\ttotal: 6.73s\tremaining: 2.9s\n",
      "699:\tlearn: 0.2226990\ttotal: 6.74s\tremaining: 2.89s\n",
      "700:\tlearn: 0.2225433\ttotal: 6.75s\tremaining: 2.88s\n",
      "701:\tlearn: 0.2224290\ttotal: 6.76s\tremaining: 2.87s\n",
      "702:\tlearn: 0.2221784\ttotal: 6.77s\tremaining: 2.86s\n",
      "703:\tlearn: 0.2220496\ttotal: 6.78s\tremaining: 2.85s\n",
      "704:\tlearn: 0.2218692\ttotal: 6.79s\tremaining: 2.84s\n",
      "705:\tlearn: 0.2216725\ttotal: 6.8s\tremaining: 2.83s\n",
      "706:\tlearn: 0.2215064\ttotal: 6.81s\tremaining: 2.82s\n",
      "707:\tlearn: 0.2212309\ttotal: 6.82s\tremaining: 2.81s\n",
      "708:\tlearn: 0.2210090\ttotal: 6.83s\tremaining: 2.8s\n",
      "709:\tlearn: 0.2209435\ttotal: 6.84s\tremaining: 2.79s\n",
      "710:\tlearn: 0.2207562\ttotal: 6.85s\tremaining: 2.78s\n",
      "711:\tlearn: 0.2205395\ttotal: 6.86s\tremaining: 2.77s\n",
      "712:\tlearn: 0.2204395\ttotal: 6.86s\tremaining: 2.76s\n",
      "713:\tlearn: 0.2203323\ttotal: 6.87s\tremaining: 2.75s\n",
      "714:\tlearn: 0.2199899\ttotal: 6.88s\tremaining: 2.74s\n",
      "715:\tlearn: 0.2197327\ttotal: 6.89s\tremaining: 2.73s\n",
      "716:\tlearn: 0.2195419\ttotal: 6.91s\tremaining: 2.73s\n",
      "717:\tlearn: 0.2194386\ttotal: 6.92s\tremaining: 2.72s\n",
      "718:\tlearn: 0.2192132\ttotal: 6.93s\tremaining: 2.71s\n",
      "719:\tlearn: 0.2191162\ttotal: 6.94s\tremaining: 2.7s\n",
      "720:\tlearn: 0.2188625\ttotal: 6.95s\tremaining: 2.69s\n",
      "721:\tlearn: 0.2187932\ttotal: 6.96s\tremaining: 2.68s\n",
      "722:\tlearn: 0.2187184\ttotal: 6.96s\tremaining: 2.67s\n",
      "723:\tlearn: 0.2184015\ttotal: 6.97s\tremaining: 2.66s\n",
      "724:\tlearn: 0.2182674\ttotal: 6.98s\tremaining: 2.65s\n",
      "725:\tlearn: 0.2180092\ttotal: 6.99s\tremaining: 2.64s\n",
      "726:\tlearn: 0.2177882\ttotal: 7s\tremaining: 2.63s\n",
      "727:\tlearn: 0.2175085\ttotal: 7.01s\tremaining: 2.62s\n",
      "728:\tlearn: 0.2172604\ttotal: 7.02s\tremaining: 2.61s\n",
      "729:\tlearn: 0.2169649\ttotal: 7.03s\tremaining: 2.6s\n",
      "730:\tlearn: 0.2166444\ttotal: 7.04s\tremaining: 2.59s\n",
      "731:\tlearn: 0.2165314\ttotal: 7.05s\tremaining: 2.58s\n",
      "732:\tlearn: 0.2163880\ttotal: 7.06s\tremaining: 2.57s\n",
      "733:\tlearn: 0.2162254\ttotal: 7.07s\tremaining: 2.56s\n",
      "734:\tlearn: 0.2160513\ttotal: 7.07s\tremaining: 2.55s\n",
      "735:\tlearn: 0.2157035\ttotal: 7.08s\tremaining: 2.54s\n",
      "736:\tlearn: 0.2155613\ttotal: 7.09s\tremaining: 2.53s\n",
      "737:\tlearn: 0.2153504\ttotal: 7.1s\tremaining: 2.52s\n",
      "738:\tlearn: 0.2152326\ttotal: 7.11s\tremaining: 2.51s\n",
      "739:\tlearn: 0.2150784\ttotal: 7.13s\tremaining: 2.5s\n",
      "740:\tlearn: 0.2149577\ttotal: 7.14s\tremaining: 2.5s\n",
      "741:\tlearn: 0.2146842\ttotal: 7.15s\tremaining: 2.48s\n",
      "742:\tlearn: 0.2145474\ttotal: 7.17s\tremaining: 2.48s\n",
      "743:\tlearn: 0.2144162\ttotal: 7.18s\tremaining: 2.47s\n",
      "744:\tlearn: 0.2143304\ttotal: 7.2s\tremaining: 2.46s\n",
      "745:\tlearn: 0.2140881\ttotal: 7.2s\tremaining: 2.45s\n",
      "746:\tlearn: 0.2139913\ttotal: 7.21s\tremaining: 2.44s\n",
      "747:\tlearn: 0.2138649\ttotal: 7.22s\tremaining: 2.43s\n",
      "748:\tlearn: 0.2137906\ttotal: 7.23s\tremaining: 2.42s\n",
      "749:\tlearn: 0.2136427\ttotal: 7.24s\tremaining: 2.41s\n",
      "750:\tlearn: 0.2134978\ttotal: 7.25s\tremaining: 2.4s\n",
      "751:\tlearn: 0.2133425\ttotal: 7.26s\tremaining: 2.39s\n",
      "752:\tlearn: 0.2131038\ttotal: 7.28s\tremaining: 2.39s\n",
      "753:\tlearn: 0.2130123\ttotal: 7.29s\tremaining: 2.38s\n",
      "754:\tlearn: 0.2128624\ttotal: 7.29s\tremaining: 2.37s\n",
      "755:\tlearn: 0.2127544\ttotal: 7.3s\tremaining: 2.36s\n",
      "756:\tlearn: 0.2126284\ttotal: 7.33s\tremaining: 2.35s\n",
      "757:\tlearn: 0.2125203\ttotal: 7.34s\tremaining: 2.34s\n",
      "758:\tlearn: 0.2122681\ttotal: 7.35s\tremaining: 2.33s\n",
      "759:\tlearn: 0.2120014\ttotal: 7.36s\tremaining: 2.32s\n",
      "760:\tlearn: 0.2115760\ttotal: 7.37s\tremaining: 2.31s\n",
      "761:\tlearn: 0.2113179\ttotal: 7.38s\tremaining: 2.3s\n",
      "762:\tlearn: 0.2112234\ttotal: 7.38s\tremaining: 2.29s\n",
      "763:\tlearn: 0.2110168\ttotal: 7.39s\tremaining: 2.28s\n",
      "764:\tlearn: 0.2108031\ttotal: 7.4s\tremaining: 2.27s\n",
      "765:\tlearn: 0.2106521\ttotal: 7.41s\tremaining: 2.26s\n",
      "766:\tlearn: 0.2104337\ttotal: 7.42s\tremaining: 2.25s\n",
      "767:\tlearn: 0.2101835\ttotal: 7.43s\tremaining: 2.24s\n",
      "768:\tlearn: 0.2099764\ttotal: 7.44s\tremaining: 2.23s\n",
      "769:\tlearn: 0.2098131\ttotal: 7.45s\tremaining: 2.22s\n",
      "770:\tlearn: 0.2094641\ttotal: 7.46s\tremaining: 2.21s\n",
      "771:\tlearn: 0.2092911\ttotal: 7.47s\tremaining: 2.21s\n",
      "772:\tlearn: 0.2091112\ttotal: 7.47s\tremaining: 2.19s\n",
      "773:\tlearn: 0.2088651\ttotal: 7.48s\tremaining: 2.19s\n",
      "774:\tlearn: 0.2087694\ttotal: 7.49s\tremaining: 2.17s\n",
      "775:\tlearn: 0.2086505\ttotal: 7.5s\tremaining: 2.17s\n",
      "776:\tlearn: 0.2083407\ttotal: 7.51s\tremaining: 2.15s\n",
      "777:\tlearn: 0.2080487\ttotal: 7.52s\tremaining: 2.15s\n",
      "778:\tlearn: 0.2077208\ttotal: 7.53s\tremaining: 2.13s\n",
      "779:\tlearn: 0.2075147\ttotal: 7.54s\tremaining: 2.13s\n",
      "780:\tlearn: 0.2073586\ttotal: 7.55s\tremaining: 2.12s\n",
      "781:\tlearn: 0.2070505\ttotal: 7.55s\tremaining: 2.11s\n",
      "782:\tlearn: 0.2069058\ttotal: 7.56s\tremaining: 2.1s\n",
      "783:\tlearn: 0.2067845\ttotal: 7.57s\tremaining: 2.09s\n",
      "784:\tlearn: 0.2064505\ttotal: 7.58s\tremaining: 2.08s\n",
      "785:\tlearn: 0.2060973\ttotal: 7.59s\tremaining: 2.07s\n",
      "786:\tlearn: 0.2058893\ttotal: 7.6s\tremaining: 2.06s\n",
      "787:\tlearn: 0.2057891\ttotal: 7.61s\tremaining: 2.05s\n",
      "788:\tlearn: 0.2057138\ttotal: 7.62s\tremaining: 2.04s\n",
      "789:\tlearn: 0.2055699\ttotal: 7.63s\tremaining: 2.03s\n",
      "790:\tlearn: 0.2052176\ttotal: 7.64s\tremaining: 2.02s\n",
      "791:\tlearn: 0.2050409\ttotal: 7.65s\tremaining: 2.01s\n",
      "792:\tlearn: 0.2048926\ttotal: 7.66s\tremaining: 2s\n",
      "793:\tlearn: 0.2047082\ttotal: 7.67s\tremaining: 1.99s\n",
      "794:\tlearn: 0.2046686\ttotal: 7.68s\tremaining: 1.98s\n",
      "795:\tlearn: 0.2045760\ttotal: 7.69s\tremaining: 1.97s\n",
      "796:\tlearn: 0.2043689\ttotal: 7.7s\tremaining: 1.96s\n",
      "797:\tlearn: 0.2043014\ttotal: 7.71s\tremaining: 1.95s\n",
      "798:\tlearn: 0.2042118\ttotal: 7.72s\tremaining: 1.94s\n",
      "799:\tlearn: 0.2039466\ttotal: 7.73s\tremaining: 1.93s\n",
      "800:\tlearn: 0.2038447\ttotal: 7.74s\tremaining: 1.92s\n",
      "801:\tlearn: 0.2035094\ttotal: 7.75s\tremaining: 1.91s\n",
      "802:\tlearn: 0.2033266\ttotal: 7.77s\tremaining: 1.91s\n",
      "803:\tlearn: 0.2031755\ttotal: 7.78s\tremaining: 1.9s\n",
      "804:\tlearn: 0.2030700\ttotal: 7.79s\tremaining: 1.89s\n",
      "805:\tlearn: 0.2028707\ttotal: 7.8s\tremaining: 1.88s\n",
      "806:\tlearn: 0.2027958\ttotal: 7.82s\tremaining: 1.87s\n",
      "807:\tlearn: 0.2026524\ttotal: 7.82s\tremaining: 1.86s\n",
      "808:\tlearn: 0.2023417\ttotal: 7.85s\tremaining: 1.85s\n",
      "809:\tlearn: 0.2022102\ttotal: 7.86s\tremaining: 1.84s\n",
      "810:\tlearn: 0.2021081\ttotal: 7.87s\tremaining: 1.83s\n",
      "811:\tlearn: 0.2019654\ttotal: 7.88s\tremaining: 1.82s\n",
      "812:\tlearn: 0.2018043\ttotal: 7.9s\tremaining: 1.82s\n",
      "813:\tlearn: 0.2016122\ttotal: 7.91s\tremaining: 1.81s\n",
      "814:\tlearn: 0.2014389\ttotal: 7.92s\tremaining: 1.8s\n",
      "815:\tlearn: 0.2011057\ttotal: 7.94s\tremaining: 1.79s\n",
      "816:\tlearn: 0.2009177\ttotal: 7.95s\tremaining: 1.78s\n",
      "817:\tlearn: 0.2008201\ttotal: 7.96s\tremaining: 1.77s\n",
      "818:\tlearn: 0.2006125\ttotal: 7.97s\tremaining: 1.76s\n",
      "819:\tlearn: 0.2004437\ttotal: 7.98s\tremaining: 1.75s\n",
      "820:\tlearn: 0.2003054\ttotal: 7.99s\tremaining: 1.74s\n",
      "821:\tlearn: 0.2001088\ttotal: 8s\tremaining: 1.73s\n",
      "822:\tlearn: 0.1998965\ttotal: 8.01s\tremaining: 1.72s\n",
      "823:\tlearn: 0.1997299\ttotal: 8.02s\tremaining: 1.71s\n",
      "824:\tlearn: 0.1994612\ttotal: 8.03s\tremaining: 1.7s\n",
      "825:\tlearn: 0.1993308\ttotal: 8.04s\tremaining: 1.69s\n",
      "826:\tlearn: 0.1990579\ttotal: 8.05s\tremaining: 1.68s\n",
      "827:\tlearn: 0.1988540\ttotal: 8.06s\tremaining: 1.67s\n",
      "828:\tlearn: 0.1986805\ttotal: 8.07s\tremaining: 1.66s\n",
      "829:\tlearn: 0.1985537\ttotal: 8.08s\tremaining: 1.65s\n",
      "830:\tlearn: 0.1983541\ttotal: 8.09s\tremaining: 1.64s\n",
      "831:\tlearn: 0.1982500\ttotal: 8.1s\tremaining: 1.63s\n",
      "832:\tlearn: 0.1981106\ttotal: 8.11s\tremaining: 1.63s\n",
      "833:\tlearn: 0.1979870\ttotal: 8.12s\tremaining: 1.61s\n",
      "834:\tlearn: 0.1977803\ttotal: 8.12s\tremaining: 1.6s\n",
      "835:\tlearn: 0.1974437\ttotal: 8.13s\tremaining: 1.59s\n",
      "836:\tlearn: 0.1972817\ttotal: 8.14s\tremaining: 1.58s\n",
      "837:\tlearn: 0.1970633\ttotal: 8.15s\tremaining: 1.58s\n",
      "838:\tlearn: 0.1969750\ttotal: 8.16s\tremaining: 1.57s\n",
      "839:\tlearn: 0.1966998\ttotal: 8.17s\tremaining: 1.56s\n",
      "840:\tlearn: 0.1964663\ttotal: 8.18s\tremaining: 1.55s\n",
      "841:\tlearn: 0.1963638\ttotal: 8.19s\tremaining: 1.54s\n",
      "842:\tlearn: 0.1961081\ttotal: 8.2s\tremaining: 1.53s\n",
      "843:\tlearn: 0.1959864\ttotal: 8.21s\tremaining: 1.52s\n",
      "844:\tlearn: 0.1958969\ttotal: 8.22s\tremaining: 1.51s\n",
      "845:\tlearn: 0.1958095\ttotal: 8.23s\tremaining: 1.5s\n",
      "846:\tlearn: 0.1957482\ttotal: 8.24s\tremaining: 1.49s\n",
      "847:\tlearn: 0.1956030\ttotal: 8.25s\tremaining: 1.48s\n",
      "848:\tlearn: 0.1954861\ttotal: 8.26s\tremaining: 1.47s\n",
      "849:\tlearn: 0.1953958\ttotal: 8.27s\tremaining: 1.46s\n",
      "850:\tlearn: 0.1951962\ttotal: 8.28s\tremaining: 1.45s\n",
      "851:\tlearn: 0.1950637\ttotal: 8.29s\tremaining: 1.44s\n",
      "852:\tlearn: 0.1949031\ttotal: 8.3s\tremaining: 1.43s\n",
      "853:\tlearn: 0.1947826\ttotal: 8.31s\tremaining: 1.42s\n"
     ]
    },
    {
     "name": "stdout",
     "output_type": "stream",
     "text": [
      "854:\tlearn: 0.1946279\ttotal: 8.32s\tremaining: 1.41s\n",
      "855:\tlearn: 0.1945080\ttotal: 8.32s\tremaining: 1.4s\n",
      "856:\tlearn: 0.1943115\ttotal: 8.33s\tremaining: 1.39s\n",
      "857:\tlearn: 0.1941246\ttotal: 8.34s\tremaining: 1.38s\n",
      "858:\tlearn: 0.1939088\ttotal: 8.35s\tremaining: 1.37s\n",
      "859:\tlearn: 0.1937467\ttotal: 8.35s\tremaining: 1.36s\n",
      "860:\tlearn: 0.1936934\ttotal: 8.36s\tremaining: 1.35s\n",
      "861:\tlearn: 0.1934936\ttotal: 8.37s\tremaining: 1.34s\n",
      "862:\tlearn: 0.1933082\ttotal: 8.38s\tremaining: 1.33s\n",
      "863:\tlearn: 0.1932016\ttotal: 8.39s\tremaining: 1.32s\n",
      "864:\tlearn: 0.1930574\ttotal: 8.39s\tremaining: 1.31s\n",
      "865:\tlearn: 0.1929567\ttotal: 8.4s\tremaining: 1.3s\n",
      "866:\tlearn: 0.1928214\ttotal: 8.41s\tremaining: 1.29s\n",
      "867:\tlearn: 0.1927456\ttotal: 8.42s\tremaining: 1.28s\n",
      "868:\tlearn: 0.1924725\ttotal: 8.43s\tremaining: 1.27s\n",
      "869:\tlearn: 0.1922358\ttotal: 8.44s\tremaining: 1.26s\n",
      "870:\tlearn: 0.1919765\ttotal: 8.45s\tremaining: 1.25s\n",
      "871:\tlearn: 0.1918541\ttotal: 8.46s\tremaining: 1.24s\n",
      "872:\tlearn: 0.1915167\ttotal: 8.47s\tremaining: 1.23s\n",
      "873:\tlearn: 0.1914340\ttotal: 8.48s\tremaining: 1.22s\n",
      "874:\tlearn: 0.1912744\ttotal: 8.48s\tremaining: 1.21s\n",
      "875:\tlearn: 0.1911074\ttotal: 8.49s\tremaining: 1.2s\n",
      "876:\tlearn: 0.1910054\ttotal: 8.5s\tremaining: 1.19s\n",
      "877:\tlearn: 0.1909001\ttotal: 8.51s\tremaining: 1.18s\n",
      "878:\tlearn: 0.1908047\ttotal: 8.52s\tremaining: 1.17s\n",
      "879:\tlearn: 0.1905257\ttotal: 8.52s\tremaining: 1.16s\n",
      "880:\tlearn: 0.1904071\ttotal: 8.53s\tremaining: 1.15s\n",
      "881:\tlearn: 0.1901458\ttotal: 8.54s\tremaining: 1.14s\n",
      "882:\tlearn: 0.1899444\ttotal: 8.55s\tremaining: 1.13s\n",
      "883:\tlearn: 0.1897841\ttotal: 8.56s\tremaining: 1.12s\n",
      "884:\tlearn: 0.1895823\ttotal: 8.57s\tremaining: 1.11s\n",
      "885:\tlearn: 0.1894448\ttotal: 8.58s\tremaining: 1.1s\n",
      "886:\tlearn: 0.1892077\ttotal: 8.59s\tremaining: 1.09s\n",
      "887:\tlearn: 0.1891196\ttotal: 8.6s\tremaining: 1.08s\n",
      "888:\tlearn: 0.1889882\ttotal: 8.6s\tremaining: 1.07s\n",
      "889:\tlearn: 0.1887677\ttotal: 8.61s\tremaining: 1.06s\n",
      "890:\tlearn: 0.1885957\ttotal: 8.62s\tremaining: 1.05s\n",
      "891:\tlearn: 0.1884330\ttotal: 8.63s\tremaining: 1.04s\n",
      "892:\tlearn: 0.1883334\ttotal: 8.64s\tremaining: 1.03s\n",
      "893:\tlearn: 0.1882089\ttotal: 8.65s\tremaining: 1.02s\n",
      "894:\tlearn: 0.1880469\ttotal: 8.66s\tremaining: 1.01s\n",
      "895:\tlearn: 0.1878942\ttotal: 8.67s\tremaining: 1.01s\n",
      "896:\tlearn: 0.1877080\ttotal: 8.68s\tremaining: 997ms\n",
      "897:\tlearn: 0.1876007\ttotal: 8.69s\tremaining: 987ms\n",
      "898:\tlearn: 0.1874225\ttotal: 8.7s\tremaining: 978ms\n",
      "899:\tlearn: 0.1872028\ttotal: 8.71s\tremaining: 968ms\n",
      "900:\tlearn: 0.1870948\ttotal: 8.72s\tremaining: 959ms\n",
      "901:\tlearn: 0.1868990\ttotal: 8.73s\tremaining: 949ms\n",
      "902:\tlearn: 0.1868140\ttotal: 8.74s\tremaining: 939ms\n",
      "903:\tlearn: 0.1867008\ttotal: 8.75s\tremaining: 929ms\n",
      "904:\tlearn: 0.1866349\ttotal: 8.76s\tremaining: 920ms\n",
      "905:\tlearn: 0.1864989\ttotal: 8.77s\tremaining: 910ms\n",
      "906:\tlearn: 0.1862661\ttotal: 8.78s\tremaining: 900ms\n",
      "907:\tlearn: 0.1861482\ttotal: 8.79s\tremaining: 890ms\n",
      "908:\tlearn: 0.1860870\ttotal: 8.79s\tremaining: 880ms\n",
      "909:\tlearn: 0.1859971\ttotal: 8.8s\tremaining: 871ms\n",
      "910:\tlearn: 0.1858139\ttotal: 8.81s\tremaining: 861ms\n",
      "911:\tlearn: 0.1857038\ttotal: 8.82s\tremaining: 851ms\n",
      "912:\tlearn: 0.1855810\ttotal: 8.83s\tremaining: 842ms\n",
      "913:\tlearn: 0.1855136\ttotal: 8.84s\tremaining: 832ms\n",
      "914:\tlearn: 0.1854238\ttotal: 8.85s\tremaining: 822ms\n",
      "915:\tlearn: 0.1853044\ttotal: 8.86s\tremaining: 812ms\n",
      "916:\tlearn: 0.1852394\ttotal: 8.87s\tremaining: 803ms\n",
      "917:\tlearn: 0.1849786\ttotal: 8.88s\tremaining: 793ms\n",
      "918:\tlearn: 0.1848317\ttotal: 8.89s\tremaining: 783ms\n",
      "919:\tlearn: 0.1846929\ttotal: 8.89s\tremaining: 774ms\n",
      "920:\tlearn: 0.1845871\ttotal: 8.9s\tremaining: 764ms\n",
      "921:\tlearn: 0.1845323\ttotal: 8.91s\tremaining: 754ms\n",
      "922:\tlearn: 0.1842824\ttotal: 8.92s\tremaining: 744ms\n",
      "923:\tlearn: 0.1840536\ttotal: 8.93s\tremaining: 735ms\n",
      "924:\tlearn: 0.1838110\ttotal: 8.94s\tremaining: 725ms\n",
      "925:\tlearn: 0.1837145\ttotal: 8.95s\tremaining: 715ms\n",
      "926:\tlearn: 0.1835808\ttotal: 8.96s\tremaining: 706ms\n",
      "927:\tlearn: 0.1834535\ttotal: 8.97s\tremaining: 696ms\n",
      "928:\tlearn: 0.1832824\ttotal: 8.98s\tremaining: 687ms\n",
      "929:\tlearn: 0.1831825\ttotal: 8.99s\tremaining: 677ms\n",
      "930:\tlearn: 0.1829793\ttotal: 9s\tremaining: 667ms\n",
      "931:\tlearn: 0.1827279\ttotal: 9.01s\tremaining: 657ms\n",
      "932:\tlearn: 0.1825756\ttotal: 9.02s\tremaining: 648ms\n",
      "933:\tlearn: 0.1824670\ttotal: 9.03s\tremaining: 638ms\n",
      "934:\tlearn: 0.1824176\ttotal: 9.04s\tremaining: 628ms\n",
      "935:\tlearn: 0.1823446\ttotal: 9.05s\tremaining: 619ms\n",
      "936:\tlearn: 0.1822061\ttotal: 9.05s\tremaining: 609ms\n",
      "937:\tlearn: 0.1820652\ttotal: 9.06s\tremaining: 599ms\n",
      "938:\tlearn: 0.1817606\ttotal: 9.07s\tremaining: 589ms\n",
      "939:\tlearn: 0.1816778\ttotal: 9.08s\tremaining: 580ms\n",
      "940:\tlearn: 0.1815957\ttotal: 9.09s\tremaining: 570ms\n",
      "941:\tlearn: 0.1815098\ttotal: 9.1s\tremaining: 560ms\n",
      "942:\tlearn: 0.1812847\ttotal: 9.11s\tremaining: 551ms\n",
      "943:\tlearn: 0.1811368\ttotal: 9.12s\tremaining: 541ms\n",
      "944:\tlearn: 0.1810987\ttotal: 9.13s\tremaining: 531ms\n",
      "945:\tlearn: 0.1807777\ttotal: 9.14s\tremaining: 522ms\n",
      "946:\tlearn: 0.1806486\ttotal: 9.15s\tremaining: 512ms\n",
      "947:\tlearn: 0.1803947\ttotal: 9.16s\tremaining: 502ms\n",
      "948:\tlearn: 0.1802621\ttotal: 9.17s\tremaining: 493ms\n",
      "949:\tlearn: 0.1801620\ttotal: 9.18s\tremaining: 483ms\n",
      "950:\tlearn: 0.1800164\ttotal: 9.19s\tremaining: 473ms\n",
      "951:\tlearn: 0.1798869\ttotal: 9.2s\tremaining: 464ms\n",
      "952:\tlearn: 0.1797897\ttotal: 9.21s\tremaining: 454ms\n",
      "953:\tlearn: 0.1796625\ttotal: 9.22s\tremaining: 445ms\n",
      "954:\tlearn: 0.1795180\ttotal: 9.23s\tremaining: 435ms\n",
      "955:\tlearn: 0.1793684\ttotal: 9.24s\tremaining: 425ms\n",
      "956:\tlearn: 0.1792903\ttotal: 9.25s\tremaining: 416ms\n",
      "957:\tlearn: 0.1792195\ttotal: 9.26s\tremaining: 406ms\n",
      "958:\tlearn: 0.1790125\ttotal: 9.27s\tremaining: 396ms\n",
      "959:\tlearn: 0.1787369\ttotal: 9.28s\tremaining: 387ms\n",
      "960:\tlearn: 0.1786457\ttotal: 9.29s\tremaining: 377ms\n",
      "961:\tlearn: 0.1785548\ttotal: 9.3s\tremaining: 367ms\n",
      "962:\tlearn: 0.1784980\ttotal: 9.31s\tremaining: 358ms\n",
      "963:\tlearn: 0.1784313\ttotal: 9.32s\tremaining: 348ms\n",
      "964:\tlearn: 0.1783194\ttotal: 9.33s\tremaining: 338ms\n",
      "965:\tlearn: 0.1781785\ttotal: 9.33s\tremaining: 329ms\n",
      "966:\tlearn: 0.1781024\ttotal: 9.34s\tremaining: 319ms\n",
      "967:\tlearn: 0.1779263\ttotal: 9.35s\tremaining: 309ms\n",
      "968:\tlearn: 0.1777992\ttotal: 9.36s\tremaining: 300ms\n",
      "969:\tlearn: 0.1777046\ttotal: 9.37s\tremaining: 290ms\n",
      "970:\tlearn: 0.1775242\ttotal: 9.38s\tremaining: 280ms\n",
      "971:\tlearn: 0.1773702\ttotal: 9.39s\tremaining: 270ms\n",
      "972:\tlearn: 0.1772895\ttotal: 9.4s\tremaining: 261ms\n",
      "973:\tlearn: 0.1771052\ttotal: 9.41s\tremaining: 251ms\n",
      "974:\tlearn: 0.1770002\ttotal: 9.42s\tremaining: 241ms\n",
      "975:\tlearn: 0.1768788\ttotal: 9.43s\tremaining: 232ms\n",
      "976:\tlearn: 0.1767828\ttotal: 9.43s\tremaining: 222ms\n",
      "977:\tlearn: 0.1767023\ttotal: 9.44s\tremaining: 212ms\n",
      "978:\tlearn: 0.1765844\ttotal: 9.46s\tremaining: 203ms\n",
      "979:\tlearn: 0.1765002\ttotal: 9.47s\tremaining: 193ms\n",
      "980:\tlearn: 0.1763966\ttotal: 9.47s\tremaining: 184ms\n",
      "981:\tlearn: 0.1762312\ttotal: 9.48s\tremaining: 174ms\n",
      "982:\tlearn: 0.1759626\ttotal: 9.49s\tremaining: 164ms\n",
      "983:\tlearn: 0.1758505\ttotal: 9.5s\tremaining: 154ms\n",
      "984:\tlearn: 0.1756393\ttotal: 9.51s\tremaining: 145ms\n",
      "985:\tlearn: 0.1755162\ttotal: 9.52s\tremaining: 135ms\n",
      "986:\tlearn: 0.1753112\ttotal: 9.53s\tremaining: 125ms\n",
      "987:\tlearn: 0.1752323\ttotal: 9.54s\tremaining: 116ms\n",
      "988:\tlearn: 0.1751371\ttotal: 9.55s\tremaining: 106ms\n",
      "989:\tlearn: 0.1749768\ttotal: 9.56s\tremaining: 96.5ms\n",
      "990:\tlearn: 0.1748441\ttotal: 9.57s\tremaining: 86.9ms\n",
      "991:\tlearn: 0.1747187\ttotal: 9.58s\tremaining: 77.2ms\n",
      "992:\tlearn: 0.1745299\ttotal: 9.59s\tremaining: 67.6ms\n",
      "993:\tlearn: 0.1744504\ttotal: 9.59s\tremaining: 57.9ms\n",
      "994:\tlearn: 0.1743302\ttotal: 9.6s\tremaining: 48.3ms\n",
      "995:\tlearn: 0.1741003\ttotal: 9.61s\tremaining: 38.6ms\n",
      "996:\tlearn: 0.1739296\ttotal: 9.62s\tremaining: 28.9ms\n",
      "997:\tlearn: 0.1738664\ttotal: 9.63s\tremaining: 19.3ms\n",
      "998:\tlearn: 0.1736442\ttotal: 9.64s\tremaining: 9.65ms\n",
      "999:\tlearn: 0.1734673\ttotal: 9.65s\tremaining: 0us\n"
     ]
    },
    {
     "data": {
      "text/plain": [
       "<catboost.core.CatBoostClassifier at 0x12003762dd0>"
      ]
     },
     "execution_count": 41,
     "metadata": {},
     "output_type": "execute_result"
    }
   ],
   "source": [
    "# Definition\n",
    "cb_model = CatBoostClassifier()\n",
    "\n",
    "# Model training\n",
    "cb_model.fit(cb_train, cby_train)\n",
    "\n",
    "# Model Prediction\n",
    "#yhat_cb = cb_model.predict_proba(x_validation)"
   ]
  },
  {
   "cell_type": "code",
   "execution_count": 20,
   "id": "c40365b1",
   "metadata": {
    "ExecuteTime": {
     "end_time": "2023-12-05T22:18:00.605787Z",
     "start_time": "2023-12-05T22:18:00.592843Z"
    }
   },
   "outputs": [
    {
     "data": {
      "text/plain": [
       "0.4734070439173265"
      ]
     },
     "execution_count": 20,
     "metadata": {},
     "output_type": "execute_result"
    }
   ],
   "source": [
    "# Evaluation\n",
    "cb_logloss = mt.log_loss(y_valid, yhat_cb)\n",
    "cb_logloss"
   ]
  },
  {
   "cell_type": "markdown",
   "id": "a742dc95",
   "metadata": {
    "jp-MarkdownHeadingCollapsed": true,
    "tags": []
   },
   "source": [
    "## 9 - HYPERPARAMETER FINE TUNING"
   ]
  },
  {
   "cell_type": "markdown",
   "id": "716cfaef",
   "metadata": {},
   "source": [
    "# 10 - SUBMISSIONS"
   ]
  },
  {
   "cell_type": "code",
   "execution_count": 42,
   "id": "0cc8ef2d",
   "metadata": {
    "ExecuteTime": {
     "end_time": "2023-12-05T22:32:18.623168Z",
     "start_time": "2023-12-05T22:32:18.560910Z"
    }
   },
   "outputs": [],
   "source": [
    "df_test = pd.read_csv('../data/test.csv')"
   ]
  },
  {
   "cell_type": "code",
   "execution_count": 43,
   "id": "928ea9df",
   "metadata": {
    "ExecuteTime": {
     "end_time": "2023-12-05T22:32:19.229475Z",
     "start_time": "2023-12-05T22:32:19.222639Z"
    }
   },
   "outputs": [],
   "source": [
    "## Renomeando as colunas, removendo letras maiusculas e substituindo espacos por _\n",
    "cols_old = ['id', 'N_Days', 'Drug', 'Age', 'Sex', 'Ascites', 'Hepatomegaly', 'Spiders', 'Edema', 'Bilirubin', 'Cholesterol', 'Albumin', 'Copper', 'Alk_Phos', 'SGOT', 'Tryglicerides',\\\n",
    "            'Platelets', 'Prothrombin', 'Stage']\n",
    "\n",
    "snakecase = lambda x: inflection.underscore(x.replace(' ', '_'))\n",
    "cols_new = list( map( snakecase, cols_old ) )\n",
    "\n",
    "df_test.columns = cols_new"
   ]
  },
  {
   "cell_type": "code",
   "execution_count": 44,
   "id": "bd765cd4",
   "metadata": {
    "ExecuteTime": {
     "end_time": "2023-12-05T22:32:20.320355Z",
     "start_time": "2023-12-05T22:32:20.294137Z"
    }
   },
   "outputs": [],
   "source": [
    "df_pred = data_trans(df_test)"
   ]
  },
  {
   "cell_type": "code",
   "execution_count": 45,
   "id": "acc92b52",
   "metadata": {
    "ExecuteTime": {
     "end_time": "2023-12-05T22:32:23.975320Z",
     "start_time": "2023-12-05T22:32:23.953291Z"
    }
   },
   "outputs": [],
   "source": [
    "# Model Prediction\n",
    "yhat_submission = cb_model.predict_proba(df_pred)"
   ]
  },
  {
   "cell_type": "code",
   "execution_count": 47,
   "id": "d58a6ba1",
   "metadata": {
    "ExecuteTime": {
     "end_time": "2023-12-05T22:32:40.832526Z",
     "start_time": "2023-12-05T22:32:40.822855Z"
    }
   },
   "outputs": [],
   "source": [
    "sub_mission = df_test.copy()\n",
    "sub_mission['Status_C'] = yhat_submission[:, 0]\n",
    "sub_mission['Status_CL'] = yhat_submission[:, 1]\n",
    "sub_mission['Status_D'] = yhat_submission[:, 2]"
   ]
  },
  {
   "cell_type": "code",
   "execution_count": 48,
   "id": "ce008fc6",
   "metadata": {
    "ExecuteTime": {
     "end_time": "2023-12-05T22:32:43.493567Z",
     "start_time": "2023-12-05T22:32:43.485744Z"
    }
   },
   "outputs": [],
   "source": [
    "submission = sub_mission[['id','Status_C','Status_CL','Status_D']]"
   ]
  },
  {
   "cell_type": "code",
   "execution_count": 50,
   "id": "4504c016",
   "metadata": {
    "ExecuteTime": {
     "end_time": "2023-12-05T22:32:55.504097Z",
     "start_time": "2023-12-05T22:32:55.449195Z"
    }
   },
   "outputs": [],
   "source": [
    "submission.to_csv(\"submission_three.csv\", index=None, sep=',')"
   ]
  }
 ],
 "metadata": {
  "hide_input": false,
  "kernelspec": {
   "display_name": "Python 3 (ipykernel)",
   "language": "python",
   "name": "python3"
  },
  "language_info": {
   "codemirror_mode": {
    "name": "ipython",
    "version": 3
   },
   "file_extension": ".py",
   "mimetype": "text/x-python",
   "name": "python",
   "nbconvert_exporter": "python",
   "pygments_lexer": "ipython3",
   "version": "3.11.5"
  }
 },
 "nbformat": 4,
 "nbformat_minor": 5
}
